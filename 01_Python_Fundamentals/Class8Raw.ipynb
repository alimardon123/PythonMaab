{
 "cells": [
  {
   "cell_type": "markdown",
   "metadata": {},
   "source": [
    "Class Create qilish"
   ]
  },
  {
   "cell_type": "code",
   "execution_count": 1,
   "metadata": {},
   "outputs": [],
   "source": [
    "class Person:\n",
    "    p = 15\n",
    "    body = 1.50\n",
    "    gender = 'Male'\n",
    "    "
   ]
  },
  {
   "cell_type": "code",
   "execution_count": 3,
   "metadata": {},
   "outputs": [
    {
     "data": {
      "text/plain": [
       "1.5"
      ]
     },
     "execution_count": 3,
     "metadata": {},
     "output_type": "execute_result"
    }
   ],
   "source": [
    "Alimardon = Person()\n",
    "Alimardon.body"
   ]
  },
  {
   "cell_type": "markdown",
   "metadata": {},
   "source": [
    "Parametrli Classlar"
   ]
  },
  {
   "cell_type": "code",
   "execution_count": 9,
   "metadata": {},
   "outputs": [
    {
     "data": {
      "text/plain": [
       "170"
      ]
     },
     "execution_count": 9,
     "metadata": {},
     "output_type": "execute_result"
    }
   ],
   "source": [
    "class Person:\n",
    "    height = 170\n",
    "    def __init__(self, name, age, nation):\n",
    "        self.name = name\n",
    "        self.age = age\n",
    "        self.nation = nation\n",
    "        \n",
    "\n",
    "person1 = Person('John', 18, 'Uzbek')\n",
    "person2 = Person('Ali', 25, 'French')\n",
    "person2.height"
   ]
  },
  {
   "cell_type": "code",
   "execution_count": 21,
   "metadata": {},
   "outputs": [
    {
     "name": "stdout",
     "output_type": "stream",
     "text": [
      "Hello Ali\n",
      "Hello John\n"
     ]
    },
    {
     "data": {
      "text/plain": [
       "Person('John', 18, 'Uzbek')"
      ]
     },
     "execution_count": 21,
     "metadata": {},
     "output_type": "execute_result"
    }
   ],
   "source": [
    "class Person:\n",
    "    height = 170\n",
    "    def __init__(self, name, age, nation):\n",
    "        self.name = name\n",
    "        self.age = age\n",
    "        self.nation = nation\n",
    "\n",
    "    def greet(self):\n",
    "        print('Hello', self.name)\n",
    "\n",
    "    def __repr__(self):\n",
    "        return f\"Person('{self.name}', {self.age}, '{self.nation}')\"        \n",
    "\n",
    "person1 = Person('John', 18, 'Uzbek')\n",
    "person2 = Person('Ali', 25, 'French')\n",
    "\n",
    "person2.greet()\n",
    "Person.greet(person1)\n",
    "person1"
   ]
  },
  {
   "cell_type": "markdown",
   "metadata": {},
   "source": [
    "Product obyekti"
   ]
  },
  {
   "cell_type": "code",
   "execution_count": 23,
   "metadata": {},
   "outputs": [
    {
     "data": {
      "text/plain": [
       "1500"
      ]
     },
     "execution_count": 23,
     "metadata": {},
     "output_type": "execute_result"
    }
   ],
   "source": [
    "class Product:\n",
    "    def __init__(self, name: str, price: float, quantity: int=0):\n",
    "        self.name = name\n",
    "        self.price = price\n",
    "        self.quantity = quantity\n",
    "\n",
    "    def total_price(self):\n",
    "        return self.price  * self.quantity\n",
    "\n",
    "p1 = Product('Phone', 500, 3)\n",
    "p1.total_price()               "
   ]
  },
  {
   "cell_type": "markdown",
   "metadata": {},
   "source": [
    "IsInstance va Assert yordamida parametr typeini cheklash"
   ]
  },
  {
   "cell_type": "code",
   "execution_count": 10,
   "metadata": {},
   "outputs": [
    {
     "data": {
      "text/plain": [
       "[Product('Keybord', 100, 3),\n",
       " Product('Rolex', 300, 3),\n",
       " Product('Laptop', 1500, 2),\n",
       " Product('Mouse', 50, 5),\n",
       " Product('Keybord', 100, 3)]"
      ]
     },
     "execution_count": 10,
     "metadata": {},
     "output_type": "execute_result"
    }
   ],
   "source": [
    "import csv\n",
    "\n",
    "class Product:\n",
    "    pay_rate = 0.9\n",
    "    all = []\n",
    "    def __init__(self, name: str, price: float, quantity: int=0):\n",
    "        # if isinstance(name, str):  \n",
    "        #     self.name = name\n",
    "        # else:\n",
    "        #     raise            \n",
    "        assert isinstance(name, str), \"name must be str\"\n",
    "        assert isinstance(price, int), \"price must be int\"\n",
    "        assert price >= 0, \"price must be greater than 0\"\n",
    "        assert isinstance(quantity, int), \"quantity must be int\"\n",
    "        assert quantity >= 0, \"quantity must be greater than 0\"\n",
    "\n",
    "        self.name = name\n",
    "        self.price = price\n",
    "        self.quantity = quantity\n",
    "\n",
    "        Product.all.append(self)\n",
    "\n",
    "    def total_price(self):\n",
    "        return self.price  * self.quantity\n",
    "\n",
    "    def apply_discount(self):\n",
    "        return self.price * self.pay_rate\n",
    "\n",
    "    @classmethod\n",
    "    def read_from_csv(cls, file):\n",
    "        with open(file, 'r') as f:\n",
    "            reader = csv.DictReader(f)\n",
    "            items = list(reader)\n",
    "\n",
    "        for item in items:\n",
    "            Product(\n",
    "                name=item.get('Name'),\n",
    "                price=int(item.get('Price')),\n",
    "                quantity=int(item.get('Quantity')),\n",
    "            )\n",
    "\n",
    "    def __repr__(self):\n",
    "        return f\"Product('{self.name}', {self.price}, {self.quantity})\"        \n",
    "\n",
    "# p1 = Product('Rolex', 300, 3)\n",
    "# p2 = Product('Laptop', 1500, 2)\n",
    "# p3 = Product('Mouse', 50, 5)\n",
    "# p4 = Product('Keybord', 100, 3)\n",
    "\n",
    "# print(p1.price )\n",
    "# p1.apply_discount()\n",
    "# p1.apply_discount()\n",
    "Product.read_from_csv('Class8Files/products.csv')\n",
    "Product.all\n"
   ]
  },
  {
   "cell_type": "markdown",
   "metadata": {},
   "source": [
    "DictReader Ishlashi"
   ]
  },
  {
   "cell_type": "code",
   "execution_count": 3,
   "metadata": {},
   "outputs": [
    {
     "data": {
      "text/plain": [
       "[{'Name': 'Rolex', 'Price': '300', 'Quantity': '3'},\n",
       " {'Name': 'Laptop', 'Price': '1500', 'Quantity': '2'},\n",
       " {'Name': 'Mouse', 'Price': '50', 'Quantity': '5'},\n",
       " {'Name': 'Keybord', 'Price': '100', 'Quantity': '3'}]"
      ]
     },
     "execution_count": 3,
     "metadata": {},
     "output_type": "execute_result"
    }
   ],
   "source": [
    "import csv\n",
    "\n",
    "with open('Class8Files/products.csv', 'r') as f:\n",
    "            reader = csv.DictReader(f)\n",
    "            reader = list(reader)\n",
    "reader            "
   ]
  },
  {
   "cell_type": "markdown",
   "metadata": {},
   "source": [
    "Pandas"
   ]
  },
  {
   "cell_type": "code",
   "execution_count": 6,
   "metadata": {},
   "outputs": [
    {
     "name": "stdout",
     "output_type": "stream",
     "text": [
      "      Name  Price  Quantity\n",
      "0    Rolex    300         3\n",
      "1   Laptop   1500         2\n",
      "2    Mouse     50         5\n",
      "3  Keybord    100         3\n"
     ]
    }
   ],
   "source": [
    "import pandas\n",
    "df = pandas.read_csv('Class8Files/products.csv')\n",
    "print(df)\n"
   ]
  },
  {
   "cell_type": "markdown",
   "metadata": {},
   "source": [
    "Csv Fayllarni o'zimiz o'qishimiz"
   ]
  },
  {
   "cell_type": "code",
   "execution_count": 3,
   "metadata": {},
   "outputs": [
    {
     "name": "stdout",
     "output_type": "stream",
     "text": [
      "[{'Name': 'Rolex', 'Price': '300', 'Quantity': '3'}, {'Name': 'Laptop', 'Price': '1500', 'Quantity': '2'}, {'Name': 'Mouse', 'Price': '50', 'Quantity': '5'}, {'Name': 'Keybord', 'Price': '100', 'Quantity': '3'}]\n"
     ]
    }
   ],
   "source": [
    "with open('Class8Files/products.csv', 'r') as f:\n",
    "    keys = f.readline().removesuffix('\\n').split(',')\n",
    "    items = [{key: value for key, value in zip(keys, row.removesuffix('\\n').split(','))} for row in f]\n",
    "print(items)    "
   ]
  },
  {
   "cell_type": "code",
   "execution_count": null,
   "metadata": {},
   "outputs": [],
   "source": []
  }
 ],
 "metadata": {
  "kernelspec": {
   "display_name": "Python 3.10.6 64-bit",
   "language": "python",
   "name": "python3"
  },
  "language_info": {
   "codemirror_mode": {
    "name": "ipython",
    "version": 3
   },
   "file_extension": ".py",
   "mimetype": "text/x-python",
   "name": "python",
   "nbconvert_exporter": "python",
   "pygments_lexer": "ipython3",
   "version": "3.10.6"
  },
  "orig_nbformat": 4,
  "vscode": {
   "interpreter": {
    "hash": "fb4569285eef3a3450cb62085a5b1e0da4bce0af555edc33dcf29baf3acc1368"
   }
  }
 },
 "nbformat": 4,
 "nbformat_minor": 2
}
