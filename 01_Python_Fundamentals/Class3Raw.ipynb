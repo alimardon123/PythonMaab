{
 "cells": [
  {
   "cell_type": "markdown",
   "metadata": {},
   "source": [
    "1 - masala"
   ]
  },
  {
   "cell_type": "code",
   "execution_count": 15,
   "metadata": {},
   "outputs": [
    {
     "name": "stdout",
     "output_type": "stream",
     "text": [
      "5.0000000000 ni 00006 ga qo'shsak 11 bo'ladi.\n"
     ]
    }
   ],
   "source": [
    "x = 5\n",
    "y = 6 \n",
    "z = x + y\n",
    "print(f\"{x:>5.10f} ni {y:05d} ga qo'shsak {z} bo'ladi.\")"
   ]
  },
  {
   "cell_type": "markdown",
   "metadata": {},
   "source": [
    "2 - masala"
   ]
  },
  {
   "cell_type": "code",
   "execution_count": 22,
   "metadata": {},
   "outputs": [
    {
     "data": {
      "text/plain": [
       "\"5 ni 6 ga qo'shsak 11 bo'ladi.\""
      ]
     },
     "execution_count": 22,
     "metadata": {},
     "output_type": "execute_result"
    }
   ],
   "source": [
    "\"{} ni {} ga qo'shsak {} bo'ladi.\".format(x, y, z)"
   ]
  },
  {
   "cell_type": "code",
   "execution_count": 24,
   "metadata": {},
   "outputs": [
    {
     "name": "stdout",
     "output_type": "stream",
     "text": [
      "2 is Tub son.\n",
      "3 is Tub son.\n",
      "4 soni 2 soniga bo'linadi.\n",
      "5 is Tub son.\n",
      "6 soni 2 soniga bo'linadi.\n",
      "7 is Tub son.\n",
      "8 soni 2 soniga bo'linadi.\n",
      "9 soni 3 soniga bo'linadi.\n",
      "10 soni 2 soniga bo'linadi.\n",
      "11 is Tub son.\n",
      "12 soni 2 soniga bo'linadi.\n",
      "13 is Tub son.\n",
      "14 soni 2 soniga bo'linadi.\n",
      "15 soni 3 soniga bo'linadi.\n"
     ]
    }
   ],
   "source": [
    "for n in range (2,15+1):\n",
    "    for x in range(2, n):\n",
    "        if n % x == 0:\n",
    "            print(f\"{n} soni {x} soniga bo'linadi.\")\n",
    "            break\n",
    "    else:\n",
    "        print(f\"{n} is Tub son.\")"
   ]
  }
 ],
 "metadata": {
  "kernelspec": {
   "display_name": "Python 3.10.6 64-bit",
   "language": "python",
   "name": "python3"
  },
  "language_info": {
   "codemirror_mode": {
    "name": "ipython",
    "version": 3
   },
   "file_extension": ".py",
   "mimetype": "text/x-python",
   "name": "python",
   "nbconvert_exporter": "python",
   "pygments_lexer": "ipython3",
   "version": "3.10.6"
  },
  "orig_nbformat": 4,
  "vscode": {
   "interpreter": {
    "hash": "fb4569285eef3a3450cb62085a5b1e0da4bce0af555edc33dcf29baf3acc1368"
   }
  }
 },
 "nbformat": 4,
 "nbformat_minor": 2
}
