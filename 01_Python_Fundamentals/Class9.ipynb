{
 "cells": [
  {
   "cell_type": "markdown",
   "metadata": {},
   "source": [
    "1. CustomRange Iterator"
   ]
  },
  {
   "cell_type": "code",
   "execution_count": 3,
   "metadata": {},
   "outputs": [],
   "source": [
    "class CustomRange:\n",
    "    def __init__(self, startval, endval, step=1):\n",
    "        self.startvalue = startval\n",
    "        self.endval = endval\n",
    "        self.step =step\n",
    "\n",
    "    def __iter__(self):\n",
    "        return self\n",
    "\n",
    "    def __next__(self):\n",
    "        if self.startvalue < self.endval:\n",
    "            n = self.startvalue\n",
    "            self.startvalue +=self.step\n",
    "            return n\n",
    "        else:\n",
    "            raise StopIteration                      \n",
    "    "
   ]
  },
  {
   "cell_type": "code",
   "execution_count": 9,
   "metadata": {},
   "outputs": [
    {
     "name": "stdout",
     "output_type": "stream",
     "text": [
      "0\n",
      "2\n",
      "4\n",
      "6\n",
      "8\n"
     ]
    }
   ],
   "source": [
    "rang = CustomRange(0, 10, 2)\n",
    "for i in rang:\n",
    "    print(i)"
   ]
  },
  {
   "cell_type": "markdown",
   "metadata": {},
   "source": [
    "2.custome_range Generator"
   ]
  },
  {
   "cell_type": "code",
   "execution_count": 11,
   "metadata": {},
   "outputs": [],
   "source": [
    "def custome_range(start, end, step = 1):\n",
    "    while start < end:\n",
    "        yield start\n",
    "        start +=step"
   ]
  },
  {
   "cell_type": "code",
   "execution_count": 13,
   "metadata": {},
   "outputs": [
    {
     "name": "stdout",
     "output_type": "stream",
     "text": [
      "0\n",
      "1\n",
      "2\n",
      "3\n",
      "4\n",
      "5\n",
      "6\n",
      "7\n",
      "8\n",
      "9\n",
      "10\n",
      "11\n",
      "12\n",
      "13\n",
      "14\n"
     ]
    }
   ],
   "source": [
    "for i in custome_range(0, 15):\n",
    "    print(i)"
   ]
  },
  {
   "cell_type": "markdown",
   "metadata": {},
   "source": [
    "2. Date Class"
   ]
  },
  {
   "cell_type": "code",
   "execution_count": 24,
   "metadata": {},
   "outputs": [
    {
     "name": "stdout",
     "output_type": "stream",
     "text": [
      "January 15, 1995\n"
     ]
    }
   ],
   "source": [
    "class Date:\n",
    "\n",
    "    def __init__(self, day : int, month : int, year : int):\n",
    "        \n",
    "        assert isinstance(day, int) and (32>day > 0), \"Noto'g'ri kun kiritilgan\"\n",
    "        assert isinstance(month, int) and (13>month>0), \"Noto'g'ri oy kiritilgan\"\n",
    "        assert isinstance(year, int), \"Noto'g'ri yil kiritilgan, Yilni son bilan kiriting\"\n",
    "        \n",
    "        self.day=day\n",
    "        self.month = month\n",
    "        self.year = year\n",
    "        \n",
    "        match self.month:\n",
    "            case 1:\n",
    "                self.MonthName = 'January'\n",
    "            case 2:\n",
    "                self.MonthName = 'February'\n",
    "            case 3:\n",
    "                self.MonthName = 'March'                                \n",
    "            case 4:\n",
    "                self.MonthName = 'April'                                \n",
    "            case 5:\n",
    "                self.MonthName = 'May'                                \n",
    "            case 6:\n",
    "                self.MonthName = 'June'                                \n",
    "            case 7:\n",
    "                self.MonthName = 'July'                                \n",
    "            case 8:\n",
    "                self.MonthName = 'August'                                \n",
    "            case 9:\n",
    "                self.MonthName = 'September'                                \n",
    "            case 10:\n",
    "                self.MonthName = 'October'                                \n",
    "            case 11:\n",
    "                self.MonthName = 'November'                                \n",
    "            case 12:\n",
    "                self.MonthName = 'December'\n",
    "\n",
    "    def P_NumericForm(self):\n",
    "        print(f\"{self.month}/{self.day}/{self.year}\")\n",
    "\n",
    "    def P_MonthFirst(self):\n",
    "        print(f\"{self.MonthName} {self.day}, {self.year}\")        \n",
    "\n",
    "    def P_DayFirst(self):\n",
    "        print(self.day, self.MonthName, self.year)     \n",
    "\n",
    "birthdate = Date(15, 1, 1995)\n",
    "\n",
    "birthdate.P_MonthFirst()\n",
    "\n",
    "\n",
    "    "
   ]
  },
  {
   "cell_type": "markdown",
   "metadata": {},
   "source": [
    "3. Car class"
   ]
  },
  {
   "cell_type": "code",
   "execution_count": 25,
   "metadata": {},
   "outputs": [
    {
     "data": {
      "text/plain": [
       "0"
      ]
     },
     "execution_count": 25,
     "metadata": {},
     "output_type": "execute_result"
    }
   ],
   "source": [
    "class Car:\n",
    "\n",
    "    def __init__(self, yearModel : int, make : str):\n",
    "        self.yearModel = yearModel\n",
    "        self.make = make\n",
    "        self.speed = 0\n",
    "\n",
    "    def accelerate(self):\n",
    "        self.speed +=5\n",
    "\n",
    "    def brake(self):\n",
    "        self.speed -=5\n",
    "\n",
    "car = Car(2009, 'Ford')\n",
    "\n",
    "print(car.speed)"
   ]
  },
  {
   "cell_type": "code",
   "execution_count": 37,
   "metadata": {},
   "outputs": [],
   "source": [
    "car.brake()"
   ]
  },
  {
   "cell_type": "code",
   "execution_count": 38,
   "metadata": {},
   "outputs": [
    {
     "name": "stdout",
     "output_type": "stream",
     "text": [
      "0\n"
     ]
    }
   ],
   "source": [
    "print(car.speed)"
   ]
  },
  {
   "cell_type": "markdown",
   "metadata": {},
   "source": [
    "4 RetailItem Class"
   ]
  },
  {
   "cell_type": "code",
   "execution_count": 39,
   "metadata": {},
   "outputs": [],
   "source": [
    "class RetailItem:\n",
    "\n",
    "    def __init__(self, Description : str, UnitsOnHand :int, Price : float):\n",
    "        self.Description = Description\n",
    "        self.UnitsOnHand = UnitsOnHand\n",
    "        self.Price = Price"
   ]
  },
  {
   "cell_type": "code",
   "execution_count": 41,
   "metadata": {},
   "outputs": [
    {
     "data": {
      "text/plain": [
       "'Jacket'"
      ]
     },
     "execution_count": 41,
     "metadata": {},
     "output_type": "execute_result"
    }
   ],
   "source": [
    "item1 =RetailItem('Jacket', 12, 59.95)\n",
    "item2 =RetailItem('Designer Jeans', 40, 34.95)\n",
    "item3 =RetailItem('Shirt', 20, 24.95)"
   ]
  },
  {
   "cell_type": "markdown",
   "metadata": {},
   "source": [
    "5. Check decorator funksiya"
   ]
  },
  {
   "cell_type": "code",
   "execution_count": 52,
   "metadata": {},
   "outputs": [],
   "source": [
    "def check(func):\n",
    "    def inner(a, b):\n",
    "        if b == 0:\n",
    "            return \"Denominator can't be zero\"\n",
    "        else:\n",
    "            return func(a, b)        \n",
    "    return inner                                   "
   ]
  },
  {
   "cell_type": "code",
   "execution_count": 55,
   "metadata": {},
   "outputs": [
    {
     "data": {
      "text/plain": [
       "3.0"
      ]
     },
     "execution_count": 55,
     "metadata": {},
     "output_type": "execute_result"
    }
   ],
   "source": [
    "@check\n",
    "def div(a, b):\n",
    "    return a / b\n",
    "\n",
    "div(6, 2)"
   ]
  },
  {
   "cell_type": "markdown",
   "metadata": {},
   "source": []
  }
 ],
 "metadata": {
  "kernelspec": {
   "display_name": "Python 3.10.6 64-bit",
   "language": "python",
   "name": "python3"
  },
  "language_info": {
   "codemirror_mode": {
    "name": "ipython",
    "version": 3
   },
   "file_extension": ".py",
   "mimetype": "text/x-python",
   "name": "python",
   "nbconvert_exporter": "python",
   "pygments_lexer": "ipython3",
   "version": "3.10.6"
  },
  "orig_nbformat": 4,
  "vscode": {
   "interpreter": {
    "hash": "fb4569285eef3a3450cb62085a5b1e0da4bce0af555edc33dcf29baf3acc1368"
   }
  }
 },
 "nbformat": 4,
 "nbformat_minor": 2
}
