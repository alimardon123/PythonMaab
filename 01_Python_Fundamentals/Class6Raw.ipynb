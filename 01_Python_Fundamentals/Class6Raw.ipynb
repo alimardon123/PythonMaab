{
 "cells": [
  {
   "cell_type": "markdown",
   "metadata": {},
   "source": [
    "R   read uchun"
   ]
  },
  {
   "cell_type": "code",
   "execution_count": 5,
   "metadata": {},
   "outputs": [
    {
     "name": "stdout",
     "output_type": "stream",
     "text": [
      "Ha\n",
      " z\n"
     ]
    }
   ],
   "source": [
    "# 1.\n",
    "f = open('Class6Files/hello.txt', mode='r')\n",
    "\n",
    "# 2\n",
    "\n",
    "print(f.read(2))\n",
    "print(f.read(2))\n",
    "\n",
    "# 3 \n",
    "f.close()\n"
   ]
  },
  {
   "cell_type": "markdown",
   "metadata": {},
   "source": [
    "W write uchun"
   ]
  },
  {
   "cell_type": "code",
   "execution_count": 72,
   "metadata": {},
   "outputs": [],
   "source": [
    "f = open('Class6Files/newfile.dat', mode='w')  # 'w' ni o'zini yozsa ham bo'ladi\n",
    "f.write(f'{str(1)}\\n')\n",
    "f.write(f'{str(2)}\\n')\n",
    "f.write(f'{str(3)}\\n')\n",
    "f.close()"
   ]
  },
  {
   "cell_type": "code",
   "execution_count": 74,
   "metadata": {},
   "outputs": [],
   "source": [
    "f_r = open('Class6Files/newfile.dat', 'r')\n",
    "f_w = open('Class6Files/square.txt', 'w')\n",
    "\n",
    "x = f_r.readline()\n",
    "x = int(x.removesuffix('\\n'))\n",
    "f_w.write(f'{str(x**2)}\\n')\n",
    "\n",
    "x = f_r.readline()\n",
    "x = int(x.removesuffix('\\n'))\n",
    "f_w.write(f'{str(x**2)}\\n')\n",
    "\n",
    "x = f_r.readline()\n",
    "x = int(x.removesuffix('\\n'))\n",
    "f_w.write(f'{str(x**2)}\\n')\n",
    "\n",
    "f_r.close()\n",
    "f_w.close()"
   ]
  },
  {
   "cell_type": "code",
   "execution_count": 76,
   "metadata": {},
   "outputs": [],
   "source": [
    "f_r = open('Class6Files/newfile.dat', 'r')\n",
    "f_w = open('Class6Files/square.txt', 'w')\n",
    "\n",
    "for row in f_r:\n",
    "    x = int(row.removesuffix('\\n'))\n",
    "    f_w.write(f'{str(x**2)}\\n')\n",
    "    \n",
    "f_r.close()\n",
    "f_w.close()"
   ]
  },
  {
   "cell_type": "markdown",
   "metadata": {},
   "source": [
    "a append qilish uchun"
   ]
  },
  {
   "cell_type": "code",
   "execution_count": 77,
   "metadata": {},
   "outputs": [],
   "source": [
    "f_a = open('Class6Files/square.txt', 'a')\n",
    "\n",
    "f_a.write('96')\n",
    "\n",
    "f_a.close()"
   ]
  },
  {
   "cell_type": "markdown",
   "metadata": {},
   "source": [
    "r+ read and write qilish uchun"
   ]
  },
  {
   "cell_type": "code",
   "execution_count": 78,
   "metadata": {},
   "outputs": [
    {
     "data": {
      "text/plain": [
       "['1\\n', '4\\n', '25\\n', '96']"
      ]
     },
     "execution_count": 78,
     "metadata": {},
     "output_type": "execute_result"
    }
   ],
   "source": [
    "f = open('Class6Files/square.txt', 'r+')\n",
    "\n",
    "lines = f.readlines()\n",
    "\n",
    "f.close()\n",
    "\n",
    "lines"
   ]
  },
  {
   "cell_type": "markdown",
   "metadata": {},
   "source": [
    "Binary fayllar bilan ishlash uchun modelar"
   ]
  },
  {
   "cell_type": "code",
   "execution_count": 79,
   "metadata": {},
   "outputs": [],
   "source": [
    "f = open('Class6Files/planets.jpg', 'br')\n",
    "new_img = open('Class6Files/Myimage.bmp', 'bw')\n",
    "\n",
    "x = f.read()\n",
    "new_img.write(x)\n",
    "\n",
    "f.close()\n",
    "new_img.close()"
   ]
  },
  {
   "cell_type": "markdown",
   "metadata": {},
   "source": [
    "With method, seek(), tell()"
   ]
  },
  {
   "cell_type": "code",
   "execution_count": 104,
   "metadata": {},
   "outputs": [
    {
     "name": "stdout",
     "output_type": "stream",
     "text": [
      "3\n",
      "0\n"
     ]
    },
    {
     "data": {
      "text/plain": [
       "'1\\n'"
      ]
     },
     "execution_count": 104,
     "metadata": {},
     "output_type": "execute_result"
    }
   ],
   "source": [
    "with open('Class6Files/square.txt') as f:\n",
    "    row = f.readline()\n",
    "    print(f.tell())\n",
    "    f.seek(0)\n",
    "    print(f.tell())\n",
    "row    \n",
    "    "
   ]
  },
  {
   "cell_type": "code",
   "execution_count": 1,
   "metadata": {},
   "outputs": [
    {
     "name": "stdout",
     "output_type": "stream",
     "text": [
      "1\n",
      "2\n",
      "5\n",
      "\n"
     ]
    }
   ],
   "source": [
    "with open('Class6Files/newfile.dat') as f:\n",
    "    print(f.read())"
   ]
  },
  {
   "cell_type": "code",
   "execution_count": 1,
   "metadata": {},
   "outputs": [
    {
     "name": "stdout",
     "output_type": "stream",
     "text": [
      "Requirement already satisfied: pywin32 in c:\\users\\user\\appdata\\local\\programs\\python\\python310\\lib\\site-packages (304)\n",
      "Note: you may need to restart the kernel to use updated packages.\n"
     ]
    },
    {
     "name": "stderr",
     "output_type": "stream",
     "text": [
      "\n",
      "[notice] A new release of pip available: 22.2.1 -> 22.3.1\n",
      "[notice] To update, run: python.exe -m pip install --upgrade pip\n"
     ]
    }
   ],
   "source": [
    "pip install pywin32"
   ]
  },
  {
   "cell_type": "code",
   "execution_count": 2,
   "metadata": {},
   "outputs": [],
   "source": [
    "import win32com.client as win32\n",
    "outlook = win32.Dispatch('outlook.application')\n",
    "mail = outlook.CreateItem(0)\n",
    "mail.To = 'investoruz00@gmail.com'\n",
    "mail.Subject = 'Learning python'\n",
    "mail.Body = 'Hello qanday'\n",
    "mail.Send()"
   ]
  },
  {
   "cell_type": "code",
   "execution_count": 2,
   "metadata": {},
   "outputs": [],
   "source": [
    "import win32com.client as win32\n",
    "outlook = win32.Dispatch('outlook.Application')\n",
    "\n",
    "with open('Class6Files/taklif.txt') as t:\n",
    "    msg = t.read()\n",
    "\n",
    "with open('Class6Files/Emails.txt') as emails:\n",
    "    for row in emails:\n",
    "        row = row.removesuffix('\\n')\n",
    "        name, email = row.split(',')\n",
    "        mail = outlook.CreateItem(0)\n",
    "        mail.To = email\n",
    "        mail.Subject = 'Taklifnoma'\n",
    "        mail.Body = msg.replace('___', name)\n",
    "        mail.Send()"
   ]
  },
  {
   "cell_type": "code",
   "execution_count": null,
   "metadata": {},
   "outputs": [],
   "source": []
  }
 ],
 "metadata": {
  "kernelspec": {
   "display_name": "Python 3.10.6 64-bit",
   "language": "python",
   "name": "python3"
  },
  "language_info": {
   "codemirror_mode": {
    "name": "ipython",
    "version": 3
   },
   "file_extension": ".py",
   "mimetype": "text/x-python",
   "name": "python",
   "nbconvert_exporter": "python",
   "pygments_lexer": "ipython3",
   "version": "3.10.6"
  },
  "orig_nbformat": 4,
  "vscode": {
   "interpreter": {
    "hash": "fb4569285eef3a3450cb62085a5b1e0da4bce0af555edc33dcf29baf3acc1368"
   }
  }
 },
 "nbformat": 4,
 "nbformat_minor": 2
}
