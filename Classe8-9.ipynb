{
 "cells": [
  {
   "cell_type": "markdown",
   "metadata": {},
   "source": [
    "Inheretance of Class"
   ]
  },
  {
   "cell_type": "code",
   "execution_count": 3,
   "metadata": {},
   "outputs": [
    {
     "name": "stdout",
     "output_type": "stream",
     "text": [
      "Hello. My name is John\n",
      "Hello. My name is Ab\n"
     ]
    }
   ],
   "source": [
    "class Person:\n",
    "    def __init__(self, id, name, age):\n",
    "        self.id = id\n",
    "        self.name = name\n",
    "        self.age = age\n",
    "    def greet(self):\n",
    "        print('Hello. My name is', self.name)\n",
    "\n",
    "class Employee(Person):\n",
    "    pass\n",
    "\n",
    "p1 = Person(1, 'John', 30)\n",
    "p1.greet()\n",
    "\n",
    "p2 = Employee(2, 'Ab', 25)\n",
    "p2.greet()"
   ]
  },
  {
   "cell_type": "markdown",
   "metadata": {},
   "source": [
    "Inheritance with our own init"
   ]
  },
  {
   "cell_type": "code",
   "execution_count": 6,
   "metadata": {},
   "outputs": [
    {
     "data": {
      "text/plain": [
       "250"
      ]
     },
     "execution_count": 6,
     "metadata": {},
     "output_type": "execute_result"
    }
   ],
   "source": [
    "class Person:\n",
    "    def __init__(self, id, name, age):\n",
    "        self.id = id\n",
    "        self.name = name\n",
    "        self.age = age\n",
    "    def greet(self):\n",
    "        print('Hello. My name is', self.name)\n",
    "\n",
    "class Employee(Person):\n",
    "    def __init__(self, id, name, age, salary = 0):\n",
    "        Person.__init__(self, id, name, age)\n",
    "        self.salary = salary\n",
    "\n",
    "p1 = Person(1, 'John', 30)\n",
    "# p1.greet()\n",
    "\n",
    "p2 = Employee(2, 'Ab', 25, 250)\n",
    "# p2.greet()\n",
    "p2.salary"
   ]
  },
  {
   "cell_type": "markdown",
   "metadata": {},
   "source": [
    "Animal Class"
   ]
  },
  {
   "cell_type": "code",
   "execution_count": 8,
   "metadata": {},
   "outputs": [
    {
     "name": "stdout",
     "output_type": "stream",
     "text": [
      "I'm running.\n",
      "I'm swimming.\n"
     ]
    }
   ],
   "source": [
    "class Animal:\n",
    "\n",
    "    def __init__(self, name, age):\n",
    "        self.name = name\n",
    "        self.age = age\n",
    "\n",
    "    def run(self):\n",
    "        print(\"I'm running.\")\n",
    "\n",
    "class Dog(Animal):\n",
    "\n",
    "    def swim(self):\n",
    "        print(\"I'm swimming.\")\n",
    "\n",
    "\n",
    "d1 = Dog('Hati', 2)\n",
    "\n",
    "d1.run()\n",
    "d1.swim()"
   ]
  },
  {
   "cell_type": "markdown",
   "metadata": {},
   "source": [
    "Polygon Classi va Triangle"
   ]
  },
  {
   "cell_type": "code",
   "execution_count": 11,
   "metadata": {},
   "outputs": [
    {
     "name": "stdout",
     "output_type": "stream",
     "text": [
      "1-tomoni =  3.0\n",
      "2-tomoni =  4.0\n",
      "3-tomoni =  5.0\n"
     ]
    },
    {
     "data": {
      "text/plain": [
       "6.0"
      ]
     },
     "execution_count": 11,
     "metadata": {},
     "output_type": "execute_result"
    }
   ],
   "source": [
    "class Polygon:\n",
    "    def __init__(self, number_of_sides):\n",
    "        self.n = number_of_sides\n",
    "        self.sides = [0 for _ in range(number_of_sides)]\n",
    "    \n",
    "    def inputSides(self):\n",
    "        self.sides = [ float(input(f\"{i+1}-tomonni kiriting: \")) for i in range(self.n)]\n",
    "\n",
    "    def outputSides(self):\n",
    "        for i in range(self.n):\n",
    "            print(f\"{i+1}-tomoni = \", self.sides[i])\n",
    "\n",
    "\n",
    "class Triangle(Polygon):\n",
    "    def __init__(self):\n",
    "        super().__init__(3)\n",
    "\n",
    "    def findArea(self):\n",
    "        return (self.sides[0] * self.sides[1])/2\n",
    "\n",
    "\n",
    "class Rectangle(Polygon):\n",
    "    def __init__(self):\n",
    "        super().__init__(4)\n",
    "\n",
    "    def findArea(self):\n",
    "        return self.sides[0] * self.sides[1]    \n",
    "\n",
    "p1 = Triangle()\n",
    "p1.inputSides()\n",
    "p1.outputSides()\n",
    "p1.findArea()  "
   ]
  },
  {
   "cell_type": "markdown",
   "metadata": {},
   "source": [
    "Ikkita Class ni Inheret qilib olish"
   ]
  },
  {
   "cell_type": "code",
   "execution_count": null,
   "metadata": {},
   "outputs": [],
   "source": [
    "class A:\n",
    "    def fun():\n",
    "        pass\n",
    "\n",
    "class B:\n",
    "    def fun():\n",
    "        pass\n",
    "\n",
    "class C(A, B):\n",
    "    pass"
   ]
  },
  {
   "cell_type": "markdown",
   "metadata": {},
   "source": [
    "Magic Methods"
   ]
  },
  {
   "cell_type": "markdown",
   "metadata": {},
   "source": [
    "Add"
   ]
  },
  {
   "cell_type": "code",
   "execution_count": 15,
   "metadata": {},
   "outputs": [
    {
     "name": "stdout",
     "output_type": "stream",
     "text": [
      "5 9\n"
     ]
    }
   ],
   "source": [
    "class Point:\n",
    "    def __init__(self, x, y):\n",
    "        self.x = x\n",
    "        self.y = y\n",
    "\n",
    "    def __add__(self, other):\n",
    "        x = self.x + other.x\n",
    "        y = self.y + other.y\n",
    "        return Point(x, y)\n",
    "p1 = Point(3, 4)\n",
    "p2 = Point(2, 5)\n",
    "p3 = p1 + p2\n",
    "print(p3.x, p3.y)"
   ]
  },
  {
   "cell_type": "markdown",
   "metadata": {},
   "source": [
    "Greater than >"
   ]
  },
  {
   "cell_type": "code",
   "execution_count": 18,
   "metadata": {},
   "outputs": [
    {
     "name": "stdout",
     "output_type": "stream",
     "text": [
      "False\n"
     ]
    }
   ],
   "source": [
    "class Person:\n",
    "    def __init__(self, id, name, age):\n",
    "        self.id = id\n",
    "        self.name = name\n",
    "        self.age = age\n",
    "    def greet(self):\n",
    "        print('Hello. My name is', self.name)\n",
    "\n",
    "    def __gt__(self, other):\n",
    "        return self.age > other.age  \n",
    "\n",
    "class Employee(Person):\n",
    "    def __init__(self, id, name, age, salary = 0):\n",
    "        Person.__init__(self, id, name, age)\n",
    "        self.salary = salary\n",
    "\n",
    "p1 = Person(1, 'John', 30)\n",
    "# p1.greet()\n",
    "\n",
    "p2 = Employee(2, 'Ab', 25, 250)\n",
    "# p2.greet()\n",
    "print(p1 < p2)"
   ]
  },
  {
   "cell_type": "markdown",
   "metadata": {},
   "source": [
    "NamedTupples"
   ]
  },
  {
   "cell_type": "code",
   "execution_count": 32,
   "metadata": {},
   "outputs": [
    {
     "name": "stdout",
     "output_type": "stream",
     "text": [
      "Card(rank='5', suit='Tappon')\n",
      "Card(rank='5', suit='Tappon')\n",
      "Card(rank=15, suit='Tappon')\n",
      "5\n"
     ]
    }
   ],
   "source": [
    "from collections import namedtuple\n",
    "\n",
    "Card = namedtuple('Card', ['rank', 'suit'])\n",
    "c1 = Card('5', 'Tappon')\n",
    "print(c1)\n",
    "\n",
    "c2 = c1._replace(rank=15)\n",
    "c3 = c1._asdict()\n",
    "\n",
    "print(c1)\n",
    "print(c2)\n",
    "print(c3['rank'])\n",
    "\n",
    "\n"
   ]
  },
  {
   "cell_type": "markdown",
   "metadata": {},
   "source": [
    "Kartalar pachkasini clasini yaratish"
   ]
  },
  {
   "cell_type": "code",
   "execution_count": 35,
   "metadata": {},
   "outputs": [
    {
     "name": "stdout",
     "output_type": "stream",
     "text": [
      "52\n",
      "Card(rank='2', suit='Diamonds')\n"
     ]
    }
   ],
   "source": [
    "from collections import namedtuple\n",
    "\n",
    "Card = namedtuple('Card', ['rank', 'suit'])\n",
    "\n",
    "class CardDesc:\n",
    "    ranks = [str(i) for i in range(2,11)] + list('JQKA')\n",
    "    suits = ['Spades', 'Hearts', 'Diamonds', 'Black']\n",
    "\n",
    "    def __init__(self):\n",
    "        self.cards = [Card(rank, suit) for rank in self.ranks\n",
    "                                        for suit in self.suits]\n",
    "\n",
    "    def __len__(self):\n",
    "        return len(self.cards)\n",
    "\n",
    "    def __getitem__(self, pos):\n",
    "        return self.cards[pos]\n",
    "\n",
    "k = CardDesc()\n",
    "\n",
    "print(len(k))\n",
    "print(k[2])"
   ]
  },
  {
   "cell_type": "code",
   "execution_count": null,
   "metadata": {},
   "outputs": [],
   "source": []
  }
 ],
 "metadata": {
  "kernelspec": {
   "display_name": "Python 3.10.6 64-bit",
   "language": "python",
   "name": "python3"
  },
  "language_info": {
   "codemirror_mode": {
    "name": "ipython",
    "version": 3
   },
   "file_extension": ".py",
   "mimetype": "text/x-python",
   "name": "python",
   "nbconvert_exporter": "python",
   "pygments_lexer": "ipython3",
   "version": "3.10.6"
  },
  "orig_nbformat": 4,
  "vscode": {
   "interpreter": {
    "hash": "fb4569285eef3a3450cb62085a5b1e0da4bce0af555edc33dcf29baf3acc1368"
   }
  }
 },
 "nbformat": 4,
 "nbformat_minor": 2
}
