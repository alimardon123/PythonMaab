{
 "cells": [
  {
   "cell_type": "markdown",
   "metadata": {},
   "source": [
    "1"
   ]
  },
  {
   "cell_type": "code",
   "execution_count": 9,
   "metadata": {},
   "outputs": [],
   "source": [
    "with open('Class6Files/inputfile.txt') as f:\n",
    "    record = f.readlines()\n",
    "record = list(map(lambda x: x.removesuffix('\\n').split(','), record))\n",
    "record = sorted(record, key= lambda x: int(x[1]), reverse=True)\n",
    "\n",
    "with open('Class6Files/outputFile.txt', 'w') as out:\n",
    "    for name, score in record:\n",
    "        out.write(f'{name},{score}\\n')\n",
    "\n"
   ]
  },
  {
   "cell_type": "markdown",
   "metadata": {},
   "source": [
    "2"
   ]
  },
  {
   "cell_type": "code",
   "execution_count": null,
   "metadata": {},
   "outputs": [],
   "source": [
    "import random\n",
    "random_number = random.randint(1,100)\n",
    "while random_number != (x := int(input('Sonni kiriting: '))):\n",
    "    if x > random_number:\n",
    "        print('Too high, try again.')\n",
    "    else:\n",
    "        print('Too low, try again.')\n",
    "print('Correct')"
   ]
  },
  {
   "cell_type": "markdown",
   "metadata": {},
   "source": [
    "Fayllarni ochishda X mode. Bunda Agar fayl mavjud bo'lsa error beradi. Bo'lmasa create qiladi"
   ]
  },
  {
   "cell_type": "code",
   "execution_count": 11,
   "metadata": {},
   "outputs": [
    {
     "ename": "FileExistsError",
     "evalue": "[Errno 17] File exists: 'Class6Files/inputfile.txt'",
     "output_type": "error",
     "traceback": [
      "\u001b[1;31m---------------------------------------------------------------------------\u001b[0m",
      "\u001b[1;31mFileExistsError\u001b[0m                           Traceback (most recent call last)",
      "Cell \u001b[1;32mIn [11], line 1\u001b[0m\n\u001b[1;32m----> 1\u001b[0m \u001b[38;5;28;01mwith\u001b[39;00m \u001b[38;5;28;43mopen\u001b[39;49m\u001b[43m(\u001b[49m\u001b[38;5;124;43m'\u001b[39;49m\u001b[38;5;124;43mClass6Files/inputfile.txt\u001b[39;49m\u001b[38;5;124;43m'\u001b[39;49m\u001b[43m,\u001b[49m\u001b[43m \u001b[49m\u001b[38;5;124;43m'\u001b[39;49m\u001b[38;5;124;43mx\u001b[39;49m\u001b[38;5;124;43m'\u001b[39;49m\u001b[43m)\u001b[49m \u001b[38;5;28;01mas\u001b[39;00m f:\n\u001b[0;32m      2\u001b[0m     re \u001b[38;5;241m=\u001b[39m f\u001b[38;5;241m.\u001b[39mread()\n\u001b[0;32m      3\u001b[0m re\n",
      "\u001b[1;31mFileExistsError\u001b[0m: [Errno 17] File exists: 'Class6Files/inputfile.txt'"
     ]
    }
   ],
   "source": [
    "with open('Class6Files/inputfile.txt', 'x') as f:\n",
    "    re = f.read()\n",
    "re    "
   ]
  },
  {
   "cell_type": "markdown",
   "metadata": {},
   "source": [
    "Try except"
   ]
  },
  {
   "cell_type": "code",
   "execution_count": 19,
   "metadata": {},
   "outputs": [
    {
     "name": "stdout",
     "output_type": "stream",
     "text": [
      "1.25\n"
     ]
    }
   ],
   "source": [
    "try:\n",
    "    x = int(input('Sonni kiriting: '))\n",
    "    y = int(input('Sonni kiriting: '))\n",
    "    print(x/y)\n",
    "except ValueError as e:\n",
    "    print('Quyidagi Xato sodir bo\\'ldi')\n",
    "    print(e)\n",
    "except ZeroDivisionError:\n",
    "    print('Nolga bo\\'lish mumkin emas')        \n",
    "except Exception as e:\n",
    "    print('Nomalum xato yuz berdi.')    "
   ]
  },
  {
   "cell_type": "markdown",
   "metadata": {},
   "source": [
    "Raise  Finally"
   ]
  },
  {
   "cell_type": "code",
   "execution_count": 35,
   "metadata": {},
   "outputs": [
    {
     "name": "stdout",
     "output_type": "stream",
     "text": [
      "Hello\n"
     ]
    },
    {
     "ename": "ValueError",
     "evalue": "",
     "output_type": "error",
     "traceback": [
      "\u001b[1;31m---------------------------------------------------------------------------\u001b[0m",
      "\u001b[1;31mValueError\u001b[0m                                Traceback (most recent call last)",
      "Cell \u001b[1;32mIn [35], line 2\u001b[0m\n\u001b[0;32m      1\u001b[0m \u001b[38;5;28;01mtry\u001b[39;00m:\n\u001b[1;32m----> 2\u001b[0m     \u001b[38;5;28;01mraise\u001b[39;00m \u001b[38;5;167;01mValueError\u001b[39;00m\n\u001b[0;32m      4\u001b[0m \u001b[38;5;28;01mfinally\u001b[39;00m:\n\u001b[0;32m      5\u001b[0m     \u001b[38;5;28mprint\u001b[39m(\u001b[38;5;124m'\u001b[39m\u001b[38;5;124mHello\u001b[39m\u001b[38;5;124m'\u001b[39m)\n",
      "\u001b[1;31mValueError\u001b[0m: "
     ]
    }
   ],
   "source": [
    "try:\n",
    "    raise ValueError\n",
    "\n",
    "finally:\n",
    "    print('Hello')\n",
    "        "
   ]
  },
  {
   "cell_type": "code",
   "execution_count": 36,
   "metadata": {},
   "outputs": [
    {
     "name": "stdout",
     "output_type": "stream",
     "text": [
      "False\n"
     ]
    }
   ],
   "source": [
    "def bool_return():\n",
    "    try:\n",
    "        return True\n",
    "    finally:\n",
    "        return False\n",
    "print(bool_return())                "
   ]
  },
  {
   "cell_type": "code",
   "execution_count": 38,
   "metadata": {},
   "outputs": [],
   "source": [
    "try:\n",
    "    x = int(input('Son kiriting: '))\n",
    "except ValueError:\n",
    "    pass\n",
    "else:\n",
    "    print(x)    "
   ]
  },
  {
   "cell_type": "markdown",
   "metadata": {},
   "source": [
    "OS module"
   ]
  },
  {
   "cell_type": "code",
   "execution_count": 39,
   "metadata": {},
   "outputs": [],
   "source": [
    "import os"
   ]
  },
  {
   "cell_type": "code",
   "execution_count": 40,
   "metadata": {},
   "outputs": [
    {
     "data": {
      "text/plain": [
       "'c:\\\\Users\\\\user\\\\Desktop\\\\PythonMaab'"
      ]
     },
     "execution_count": 40,
     "metadata": {},
     "output_type": "execute_result"
    }
   ],
   "source": [
    "os.getcwd()  # Hozirgi turgan papkamizni ko'rsatadi"
   ]
  },
  {
   "cell_type": "code",
   "execution_count": 44,
   "metadata": {},
   "outputs": [],
   "source": [
    "os.chdir('../') # Boshqa papkaga o'tishda ishlatilinadi"
   ]
  },
  {
   "cell_type": "code",
   "execution_count": 47,
   "metadata": {},
   "outputs": [
    {
     "data": {
      "text/plain": [
       "['Emails.txt',\n",
       " 'hello.txt',\n",
       " 'inputfile.txt',\n",
       " 'Myimage.bmp',\n",
       " 'newfile.dat',\n",
       " 'outputFile.txt',\n",
       " 'square.txt',\n",
       " 'taklif.txt']"
      ]
     },
     "execution_count": 47,
     "metadata": {},
     "output_type": "execute_result"
    }
   ],
   "source": [
    "os.getcwd()\n",
    "os.listdir(r'C:\\Users\\user\\Desktop\\PythonMaab\\Class6Files') # Hozirgi papka ichidagi itemlarni ko'rsatadi"
   ]
  },
  {
   "cell_type": "code",
   "execution_count": 49,
   "metadata": {},
   "outputs": [],
   "source": [
    "os.mkdir('files') # Faqat bitta papka yaratadi\n"
   ]
  },
  {
   "cell_type": "code",
   "execution_count": 50,
   "metadata": {},
   "outputs": [],
   "source": [
    "os.makedirs('files\\\\source') # Ko'pgina ichma ich papkalar yaratishi mumkin"
   ]
  },
  {
   "cell_type": "code",
   "execution_count": 51,
   "metadata": {},
   "outputs": [],
   "source": [
    "os.makedirs('files\\\\destination')  "
   ]
  },
  {
   "cell_type": "code",
   "execution_count": 56,
   "metadata": {},
   "outputs": [],
   "source": [
    "base_path = r'C:\\Users\\user\\Desktop\\PythonMaab\\files'\n",
    "files = os.listdir( os.path.join(base_path, 'source'))\n",
    "files = [name for name in files if '.txt' in name]\n",
    "for file_name in files:\n",
    "    src = os.path.join(base_path, 'source', file_name)\n",
    "    desc = os.path.join(base_path, 'destination', file_name)\n",
    "    os.rename(src, desc,)\n",
    "    "
   ]
  },
  {
   "cell_type": "code",
   "execution_count": 57,
   "metadata": {},
   "outputs": [],
   "source": [
    "os.remove(r'C:\\Users\\user\\Desktop\\PythonMaab\\files\\source\\file3.txt') \n",
    "#  Bitta faylni o'chirib tashlaydi"
   ]
  },
  {
   "cell_type": "code",
   "execution_count": null,
   "metadata": {},
   "outputs": [],
   "source": [
    "os.rmdir(r'C:\\Users\\user\\Desktop\\PythonMaab\\files\\source')\n",
    "# Bitta papkani o'chirib tashlaydi. Agar papka ichida fayl bo'lsa o'chirmaydi"
   ]
  },
  {
   "cell_type": "code",
   "execution_count": null,
   "metadata": {},
   "outputs": [],
   "source": [
    "os.removedirs(r'C:\\Users\\user\\Desktop\\PythonMaab\\files\\source')\n",
    "# Papka ichidagi papkalarni ham o'chirib tashlaydi"
   ]
  },
  {
   "cell_type": "markdown",
   "metadata": {},
   "source": [
    "Shutil module"
   ]
  },
  {
   "cell_type": "code",
   "execution_count": 58,
   "metadata": {},
   "outputs": [],
   "source": [
    "import shutil"
   ]
  },
  {
   "cell_type": "code",
   "execution_count": null,
   "metadata": {},
   "outputs": [],
   "source": [
    "shutil.copy(src, desc) # Fayllarni Copy qiladi\n",
    "shutil.move(src, desc) # Fayllarni Move qiladi\n",
    "shutil.rmtree(r'C:\\Users\\user\\Desktop\\PythonMaab\\files\\source')\n",
    "# Papkani ichidagi fayllari bilan birga o'chiradi."
   ]
  },
  {
   "cell_type": "code",
   "execution_count": 59,
   "metadata": {},
   "outputs": [
    {
     "data": {
      "text/plain": [
       "[('bztar', \"bzip2'ed tar-file\"),\n",
       " ('gztar', \"gzip'ed tar-file\"),\n",
       " ('tar', 'uncompressed tar file'),\n",
       " ('xztar', \"xz'ed tar-file\"),\n",
       " ('zip', 'ZIP file')]"
      ]
     },
     "execution_count": 59,
     "metadata": {},
     "output_type": "execute_result"
    }
   ],
   "source": [
    "shutil.get_archive_formats()"
   ]
  },
  {
   "cell_type": "code",
   "execution_count": 62,
   "metadata": {},
   "outputs": [
    {
     "data": {
      "text/plain": [
       "'C:\\\\Users\\\\user\\\\Desktop\\\\PythonMaab\\\\files\\\\destination\\\\Archive1.zip'"
      ]
     },
     "execution_count": 62,
     "metadata": {},
     "output_type": "execute_result"
    }
   ],
   "source": [
    "source_folder = r'C:\\Users\\user\\Desktop\\PythonMaab\\files\\source' \n",
    "des_folder_filename = r'C:\\Users\\user\\Desktop\\PythonMaab\\files\\destination\\Archive1'\n",
    "file_format = 'zip'\n",
    "\n",
    "shutil.make_archive(des_folder_filename,  file_format, source_folder)\n",
    "# Birinchi Dec folder va File Name, Ikkinchi zip formati, Uchinchi Source Folder beriladi"
   ]
  },
  {
   "cell_type": "code",
   "execution_count": 63,
   "metadata": {},
   "outputs": [],
   "source": [
    "shutil.unpack_archive(r'C:\\Users\\user\\Desktop\\PythonMaab\\files\\destination\\Archive1.zip')\n",
    "#  Hozirgi papkaga unzip qiladi."
   ]
  }
 ],
 "metadata": {
  "kernelspec": {
   "display_name": "Python 3.10.6 64-bit",
   "language": "python",
   "name": "python3"
  },
  "language_info": {
   "codemirror_mode": {
    "name": "ipython",
    "version": 3
   },
   "file_extension": ".py",
   "mimetype": "text/x-python",
   "name": "python",
   "nbconvert_exporter": "python",
   "pygments_lexer": "ipython3",
   "version": "3.10.6"
  },
  "orig_nbformat": 4,
  "vscode": {
   "interpreter": {
    "hash": "fb4569285eef3a3450cb62085a5b1e0da4bce0af555edc33dcf29baf3acc1368"
   }
  }
 },
 "nbformat": 4,
 "nbformat_minor": 2
}
