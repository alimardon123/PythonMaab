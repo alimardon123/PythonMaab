{
 "cells": [
  {
   "cell_type": "code",
   "execution_count": 4,
   "metadata": {},
   "outputs": [],
   "source": [
    "import json\n",
    "\n"
   ]
  },
  {
   "cell_type": "markdown",
   "metadata": {},
   "source": [
    "Sample3"
   ]
  },
  {
   "cell_type": "code",
   "execution_count": 11,
   "metadata": {},
   "outputs": [],
   "source": [
    "with open('Class12/sample3.json') as f:\n",
    "    data = json.load(f)\n",
    "with open('Class12/Sample3.csv', 'w') as o:\n",
    "    headers = []\n",
    "    rows = ''\n",
    "    for header , rows in data[0].items():\n",
    "        headers.append(header)\n",
    "    te = ','.join(headers) + '\\n'\n",
    "    o.writelines(te)\n",
    "\n",
    "    for ob in data:\n",
    "        for headr, row in ob.items():\n",
    "            rows += row + ','\n",
    "        rows = rows.removesuffix(',') +'\\n'\n",
    "    o.write(rows)\n",
    "\n"
   ]
  },
  {
   "cell_type": "markdown",
   "metadata": {},
   "source": [
    "Sample 2"
   ]
  },
  {
   "cell_type": "code",
   "execution_count": 13,
   "metadata": {},
   "outputs": [
    {
     "name": "stdout",
     "output_type": "stream",
     "text": [
      "[{'firstName': 'Joe', 'lastName': 'Jackson', 'gender': 'male', 'age': 28, 'address': {'streetAddress': '101', 'city': 'San Diego', 'state': 'CA'}, 'phoneNumbers': [{'type': 'home', 'number': '7349282382'}]}, {'firstName': 'Jane', 'lastName': 'Doe', 'gender': 'female', 'age': 25, 'address': {'streetAddress': '10', 'city': 'New York', 'state': 'US'}, 'phoneNumbers': [{'type': 'home', 'number': '1234569872'}, {'type': 'personal', 'number': '1234123412'}]}]\n"
     ]
    },
    {
     "data": {
      "text/plain": [
       "[{'firstName': 'Joe',\n",
       "  'lastName': 'Jackson',\n",
       "  'gender': 'male',\n",
       "  'age': 28,\n",
       "  'streetAddress': '101',\n",
       "  'city': 'San Diego',\n",
       "  'state': 'CA',\n",
       "  'phoneNumbers': [{'type': 'home', 'number': '7349282382'}]},\n",
       " {'firstName': 'Jane',\n",
       "  'lastName': 'Doe',\n",
       "  'gender': 'female',\n",
       "  'age': 25,\n",
       "  'streetAddress': '10',\n",
       "  'city': 'New York',\n",
       "  'state': 'US',\n",
       "  'phoneNumbers': [{'type': 'home', 'number': '1234569872'},\n",
       "   {'type': 'personal', 'number': '1234123412'}]}]"
      ]
     },
     "execution_count": 13,
     "metadata": {},
     "output_type": "execute_result"
    }
   ],
   "source": [
    "# with open('Class12/sample2.json') as f:\n",
    "#     data = json.load(f)\n",
    "# print(data)\n",
    "# output = []  \n",
    "\n",
    "# for obj in data:\n",
    "#     temp = dict()\n",
    "#     for header, attribute in obj.items():\n",
    "#         if type(attribute) == dict:\n",
    "#             for key, value in attribute.items():\n",
    "#                 temp[key] = value\n",
    "#         elif type                \n",
    "#         else:\n",
    "#             temp[header] = attribute\n",
    "#     output.append(temp)  \n",
    "\n",
    "# output          \n"
   ]
  },
  {
   "cell_type": "code",
   "execution_count": null,
   "metadata": {},
   "outputs": [],
   "source": [
    "# with open('Class12/sample2.json') as f:\n",
    "#     data = json.load(f)\n",
    "# print(data)\n",
    "# output = []  \n",
    "\n",
    "# for obj in data:\n",
    "#     temp = dict()\n",
    "#     for header, attribute in obj.items():\n",
    "#         if type(attribute) == list:\n",
    "#             for i in attribute:\n",
    "                            \n",
    "#                 if type(attribute) == dict:\n",
    "#                     for key, value in attribute.items():\n",
    "#                         temp[key] = value\n",
    "#                 elif type                \n",
    "#                 else:\n",
    "#                     temp[header] = attribute\n",
    "#     output.append(temp)  \n",
    "\n",
    "# output          \n"
   ]
  },
  {
   "cell_type": "code",
   "execution_count": 51,
   "metadata": {},
   "outputs": [],
   "source": [
    "from pandas.io.json import json_normalize\n",
    "import csv\n",
    "\n",
    "def flatten_json(y):\n",
    "    \n",
    "    result = []\n",
    "\n",
    "    for obj in y:\n",
    "        out = {}\n",
    "\n",
    "        def flatten(x, name=''):\n",
    "            if type(x) is dict:\n",
    "                for a in x:\n",
    "                    flatten(x[a], name + a + '_')\n",
    "            elif type(x) is list:\n",
    "                i = 0\n",
    "                for a in x:\n",
    "                    flatten(a, name + str(i) + '_')\n",
    "                    i += 1\n",
    "            else:\n",
    "                out[name[:-1]] = x\n",
    "\n",
    "\n",
    "        flatten(obj)\n",
    "        result.append(out)\n",
    "    return result\n",
    "\n",
    "with open('Class12/sample2.json') as f:\n",
    "    data = json.load(f)\n",
    "a = flatten_json(data)  \n",
    "columns = [ key for key in a[1]]\n",
    "columns\n",
    "with open('Class12/sample2.csv', 'w') as o:\n",
    "    writer = csv.DictWriter(o, fieldnames=columns,)\n",
    "    writer.writeheader()\n",
    "    writer.writerows(a)\n"
   ]
  },
  {
   "cell_type": "code",
   "execution_count": 64,
   "metadata": {},
   "outputs": [],
   "source": [
    "from pandas.io.json import json_normalize\n",
    "import csv\n",
    "def flatten_json(y):\n",
    "    result = []\n",
    "    for obj in y:\n",
    "        out = {}\n",
    "\n",
    "        def flatten(x, name=''):\n",
    "            if type(x) is dict:\n",
    "                for a in x:\n",
    "                    flatten(x[a], name + a + '_')\n",
    "            elif type(x) is list:\n",
    "                i = 0\n",
    "                for a in x:\n",
    "                    flatten(a, name + str(i) + '_')\n",
    "                    i += 1\n",
    "            else:\n",
    "                out[name[:-1]] = x\n",
    "\n",
    "\n",
    "        flatten(obj)\n",
    "        result.append(out)\n",
    "    return result\n",
    "\n",
    "with open('Class12/sample4.json') as f:\n",
    "    data = json.load(f)\n",
    "for key, valu in data.items():\n",
    "\n",
    "    a = flatten_json(valu)\n",
    "a    \n",
    "with open('Class12/sample4.csv', 'w') as o:\n",
    "    headers = [name for name in a[0]]\n",
    "    writer = csv.DictWriter(o, fieldnames=headers,delimiter=',')\n",
    "    writer.writeheader()\n",
    "    writer.writerows(a)\n",
    "\n",
    "   "
   ]
  },
  {
   "cell_type": "code",
   "execution_count": null,
   "metadata": {},
   "outputs": [],
   "source": []
  }
 ],
 "metadata": {
  "kernelspec": {
   "display_name": "Python 3.10.6 64-bit",
   "language": "python",
   "name": "python3"
  },
  "language_info": {
   "codemirror_mode": {
    "name": "ipython",
    "version": 3
   },
   "file_extension": ".py",
   "mimetype": "text/x-python",
   "name": "python",
   "nbconvert_exporter": "python",
   "pygments_lexer": "ipython3",
   "version": "3.10.6"
  },
  "orig_nbformat": 4,
  "vscode": {
   "interpreter": {
    "hash": "fb4569285eef3a3450cb62085a5b1e0da4bce0af555edc33dcf29baf3acc1368"
   }
  }
 },
 "nbformat": 4,
 "nbformat_minor": 2
}
