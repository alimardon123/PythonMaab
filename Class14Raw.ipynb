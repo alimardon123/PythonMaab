{
 "cells": [
  {
   "cell_type": "markdown",
   "metadata": {},
   "source": [
    "Tuplli list comperehention"
   ]
  },
  {
   "cell_type": "code",
   "execution_count": 1,
   "metadata": {},
   "outputs": [
    {
     "data": {
      "text/plain": [
       "[(2001, 101), (2002, 103), (2003, 89), (2004, 91)]"
      ]
     },
     "execution_count": 1,
     "metadata": {},
     "output_type": "execute_result"
    }
   ],
   "source": [
    "ls = [(2001, 10, 101, 87), \n",
    "      (2002, 103, 19, 88), \n",
    "      (2003, 21, 23, 89), \n",
    "      (2004, 27, 28, 91)]\n",
    "res = [(a, max(other)) for a, *other in ls]     \n",
    "res"
   ]
  },
  {
   "cell_type": "code",
   "execution_count": 19,
   "metadata": {},
   "outputs": [
    {
     "name": "stdout",
     "output_type": "stream",
     "text": [
      "15.0\n"
     ]
    },
    {
     "data": {
      "text/plain": [
       "5"
      ]
     },
     "execution_count": 19,
     "metadata": {},
     "output_type": "execute_result"
    }
   ],
   "source": [
    "ls = [3, 1, 17, 42, 7, 23, 15]\n",
    "# ls = [3, 1, 17, 7, 23, 15]\n",
    "\n",
    "ls.sort()\n",
    "length = len(ls)\n",
    "print((ls[length//2 - (length %2 ==0)] + (ls[length//2]))/2)\n"
   ]
  },
  {
   "cell_type": "code",
   "execution_count": 27,
   "metadata": {},
   "outputs": [],
   "source": [
    "import json\n",
    "with open('Class12/sample2.json') as f:\n",
    "    data = json.load(f)\n",
    "\n",
    "headers = \"firstName,lastName,gender,age,streetAddress,city,state,phoneNumbers_type,phoneNumbers_number\\n\"\n",
    "\n",
    "with open('Class12/sample2.csv', 'w') as o:\n",
    "    o.write(headers)\n",
    "    for obj in data:\n",
    "        firstName = obj.get('firstName')\n",
    "        lastName = obj.get('lastName')\n",
    "        gender = obj.get('gender')\n",
    "        age = obj.get('age')\n",
    "        address = obj.get('address')\n",
    "        streetAddress = address.get('streetAddress')\n",
    "        city = address.get('city')\n",
    "        state = address.get('state')\n",
    "        for phone in obj.get('phoneNumbers'):\n",
    "            phoneNumbers_type =phone.get('type')\n",
    "            phoneNumbers_number =phone.get('number')\n",
    "            o.write(f\"{firstName},{lastName},{gender},{age},{streetAddress},{city},{state},{phoneNumbers_type},{phoneNumbers_number}\\n\")\n",
    " "
   ]
  },
  {
   "cell_type": "markdown",
   "metadata": {},
   "source": [
    "Custom_Map"
   ]
  },
  {
   "cell_type": "code",
   "execution_count": 29,
   "metadata": {},
   "outputs": [
    {
     "name": "stdout",
     "output_type": "stream",
     "text": [
      "[1, 4, 9, 16]\n",
      "[3, 6, 9, 14]\n"
     ]
    }
   ],
   "source": [
    "ls1 = [1, 2, 3, 4]\n",
    "ls2 = [2, 4, 6, 10]\n",
    "\n",
    "def f(x):\n",
    "    return x**2\n",
    "\n",
    "def Custom_Map(func, l):\n",
    "    res = []\n",
    "    for x in l:\n",
    "        res.append(func(x))\n",
    "    return res\n",
    "print(Custom_Map(f, ls1))  \n",
    "\n",
    "print(list(map(lambda x, y: x+y, ls1, ls2)))"
   ]
  },
  {
   "cell_type": "markdown",
   "metadata": {},
   "source": [
    "CustomFilter"
   ]
  },
  {
   "cell_type": "code",
   "execution_count": 30,
   "metadata": {},
   "outputs": [
    {
     "name": "stdout",
     "output_type": "stream",
     "text": [
      "[2, 4]\n"
     ]
    }
   ],
   "source": [
    "ls1 = [1, 2, 3, 4]\n",
    "ls2 = [2, 4, 6, 10]\n",
    "\n",
    "def f(x):\n",
    "    return x % 2 == 0 \n",
    "\n",
    "def Custom_Filter(func, l):\n",
    "    res = []\n",
    "    for x in l:\n",
    "        if func(x):\n",
    "            res.append(x)\n",
    "    return res\n",
    "print(Custom_Filter(f, ls1))    "
   ]
  }
 ],
 "metadata": {
  "kernelspec": {
   "display_name": "Python 3.10.6 64-bit",
   "language": "python",
   "name": "python3"
  },
  "language_info": {
   "codemirror_mode": {
    "name": "ipython",
    "version": 3
   },
   "file_extension": ".py",
   "mimetype": "text/x-python",
   "name": "python",
   "nbconvert_exporter": "python",
   "pygments_lexer": "ipython3",
   "version": "3.10.6"
  },
  "orig_nbformat": 4,
  "vscode": {
   "interpreter": {
    "hash": "fb4569285eef3a3450cb62085a5b1e0da4bce0af555edc33dcf29baf3acc1368"
   }
  }
 },
 "nbformat": 4,
 "nbformat_minor": 2
}
