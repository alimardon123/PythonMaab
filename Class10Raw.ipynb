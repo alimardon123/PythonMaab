{
 "cells": [
  {
   "cell_type": "markdown",
   "metadata": {},
   "source": [
    "Datetime moduli"
   ]
  },
  {
   "cell_type": "code",
   "execution_count": 2,
   "metadata": {},
   "outputs": [
    {
     "name": "stdout",
     "output_type": "stream",
     "text": [
      "2022-12-20\n"
     ]
    }
   ],
   "source": [
    "import datetime\n",
    "\n",
    "today = datetime.date.today()\n",
    "print(today)"
   ]
  },
  {
   "cell_type": "code",
   "execution_count": 3,
   "metadata": {},
   "outputs": [
    {
     "name": "stdout",
     "output_type": "stream",
     "text": [
      "2013-08-16\n"
     ]
    }
   ],
   "source": [
    "date1 = datetime.date(2013, 8, 16)\n",
    "print(date1)"
   ]
  },
  {
   "cell_type": "code",
   "execution_count": 6,
   "metadata": {},
   "outputs": [
    {
     "data": {
      "text/plain": [
       "1"
      ]
     },
     "execution_count": 6,
     "metadata": {},
     "output_type": "execute_result"
    }
   ],
   "source": [
    "today.year\n",
    "today.month\n",
    "today.weekday()\n"
   ]
  },
  {
   "cell_type": "code",
   "execution_count": 10,
   "metadata": {},
   "outputs": [
    {
     "name": "stdout",
     "output_type": "stream",
     "text": [
      "12:56:12.123456\n"
     ]
    },
    {
     "data": {
      "text/plain": [
       "12"
      ]
     },
     "execution_count": 10,
     "metadata": {},
     "output_type": "execute_result"
    }
   ],
   "source": [
    "t1 = datetime.time(12, 56, 12, 123456)\n",
    "print(t1)\n",
    "t1.hour"
   ]
  },
  {
   "cell_type": "code",
   "execution_count": 13,
   "metadata": {},
   "outputs": [
    {
     "name": "stdout",
     "output_type": "stream",
     "text": [
      "2012-08-12 13:46:13.123544\n",
      "2022-12-20 22:16:36.175479\n"
     ]
    }
   ],
   "source": [
    "dt = datetime.datetime(2012, 8, 12, 13, 46, 13, 123544)\n",
    "print(dt)\n",
    "\n",
    "now = datetime.datetime.now()\n",
    "print(now)"
   ]
  },
  {
   "cell_type": "code",
   "execution_count": 14,
   "metadata": {},
   "outputs": [
    {
     "data": {
      "text/plain": [
       "9999"
      ]
     },
     "execution_count": 14,
     "metadata": {},
     "output_type": "execute_result"
    }
   ],
   "source": [
    "datetime.MAXYEAR"
   ]
  },
  {
   "cell_type": "code",
   "execution_count": 15,
   "metadata": {},
   "outputs": [
    {
     "data": {
      "text/plain": [
       "1"
      ]
     },
     "execution_count": 15,
     "metadata": {},
     "output_type": "execute_result"
    }
   ],
   "source": [
    "datetime.MINYEAR"
   ]
  },
  {
   "cell_type": "code",
   "execution_count": 18,
   "metadata": {},
   "outputs": [
    {
     "name": "stdout",
     "output_type": "stream",
     "text": [
      "1970-01-01 05:00:00\n"
     ]
    }
   ],
   "source": [
    "da = datetime.datetime.fromtimestamp(0)\n",
    "print(da)"
   ]
  },
  {
   "cell_type": "markdown",
   "metadata": {},
   "source": [
    "Timedelta"
   ]
  },
  {
   "cell_type": "code",
   "execution_count": 20,
   "metadata": {},
   "outputs": [
    {
     "name": "stdout",
     "output_type": "stream",
     "text": [
      "59 days, 0:00:00\n",
      "<class 'datetime.timedelta'>\n"
     ]
    }
   ],
   "source": [
    "t1 = datetime.date(2022, 10, 5)\n",
    "t2 = datetime.date(2022, 12, 3)\n",
    "t3 = t2 - t1\n",
    "print(t3)\n",
    "print(type(t3))"
   ]
  },
  {
   "cell_type": "code",
   "execution_count": 22,
   "metadata": {},
   "outputs": [
    {
     "name": "stdout",
     "output_type": "stream",
     "text": [
      "15 days, 5:06:40\n"
     ]
    }
   ],
   "source": [
    "td1= datetime.timedelta(weeks=2, days= 13, hours=10, minutes=13, seconds=50)\n",
    "td2= datetime.timedelta(weeks=1, days=5, hours=5, minutes= 7, seconds=10)\n",
    "print(td1 -td2)"
   ]
  },
  {
   "cell_type": "code",
   "execution_count": 23,
   "metadata": {},
   "outputs": [
    {
     "data": {
      "text/plain": [
       "False"
      ]
     },
     "execution_count": 23,
     "metadata": {},
     "output_type": "execute_result"
    }
   ],
   "source": [
    "t1 > t2"
   ]
  },
  {
   "cell_type": "code",
   "execution_count": 26,
   "metadata": {},
   "outputs": [
    {
     "name": "stdout",
     "output_type": "stream",
     "text": [
      "2022-12-20 23:52:35.786302\n",
      "12/20/2022 23:52:35\n"
     ]
    }
   ],
   "source": [
    "now = datetime.datetime.now()\n",
    "\n",
    "f_now = now.strftime('%m/%d/%Y %H:%M:%S') \n",
    "print(now)\n",
    "print(f_now)"
   ]
  },
  {
   "cell_type": "code",
   "execution_count": 27,
   "metadata": {},
   "outputs": [
    {
     "name": "stdout",
     "output_type": "stream",
     "text": [
      "2020-03-05 00:00:00\n"
     ]
    }
   ],
   "source": [
    "dt_str = \"5 March, 2020\"\n",
    "dt = datetime.datetime.strptime(dt_str, '%d %B, %Y')\n",
    "print(dt)"
   ]
  },
  {
   "cell_type": "code",
   "execution_count": 30,
   "metadata": {},
   "outputs": [
    {
     "name": "stdout",
     "output_type": "stream",
     "text": [
      "0\n",
      "1\n",
      "2\n",
      "3\n",
      "4\n",
      "5\n",
      "6\n",
      "7\n",
      "8\n",
      "9\n",
      "3.890625\n"
     ]
    }
   ],
   "source": [
    "import time\n",
    "\n",
    "for i in range(10):\n",
    "    time.sleep(1)\n",
    "    print(i)\n",
    "  "
   ]
  },
  {
   "cell_type": "markdown",
   "metadata": {},
   "source": [
    "JSON fayllar"
   ]
  },
  {
   "cell_type": "code",
   "execution_count": 31,
   "metadata": {},
   "outputs": [],
   "source": [
    "# JSON - JavaScript Object Notation\n",
    "import json\n"
   ]
  },
  {
   "cell_type": "code",
   "execution_count": 33,
   "metadata": {},
   "outputs": [
    {
     "name": "stdout",
     "output_type": "stream",
     "text": [
      "<class 'list'>\n",
      "John\n"
     ]
    }
   ],
   "source": [
    "js = '''\n",
    "[\n",
    "  {\n",
    "    \"name\": \"John\",\n",
    "    \"Age\": 25,\n",
    "    \"bool\": true,\n",
    "    \"pets\": [\"cat\", \"dog\"]\n",
    "  },\n",
    "  {\n",
    "    \"name\": \"Shawn\",\n",
    "    \"Age\": null,\n",
    "    \"bool\": false,\n",
    "    \"pets\": [\"cat\", \"dog\"]\n",
    "  }\n",
    "]\n",
    "'''\n",
    "\n",
    "dt = json.loads(js)\n",
    "print(type(dt))\n",
    "print(dt[0].get(\"name\"))"
   ]
  },
  {
   "cell_type": "code",
   "execution_count": 37,
   "metadata": {},
   "outputs": [
    {
     "name": "stdout",
     "output_type": "stream",
     "text": [
      "<class 'str'>\n",
      "{\n",
      "   \"name\": \"John\",\n",
      "   \"Age\": 25,\n",
      "   \"bool\": true,\n",
      "   \"pets\": [\n",
      "      \"cat\",\n",
      "      \"dog\"\n",
      "   ]\n",
      "}\n"
     ]
    }
   ],
   "source": [
    "dt2 = {\n",
    "    \"name\": \"John\",\n",
    "    \"Age\": 25,\n",
    "    \"bool\": True,\n",
    "    \"pets\": [\"cat\", \"dog\"]\n",
    "  }\n",
    "js2 = json.dumps(dt2,indent=3)\n",
    "print(type(js2))\n",
    "print(js2)  "
   ]
  },
  {
   "cell_type": "code",
   "execution_count": 39,
   "metadata": {},
   "outputs": [
    {
     "name": "stdout",
     "output_type": "stream",
     "text": [
      "<class 'list'>\n",
      "[{'name': 'John', 'Age': 25, 'bool': True, 'pets': ['cat', 'dog']}, {'name': 'Shawn', 'Age': None, 'bool': False, 'pets': ['cat', 'dog']}]\n"
     ]
    }
   ],
   "source": [
    "with open('Class10Files/demo.json') as f:\n",
    "    data = json.load(f)\n",
    "\n",
    "with open('Class10Files/dump_js_file.json', 'w') as f:\n",
    "    f.write(json.dumps(data, indent=4))\n",
    "\n",
    "print(type(data))\n",
    "print(data)"
   ]
  },
  {
   "cell_type": "code",
   "execution_count": null,
   "metadata": {},
   "outputs": [],
   "source": []
  },
  {
   "cell_type": "code",
   "execution_count": null,
   "metadata": {},
   "outputs": [],
   "source": []
  },
  {
   "cell_type": "code",
   "execution_count": null,
   "metadata": {},
   "outputs": [],
   "source": []
  },
  {
   "cell_type": "code",
   "execution_count": null,
   "metadata": {},
   "outputs": [],
   "source": []
  }
 ],
 "metadata": {
  "kernelspec": {
   "display_name": "Python 3.10.6 64-bit",
   "language": "python",
   "name": "python3"
  },
  "language_info": {
   "codemirror_mode": {
    "name": "ipython",
    "version": 3
   },
   "file_extension": ".py",
   "mimetype": "text/x-python",
   "name": "python",
   "nbconvert_exporter": "python",
   "pygments_lexer": "ipython3",
   "version": "3.10.6"
  },
  "orig_nbformat": 4,
  "vscode": {
   "interpreter": {
    "hash": "fb4569285eef3a3450cb62085a5b1e0da4bce0af555edc33dcf29baf3acc1368"
   }
  }
 },
 "nbformat": 4,
 "nbformat_minor": 2
}
