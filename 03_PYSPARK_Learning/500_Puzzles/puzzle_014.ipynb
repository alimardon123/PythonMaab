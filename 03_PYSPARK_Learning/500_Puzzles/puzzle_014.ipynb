{
 "cells": [
  {
   "cell_type": "code",
   "execution_count": 2,
   "metadata": {},
   "outputs": [],
   "source": [
    "from pyspark.sql import SparkSession\n",
    "import pyspark.sql.functions as F\n",
    "import pyspark.sql.types as T\n",
    "from pyspark.sql.window import Window as W\n",
    "\n",
    "spark = SparkSession.builder.appName('Puzzle').getOrCreate()"
   ]
  },
  {
   "cell_type": "code",
   "execution_count": 4,
   "metadata": {},
   "outputs": [
    {
     "name": "stdout",
     "output_type": "stream",
     "text": [
      "+-------+-----------+-----------------+-------------------+\n",
      "|club_id|  club_name|championship_year|year_100th_champion|\n",
      "+-------+-----------+-----------------+-------------------+\n",
      "|      1| FENERBAHCE|             2007|                  1|\n",
      "|      2|GALATASARAY|             2006|                  0|\n",
      "|      3|   BESIKTAS|             2003|                  1|\n",
      "|      1| FENERBAHCE|             2005|                  0|\n",
      "|      1| FENERBAHCE|             2004|                  0|\n",
      "|      2|GALATASARAY|             2002|                  0|\n",
      "|      2|GALATASARAY|             2000|                  0|\n",
      "|      2|GALATASARAY|             1999|                  0|\n",
      "|      2|GALATASARAY|             1998|                  0|\n",
      "|      2|GALATASARAY|             1997|                  0|\n",
      "|      1| FENERBAHCE|             1996|                  0|\n",
      "|      1| FENERBAHCE|             2001|                  0|\n",
      "|      1| FENERBAHCE|             1989|                  0|\n",
      "|      1| FENERBAHCE|             1985|                  0|\n",
      "+-------+-----------+-----------------+-------------------+\n",
      "\n",
      "root\n",
      " |-- club_id: integer (nullable = true)\n",
      " |-- club_name: string (nullable = true)\n",
      " |-- championship_year: integer (nullable = true)\n",
      " |-- year_100th_champion: integer (nullable = true)\n",
      "\n"
     ]
    }
   ],
   "source": [
    "df = spark.read.csv('data/puzzle_014.csv', header=True, inferSchema=True)\n",
    "df.show()\n",
    "df.printSchema()"
   ]
  },
  {
   "cell_type": "code",
   "execution_count": null,
   "metadata": {},
   "outputs": [],
   "source": []
  },
  {
   "cell_type": "code",
   "execution_count": null,
   "metadata": {},
   "outputs": [],
   "source": []
  }
 ],
 "metadata": {
  "kernelspec": {
   "display_name": "Python 3",
   "language": "python",
   "name": "python3"
  },
  "language_info": {
   "codemirror_mode": {
    "name": "ipython",
    "version": 3
   },
   "file_extension": ".py",
   "mimetype": "text/x-python",
   "name": "python",
   "nbconvert_exporter": "python",
   "pygments_lexer": "ipython3",
   "version": "3.10.10"
  },
  "orig_nbformat": 4,
  "vscode": {
   "interpreter": {
    "hash": "3b7e9cb8e453d6cda0fe8c8dd13f891a1f09162f0e7c66ffeae7751a7aecf00d"
   }
  }
 },
 "nbformat": 4,
 "nbformat_minor": 2
}
