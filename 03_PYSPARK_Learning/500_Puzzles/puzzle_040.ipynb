{
 "cells": [
  {
   "cell_type": "code",
   "execution_count": 1,
   "metadata": {},
   "outputs": [],
   "source": [
    "from pyspark.sql import SparkSession\n",
    "import pyspark.sql.functions as F\n",
    "import pyspark.sql.types as T\n",
    "from pyspark.sql.window import Window as W\n",
    "\n",
    "spark = SparkSession.builder.appName('Puzzle').getOrCreate()"
   ]
  },
  {
   "cell_type": "code",
   "execution_count": 2,
   "metadata": {},
   "outputs": [
    {
     "name": "stdout",
     "output_type": "stream",
     "text": [
      "+-----+--------+---------+\n",
      "|EmpID| EmpName|ReportsTo|\n",
      "+-----+--------+---------+\n",
      "|    1|   Jacob|     NULL|\n",
      "|    2|     Rui|     NULL|\n",
      "|    3|Jacobson|     NULL|\n",
      "|    4|    Jess|        1|\n",
      "|    5|   Steve|        1|\n",
      "|    6|     Bob|        1|\n",
      "|    7|   Smith|        2|\n",
      "|    8|  Bobbey|        2|\n",
      "|    9|  Steffi|        3|\n",
      "|   10|  Bracha|        3|\n",
      "|   11|    John|        5|\n",
      "|   12| Michael|        6|\n",
      "|   13|    Paul|        6|\n",
      "|   14|    Lana|        7|\n",
      "|   15| Johnson|        7|\n",
      "|   16|     Mic|        8|\n",
      "|   17|    Stev|        8|\n",
      "|   18| Paulson|        9|\n",
      "|   19| Jessica|       10|\n",
      "+-----+--------+---------+\n",
      "\n"
     ]
    }
   ],
   "source": [
    "df = spark.read.csv('data/puzzle_040.csv', header=True, inferSchema=True)\n",
    "df.show()"
   ]
  },
  {
   "cell_type": "code",
   "execution_count": 6,
   "metadata": {},
   "outputs": [
    {
     "name": "stdout",
     "output_type": "stream",
     "text": [
      "+-----+-------+---------+\n",
      "|EmpID|EmpName|ReportsTo|\n",
      "+-----+-------+---------+\n",
      "|    4|   Jess|        1|\n",
      "|    5|  Steve|        1|\n",
      "|    6|    Bob|        1|\n",
      "|    7|  Smith|        2|\n",
      "|    8| Bobbey|        2|\n",
      "|    9| Steffi|        3|\n",
      "|   10| Bracha|        3|\n",
      "|   11|   John|        5|\n",
      "|   12|Michael|        6|\n",
      "|   13|   Paul|        6|\n",
      "|   14|   Lana|        7|\n",
      "|   15|Johnson|        7|\n",
      "|   16|    Mic|        8|\n",
      "|   17|   Stev|        8|\n",
      "|   18|Paulson|        9|\n",
      "|   19|Jessica|       10|\n",
      "+-----+-------+---------+\n",
      "\n"
     ]
    }
   ],
   "source": [
    "resdf= df\n",
    "hirarchy = 0\n",
    "resdf.alias('a').join(resdf.alias('b'), on= F.col('a.EmpID')==F.col('b.ReportsTo')).select('b.*').show()"
   ]
  },
  {
   "cell_type": "code",
   "execution_count": 17,
   "metadata": {},
   "outputs": [],
   "source": [
    "rd = resdf.select(\n",
    "    '*',\n",
    "    F.lit(hirarchy).alias('HirarchyLevel'),\n",
    "    F.col('EmpName').alias('FullyQualifiedName')\n",
    ").where(F.col('ReportsTo')== 'NULL')"
   ]
  },
  {
   "cell_type": "code",
   "execution_count": 25,
   "metadata": {},
   "outputs": [
    {
     "name": "stdout",
     "output_type": "stream",
     "text": [
      "+-----+--------+---------+-------------+------------------+\n",
      "|EmpID| EmpName|ReportsTo|HirarchyLevel|FullyQualifiedName|\n",
      "+-----+--------+---------+-------------+------------------+\n",
      "|    1|   Jacob|     NULL|            0|             Jacob|\n",
      "|    2|     Rui|     NULL|            0|               Rui|\n",
      "|    3|Jacobson|     NULL|            0|          Jacobson|\n",
      "|    4|    Jess|        1|            1|        Jacob.Jess|\n",
      "|    5|   Steve|        1|            1|       Jacob.Steve|\n",
      "|    6|     Bob|        1|            1|         Jacob.Bob|\n",
      "|    7|   Smith|        2|            1|         Rui.Smith|\n",
      "|    8|  Bobbey|        2|            1|        Rui.Bobbey|\n",
      "|    9|  Steffi|        3|            1|   Jacobson.Steffi|\n",
      "|   10|  Bracha|        3|            1|   Jacobson.Bracha|\n",
      "+-----+--------+---------+-------------+------------------+\n",
      "\n"
     ]
    }
   ],
   "source": [
    "rd.unionAll(rd.alias('a').join(resdf.alias('b'), on= F.col('a.EmpID')==F.col('b.ReportsTo')).select('b.*', F.lit(1).alias('HirarchyLevel'),\n",
    "    F.concat_ws('.', F.col('a.EmpName'), F.col('b.EmpName')).alias('FullyQualifiedName'))).show()"
   ]
  },
  {
   "cell_type": "code",
   "execution_count": 13,
   "metadata": {},
   "outputs": [
    {
     "name": "stdout",
     "output_type": "stream",
     "text": [
      "+-----+--------+---------+-------------+------------------+\n",
      "|EmpID| EmpName|ReportsTo|HirarchyLevel|FullyQualifiedName|\n",
      "+-----+--------+---------+-------------+------------------+\n",
      "|    1|   Jacob|     NULL|            0|             Jacob|\n",
      "|    2|     Rui|     NULL|            0|               Rui|\n",
      "|    3|Jacobson|     NULL|            0|          Jacobson|\n",
      "|    4|    Jess|        1|            1|        Jacob.Jess|\n",
      "|    5|   Steve|        1|            1|       Jacob.Steve|\n",
      "|    6|     Bob|        1|            1|         Jacob.Bob|\n",
      "|    7|   Smith|        2|            1|         Rui.Smith|\n",
      "|    8|  Bobbey|        2|            1|        Rui.Bobbey|\n",
      "|    9|  Steffi|        3|            1|   Jacobson.Steffi|\n",
      "|   10|  Bracha|        3|            1|   Jacobson.Bracha|\n",
      "+-----+--------+---------+-------------+------------------+\n",
      "\n"
     ]
    }
   ],
   "source": [
    "rd.show()"
   ]
  },
  {
   "cell_type": "code",
   "execution_count": 16,
   "metadata": {},
   "outputs": [
    {
     "name": "stdout",
     "output_type": "stream",
     "text": [
      "+-----+--------+---------+-------------+------------------+\n",
      "|EmpID|EmpName |ReportsTo|HirarchyLevel|FullyQualifiedName|\n",
      "+-----+--------+---------+-------------+------------------+\n",
      "|1    |Jacob   |NULL     |0            |Jacob             |\n",
      "|2    |Rui     |NULL     |0            |Rui               |\n",
      "|3    |Jacobson|NULL     |0            |Jacobson          |\n",
      "|4    |Jess    |1        |1            |Jacob.Jess        |\n",
      "|5    |Steve   |1        |1            |Jacob.Steve       |\n",
      "|6    |Bob     |1        |1            |Jacob.Bob         |\n",
      "|7    |Smith   |2        |1            |Rui.Smith         |\n",
      "|8    |Bobbey  |2        |1            |Rui.Bobbey        |\n",
      "|9    |Steffi  |3        |1            |Jacobson.Steffi   |\n",
      "|10   |Bracha  |3        |1            |Jacobson.Bracha   |\n",
      "|6    |Bob     |1        |1            |Jacob.Bob         |\n",
      "|5    |Steve   |1        |1            |Jacob.Steve       |\n",
      "|4    |Jess    |1        |1            |Jacob.Jess        |\n",
      "|8    |Bobbey  |2        |1            |Rui.Bobbey        |\n",
      "|7    |Smith   |2        |1            |Rui.Smith         |\n",
      "|10   |Bracha  |3        |1            |Jacobson.Bracha   |\n",
      "|9    |Steffi  |3        |1            |Jacobson.Steffi   |\n",
      "|11   |John    |5        |1            |Steve.John        |\n",
      "|13   |Paul    |6        |1            |Bob.Paul          |\n",
      "|12   |Michael |6        |1            |Bob.Michael       |\n",
      "+-----+--------+---------+-------------+------------------+\n",
      "only showing top 20 rows\n",
      "\n"
     ]
    }
   ],
   "source": [
    "rd.show()"
   ]
  },
  {
   "cell_type": "code",
   "execution_count": null,
   "metadata": {},
   "outputs": [],
   "source": []
  }
 ],
 "metadata": {
  "kernelspec": {
   "display_name": "Python 3",
   "language": "python",
   "name": "python3"
  },
  "language_info": {
   "codemirror_mode": {
    "name": "ipython",
    "version": 3
   },
   "file_extension": ".py",
   "mimetype": "text/x-python",
   "name": "python",
   "nbconvert_exporter": "python",
   "pygments_lexer": "ipython3",
   "version": "3.10.10"
  },
  "orig_nbformat": 4,
  "vscode": {
   "interpreter": {
    "hash": "3b7e9cb8e453d6cda0fe8c8dd13f891a1f09162f0e7c66ffeae7751a7aecf00d"
   }
  }
 },
 "nbformat": 4,
 "nbformat_minor": 2
}
