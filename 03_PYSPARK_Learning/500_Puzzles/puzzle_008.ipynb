{
 "cells": [
  {
   "cell_type": "code",
   "execution_count": 2,
   "metadata": {},
   "outputs": [],
   "source": [
    "from pyspark.sql import SparkSession\n",
    "import pyspark.sql.functions as F\n",
    "import pyspark.sql.types as T\n",
    "from pyspark.sql.window import Window as W\n",
    "\n",
    "spark = SparkSession.builder.appName('Puzzle').getOrCreate()"
   ]
  },
  {
   "cell_type": "code",
   "execution_count": 3,
   "metadata": {},
   "outputs": [
    {
     "name": "stdout",
     "output_type": "stream",
     "text": [
      "+-----+----+----+----+\n",
      "|Year1|Max1|Max2|Max3|\n",
      "+-----+----+----+----+\n",
      "| 2001|  10| 101|  87|\n",
      "| 2002| 103|  19|  88|\n",
      "| 2003|  21|  23|  89|\n",
      "| 2004|  27|  28|  91|\n",
      "+-----+----+----+----+\n",
      "\n"
     ]
    }
   ],
   "source": [
    "df = spark.read.csv('data/puzzle_008.csv', header=True, inferSchema=True)\n",
    "df.show()"
   ]
  },
  {
   "cell_type": "code",
   "execution_count": 4,
   "metadata": {},
   "outputs": [
    {
     "name": "stdout",
     "output_type": "stream",
     "text": [
      "+-----+------+\n",
      "|Year1|MaxNum|\n",
      "+-----+------+\n",
      "| 2001|   101|\n",
      "| 2002|   103|\n",
      "| 2003|    89|\n",
      "| 2004|    91|\n",
      "+-----+------+\n",
      "\n"
     ]
    }
   ],
   "source": [
    "df.select('Year1', F.greatest(F.col('Max1'), F.col('Max2'), F.col('Max3')).alias('MaxNum')).show()"
   ]
  },
  {
   "cell_type": "code",
   "execution_count": null,
   "metadata": {},
   "outputs": [],
   "source": []
  }
 ],
 "metadata": {
  "kernelspec": {
   "display_name": "Python 3",
   "language": "python",
   "name": "python3"
  },
  "language_info": {
   "codemirror_mode": {
    "name": "ipython",
    "version": 3
   },
   "file_extension": ".py",
   "mimetype": "text/x-python",
   "name": "python",
   "nbconvert_exporter": "python",
   "pygments_lexer": "ipython3",
   "version": "3.10.9"
  },
  "orig_nbformat": 4,
  "vscode": {
   "interpreter": {
    "hash": "3b7e9cb8e453d6cda0fe8c8dd13f891a1f09162f0e7c66ffeae7751a7aecf00d"
   }
  }
 },
 "nbformat": 4,
 "nbformat_minor": 2
}
