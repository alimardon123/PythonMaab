{
 "cells": [
  {
   "cell_type": "code",
   "execution_count": 2,
   "metadata": {},
   "outputs": [],
   "source": [
    "from pyspark.sql import SparkSession\n",
    "import pyspark.sql.functions as F\n",
    "import pyspark.sql.types as T\n",
    "from pyspark.sql.window import Window as W\n",
    "\n",
    "spark = SparkSession.builder.appName('Puzzle').getOrCreate()"
   ]
  },
  {
   "cell_type": "code",
   "execution_count": 3,
   "metadata": {},
   "outputs": [],
   "source": [
    "schema = T.StructType(\n",
    "    [\n",
    "        T.StructField('ID', T.IntegerType(), True),\n",
    "        T.StructField('Name', T.StringType(), True),\n",
    "        T.StructField('Salary', T.IntegerType(), True),\n",
    "        T.StructField('DOJ', T.DateType(), True)\n",
    "    ]\n",
    ")"
   ]
  },
  {
   "cell_type": "code",
   "execution_count": 4,
   "metadata": {},
   "outputs": [
    {
     "name": "stdout",
     "output_type": "stream",
     "text": [
      "+---+----+------+----------+\n",
      "| ID|Name|Salary|       DOJ|\n",
      "+---+----+------+----------+\n",
      "|  1|   A|   100|2014-10-02|\n",
      "|  2|   B|   200|2013-03-16|\n",
      "|  3|   C|   300|2014-01-02|\n",
      "|  4|   D|   400|2012-02-17|\n",
      "|  5|   E|   500|2012-02-08|\n",
      "+---+----+------+----------+\n",
      "\n"
     ]
    }
   ],
   "source": [
    "df = spark.read.csv('data/puzzle_038.csv', header=True, schema=schema, dateFormat='dd-MMM-yy')\n",
    "df.show()"
   ]
  },
  {
   "cell_type": "code",
   "execution_count": 5,
   "metadata": {},
   "outputs": [
    {
     "name": "stdout",
     "output_type": "stream",
     "text": [
      "+---+----+------+----------+\n",
      "| ID|Name|Salary|       DOJ|\n",
      "+---+----+------+----------+\n",
      "|  1|   A|   100|2014-10-31|\n",
      "|  2|   B|   200|2013-04-26|\n",
      "|  3|   C|   300|2014-01-31|\n",
      "|  4|   D|   400|2012-03-30|\n",
      "|  5|   E|   500|2012-02-24|\n",
      "+---+----+------+----------+\n",
      "\n"
     ]
    }
   ],
   "source": [
    "df.select(\n",
    "    '*',\n",
    "    F.when(  F.dayofmonth('DOJ')<15, F.last_day('DOJ') ).otherwise(F.last_day(F.add_months('DOJ',1))).alias('NDOJ')\n",
    ").select(\n",
    "    '*',\n",
    "    F.dayofweek('NDOJ'),\n",
    "    F.when(\n",
    "          F.dayofweek('NDOJ')<6, \n",
    "         -1*(F.dayofweek('NDOJ')+1)\n",
    "      ).when( \n",
    "           F.dayofweek('NDOJ')>6, \n",
    "            -1\n",
    "      ).otherwise(0).alias('DaysTOSub')\n",
    ").select(\n",
    "    'ID',\n",
    "    'Name',\n",
    "    'Salary',\n",
    "    F.date_add('NDOJ', F.col('DaysTOSub')).alias('DOJ')\n",
    ").show()"
   ]
  },
  {
   "cell_type": "code",
   "execution_count": null,
   "metadata": {},
   "outputs": [],
   "source": []
  }
 ],
 "metadata": {
  "kernelspec": {
   "display_name": "Python 3",
   "language": "python",
   "name": "python3"
  },
  "language_info": {
   "codemirror_mode": {
    "name": "ipython",
    "version": 3
   },
   "file_extension": ".py",
   "mimetype": "text/x-python",
   "name": "python",
   "nbconvert_exporter": "python",
   "pygments_lexer": "ipython3",
   "version": "3.10.10"
  },
  "orig_nbformat": 4,
  "vscode": {
   "interpreter": {
    "hash": "3b7e9cb8e453d6cda0fe8c8dd13f891a1f09162f0e7c66ffeae7751a7aecf00d"
   }
  }
 },
 "nbformat": 4,
 "nbformat_minor": 2
}
