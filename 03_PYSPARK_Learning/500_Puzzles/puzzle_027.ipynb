{
 "cells": [
  {
   "cell_type": "code",
   "execution_count": 6,
   "metadata": {},
   "outputs": [],
   "source": [
    "from pyspark.sql import SparkSession\n",
    "import pyspark.sql.functions as F\n",
    "import pyspark.sql.types as T\n",
    "from pyspark.sql.window import Window as W\n",
    "\n",
    "spark = SparkSession.builder.appName('Puzzle').getOrCreate()"
   ]
  },
  {
   "cell_type": "code",
   "execution_count": 7,
   "metadata": {},
   "outputs": [
    {
     "name": "stdout",
     "output_type": "stream",
     "text": [
      "+-------+\n",
      "|    val|\n",
      "+-------+\n",
      "|100.119|\n",
      "|  1.119|\n",
      "|111.119|\n",
      "| 81.115|\n",
      "| 90.114|\n",
      "| 100.11|\n",
      "|  100.0|\n",
      "|100.001|\n",
      "|100.019|\n",
      "+-------+\n",
      "\n",
      "root\n",
      " |-- val: double (nullable = true)\n",
      "\n"
     ]
    }
   ],
   "source": [
    "df = spark.read.csv('data/puzzle_027.csv', header=True, inferSchema=True)\n",
    "df.show()\n",
    "df.printSchema()"
   ]
  },
  {
   "cell_type": "code",
   "execution_count": 9,
   "metadata": {},
   "outputs": [
    {
     "name": "stdout",
     "output_type": "stream",
     "text": [
      "+------+\n",
      "|   val|\n",
      "+------+\n",
      "|100.12|\n",
      "|  1.12|\n",
      "|111.12|\n",
      "| 81.11|\n",
      "| 90.11|\n",
      "|100.11|\n",
      "|   100|\n",
      "|   100|\n",
      "|100.02|\n",
      "+------+\n",
      "\n"
     ]
    }
   ],
   "source": [
    "df.select(\n",
    "F.expr(\"format_number(Val, '0.##')\").alias('val')\n",
    ").show() # type: ignore"
   ]
  },
  {
   "cell_type": "code",
   "execution_count": 8,
   "metadata": {},
   "outputs": [
    {
     "name": "stdout",
     "output_type": "stream",
     "text": [
      "+--------+\n",
      "|     val|\n",
      "+--------+\n",
      "|100.1190|\n",
      "|  1.1190|\n",
      "|111.1190|\n",
      "| 81.1150|\n",
      "| 90.1140|\n",
      "|100.1100|\n",
      "|100.0000|\n",
      "|100.0010|\n",
      "|100.0190|\n",
      "+--------+\n",
      "\n"
     ]
    }
   ],
   "source": [
    "df.select(\n",
    "F.format_number(F.col('Val'),4).alias('val')\n",
    ").show() # type: ignore"
   ]
  }
 ],
 "metadata": {
  "kernelspec": {
   "display_name": "Python 3",
   "language": "python",
   "name": "python3"
  },
  "language_info": {
   "codemirror_mode": {
    "name": "ipython",
    "version": 3
   },
   "file_extension": ".py",
   "mimetype": "text/x-python",
   "name": "python",
   "nbconvert_exporter": "python",
   "pygments_lexer": "ipython3",
   "version": "3.10.10"
  },
  "orig_nbformat": 4,
  "vscode": {
   "interpreter": {
    "hash": "3b7e9cb8e453d6cda0fe8c8dd13f891a1f09162f0e7c66ffeae7751a7aecf00d"
   }
  }
 },
 "nbformat": 4,
 "nbformat_minor": 2
}
