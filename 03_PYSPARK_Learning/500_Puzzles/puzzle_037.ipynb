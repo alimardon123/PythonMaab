{
 "cells": [
  {
   "cell_type": "code",
   "execution_count": 1,
   "metadata": {},
   "outputs": [],
   "source": [
    "from pyspark.sql import SparkSession\n",
    "import pyspark.sql.functions as F\n",
    "import pyspark.sql.types as T\n",
    "from pyspark.sql.window import Window as W\n",
    "\n",
    "spark = SparkSession.builder.appName('Puzzle').getOrCreate()"
   ]
  },
  {
   "cell_type": "code",
   "execution_count": 2,
   "metadata": {},
   "outputs": [
    {
     "name": "stdout",
     "output_type": "stream",
     "text": [
      "+------+------+\n",
      "|  Name| Fruit|\n",
      "+------+------+\n",
      "|Neeraj| MANGO|\n",
      "|Neeraj| MANGO|\n",
      "|Neeraj| MANGO|\n",
      "|Neeraj| APPLE|\n",
      "|Neeraj|ORANGE|\n",
      "|Neeraj| LICHI|\n",
      "|Neeraj| LICHI|\n",
      "|Neeraj| LICHI|\n",
      "|  Isha| MANGO|\n",
      "|  Isha| MANGO|\n",
      "|  Isha| APPLE|\n",
      "|  Isha|ORANGE|\n",
      "|  Isha| LICHI|\n",
      "| Gopal| MANGO|\n",
      "| Gopal| MANGO|\n",
      "| Gopal| APPLE|\n",
      "| Gopal| APPLE|\n",
      "| Gopal| APPLE|\n",
      "| Gopal|ORANGE|\n",
      "| Gopal| LICHI|\n",
      "+------+------+\n",
      "only showing top 20 rows\n",
      "\n"
     ]
    }
   ],
   "source": [
    "df = spark.read.csv('data/puzzle_037.csv', header=True, inferSchema=True)\n",
    "df.show()"
   ]
  },
  {
   "cell_type": "code",
   "execution_count": 12,
   "metadata": {},
   "outputs": [
    {
     "name": "stdout",
     "output_type": "stream",
     "text": [
      "+------+-----+-----+-----+------+\n",
      "|  Name|APPLE|LICHI|MANGO|ORANGE|\n",
      "+------+-----+-----+-----+------+\n",
      "|Neeraj|    1|    3|    3|     1|\n",
      "|  Isha|    1|    1|    2|     1|\n",
      "|Mayank|    2|    1|    2|     1|\n",
      "| Gopal|    3|    1|    2|     1|\n",
      "+------+-----+-----+-----+------+\n",
      "\n"
     ]
    }
   ],
   "source": [
    "df.groupBy('Name').pivot('Fruit',).count().show()"
   ]
  },
  {
   "cell_type": "code",
   "execution_count": 13,
   "metadata": {},
   "outputs": [],
   "source": []
  },
  {
   "cell_type": "code",
   "execution_count": null,
   "metadata": {},
   "outputs": [],
   "source": []
  },
  {
   "cell_type": "code",
   "execution_count": null,
   "metadata": {},
   "outputs": [],
   "source": []
  }
 ],
 "metadata": {
  "kernelspec": {
   "display_name": "Python 3",
   "language": "python",
   "name": "python3"
  },
  "language_info": {
   "codemirror_mode": {
    "name": "ipython",
    "version": 3
   },
   "file_extension": ".py",
   "mimetype": "text/x-python",
   "name": "python",
   "nbconvert_exporter": "python",
   "pygments_lexer": "ipython3",
   "version": "3.10.10"
  },
  "orig_nbformat": 4,
  "vscode": {
   "interpreter": {
    "hash": "3b7e9cb8e453d6cda0fe8c8dd13f891a1f09162f0e7c66ffeae7751a7aecf00d"
   }
  }
 },
 "nbformat": 4,
 "nbformat_minor": 2
}
