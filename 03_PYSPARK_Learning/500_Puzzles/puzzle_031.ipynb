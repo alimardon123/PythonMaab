{
 "cells": [
  {
   "cell_type": "code",
   "execution_count": 1,
   "metadata": {},
   "outputs": [],
   "source": [
    "from pyspark.sql import SparkSession\n",
    "import pyspark.sql.functions as F\n",
    "import pyspark.sql.types as T\n",
    "from pyspark.sql.window import Window as W\n",
    "\n",
    "spark = SparkSession.builder.appName('Puzzle').getOrCreate()"
   ]
  },
  {
   "cell_type": "code",
   "execution_count": 4,
   "metadata": {},
   "outputs": [
    {
     "name": "stdout",
     "output_type": "stream",
     "text": [
      "+----------+------------+---------------+------+\n",
      "|        Dt|         CID|TransactionType|Amount|\n",
      "+----------+------------+---------------+------+\n",
      "|01-01-2015|  IshaMattoo|             CR| 18000|\n",
      "|02-01-2015|  IshaMattoo|             DB|  3000|\n",
      "|03-01-2015|  IshaMattoo|             CR|  8000|\n",
      "|04-01-2015|  IshaMattoo|             DB|  9000|\n",
      "|04-01-2015|AvtaarKishan|             CR|  1000|\n",
      "|05-01-2015|AvtaarKishan|             CR|  6000|\n",
      "|05-01-2015|AvtaarKishan|             DB|  5000|\n",
      "+----------+------------+---------------+------+\n",
      "\n"
     ]
    }
   ],
   "source": [
    "df = spark.read.csv('data/puzzle_031.csv', header=True, inferSchema=True)\n",
    "df.show()\n"
   ]
  },
  {
   "cell_type": "code",
   "execution_count": 12,
   "metadata": {},
   "outputs": [
    {
     "name": "stdout",
     "output_type": "stream",
     "text": [
      "+----------+------------+---------------+------+---------+\n",
      "|        Dt|         CID|TransactionType|Amount|CumSumAmt|\n",
      "+----------+------------+---------------+------+---------+\n",
      "|04-01-2015|AvtaarKishan|             CR|  1000|     1000|\n",
      "|05-01-2015|AvtaarKishan|             CR|  6000|     2000|\n",
      "|05-01-2015|AvtaarKishan|             DB|  5000|     2000|\n",
      "|01-01-2015|  IshaMattoo|             CR| 18000|    18000|\n",
      "|02-01-2015|  IshaMattoo|             DB|  3000|    15000|\n",
      "|03-01-2015|  IshaMattoo|             CR|  8000|    23000|\n",
      "|04-01-2015|  IshaMattoo|             DB|  9000|    14000|\n",
      "+----------+------------+---------------+------+---------+\n",
      "\n"
     ]
    }
   ],
   "source": [
    "df.select(\n",
    "    '*',\n",
    "    F.sum(F.when(F.col('TransactionType') =='DB', -1*F.col('Amount')\n",
    "            ).otherwise(F.col('Amount'))\n",
    "        ).over(W.partitionBy(F.col('CID')).orderBy(F.col('Dt'))).alias('CumSumAmt')\n",
    ").show()"
   ]
  },
  {
   "cell_type": "code",
   "execution_count": null,
   "metadata": {},
   "outputs": [],
   "source": []
  }
 ],
 "metadata": {
  "kernelspec": {
   "display_name": "Python 3",
   "language": "python",
   "name": "python3"
  },
  "language_info": {
   "codemirror_mode": {
    "name": "ipython",
    "version": 3
   },
   "file_extension": ".py",
   "mimetype": "text/x-python",
   "name": "python",
   "nbconvert_exporter": "python",
   "pygments_lexer": "ipython3",
   "version": "3.10.10"
  },
  "orig_nbformat": 4,
  "vscode": {
   "interpreter": {
    "hash": "3b7e9cb8e453d6cda0fe8c8dd13f891a1f09162f0e7c66ffeae7751a7aecf00d"
   }
  }
 },
 "nbformat": 4,
 "nbformat_minor": 2
}
