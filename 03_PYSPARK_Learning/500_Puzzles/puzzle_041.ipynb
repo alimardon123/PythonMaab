{
 "cells": [
  {
   "cell_type": "code",
   "execution_count": 1,
   "metadata": {},
   "outputs": [],
   "source": [
    "from pyspark.sql import SparkSession\n",
    "import pyspark.sql.functions as F\n",
    "import pyspark.sql.types as T\n",
    "from pyspark.sql.window import Window as W\n",
    "\n",
    "spark = SparkSession.builder.appName('Puzzle').getOrCreate()"
   ]
  },
  {
   "cell_type": "code",
   "execution_count": 2,
   "metadata": {},
   "outputs": [
    {
     "name": "stdout",
     "output_type": "stream",
     "text": [
      "+-------+-----+--------+--------------+-------+\n",
      "|deal_id|price|quantity|total_quantity| months|\n",
      "+-------+-----+--------+--------------+-------+\n",
      "|      2|  4.0|   10000|        310000|00:00.0|\n",
      "|      2|  4.0|   10000|        280000|00:00.0|\n",
      "|      2|  4.5|   10000|        310000|00:00.0|\n",
      "|      2|  4.0|   10000|        310000|00:00.0|\n",
      "|      2|  4.0|   15000|        280000|00:00.0|\n",
      "|      2|  4.0|   15000|        310000|00:00.0|\n",
      "+-------+-----+--------+--------------+-------+\n",
      "\n"
     ]
    }
   ],
   "source": [
    "df = spark.read.csv('data/puzzle_041.csv', header=True, inferSchema=True)\n",
    "df.show()"
   ]
  },
  {
   "cell_type": "code",
   "execution_count": 24,
   "metadata": {},
   "outputs": [
    {
     "name": "stdout",
     "output_type": "stream",
     "text": [
      "+-------+-----+--------+--------------+-------+---+---+\n",
      "|deal_id|price|quantity|total_quantity| months| ss| dd|\n",
      "+-------+-----+--------+--------------+-------+---+---+\n",
      "|      2|  4.0|   10000|        310000|00:00.0|  1|  3|\n",
      "|      2|  4.0|   10000|        280000|00:00.0|  0|  3|\n",
      "|      2|  4.5|   10000|        310000|00:00.0|  1|  3|\n",
      "|      2|  4.0|   10000|        310000|00:00.0|  1|  3|\n",
      "|      2|  4.0|   15000|        280000|00:00.0|  0|  3|\n",
      "|      2|  4.0|   15000|        310000|00:00.0|  0|  3|\n",
      "+-------+-----+--------+--------------+-------+---+---+\n",
      "\n"
     ]
    }
   ],
   "source": [
    "df.select(\n",
    "    '*',\n",
    "    F.when(F.lag('price',1,0).over(W.orderBy(F.lit(1))) !=F.col('price'),1).otherwise(0).alias('ss'),\n",
    "    ).select('*',\n",
    "        F.sum(F.col('ss')).over(W.orderBy(F.col('deal_id'))).alias('dd')).show()"
   ]
  },
  {
   "cell_type": "code",
   "execution_count": null,
   "metadata": {},
   "outputs": [],
   "source": []
  }
 ],
 "metadata": {
  "kernelspec": {
   "display_name": "Python 3",
   "language": "python",
   "name": "python3"
  },
  "language_info": {
   "codemirror_mode": {
    "name": "ipython",
    "version": 3
   },
   "file_extension": ".py",
   "mimetype": "text/x-python",
   "name": "python",
   "nbconvert_exporter": "python",
   "pygments_lexer": "ipython3",
   "version": "3.10.10"
  },
  "orig_nbformat": 4,
  "vscode": {
   "interpreter": {
    "hash": "3b7e9cb8e453d6cda0fe8c8dd13f891a1f09162f0e7c66ffeae7751a7aecf00d"
   }
  }
 },
 "nbformat": 4,
 "nbformat_minor": 2
}
