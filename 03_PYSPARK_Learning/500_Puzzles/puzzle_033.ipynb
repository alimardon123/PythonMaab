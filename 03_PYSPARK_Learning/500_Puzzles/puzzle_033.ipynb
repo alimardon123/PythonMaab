{
 "cells": [
  {
   "cell_type": "code",
   "execution_count": 1,
   "metadata": {},
   "outputs": [],
   "source": [
    "from pyspark.sql import SparkSession\n",
    "import pyspark.sql.functions as F\n",
    "import pyspark.sql.types as T\n",
    "from pyspark.sql.window import Window as W\n",
    "\n",
    "spark = SparkSession.builder.appName('Puzzle').getOrCreate()"
   ]
  },
  {
   "cell_type": "code",
   "execution_count": 2,
   "metadata": {},
   "outputs": [],
   "source": [
    "# ID,EmpName,EmpDate\n",
    "schema = T.StructType(\n",
    "    [\n",
    "        T.StructField('ID', T.IntegerType(), True),\n",
    "        T.StructField('EmpName', T.StringType(), True),\n",
    "        T.StructField('EmpDate', T.DateType(), True)\n",
    "    ]\n",
    ")"
   ]
  },
  {
   "cell_type": "code",
   "execution_count": 3,
   "metadata": {},
   "outputs": [
    {
     "name": "stdout",
     "output_type": "stream",
     "text": [
      "+---+-------+----------+\n",
      "| ID|EmpName|   EmpDate|\n",
      "+---+-------+----------+\n",
      "|  1|  Pawan|2014-01-05|\n",
      "|  1|  Pawan|2014-03-05|\n",
      "|  1|  Pawan|2014-02-05|\n",
      "|  4|Manisha|2014-07-05|\n",
      "|  5|Sharlee|2014-09-05|\n",
      "|  6|  Barry|2014-02-05|\n",
      "|  7|  Jyoti|2014-04-05|\n",
      "|  7|  Jyoti|2014-05-05|\n",
      "+---+-------+----------+\n",
      "\n"
     ]
    }
   ],
   "source": [
    "df = spark.read.csv('data/puzzle_033.csv', header=True, schema=schema, dateFormat='dd-MM-yyyy')\n",
    "df.show()"
   ]
  },
  {
   "cell_type": "code",
   "execution_count": 7,
   "metadata": {},
   "outputs": [
    {
     "name": "stdout",
     "output_type": "stream",
     "text": [
      "+-------+-----+\n",
      "|EmpName|Count|\n",
      "+-------+-----+\n",
      "|  Jyoti|    2|\n",
      "|  Pawan|    3|\n",
      "+-------+-----+\n",
      "\n"
     ]
    }
   ],
   "source": [
    "df.withColumn('Rn',\n",
    "        F.row_number().over(W.partitionBy(F.col('EmpName')).orderBy(F.col('Empdate')))\n",
    ").where(F.col('Rn')>1).groupBy('EmpName').agg(F.max('RN').alias('Count')).show()"
   ]
  },
  {
   "cell_type": "code",
   "execution_count": null,
   "metadata": {},
   "outputs": [],
   "source": []
  }
 ],
 "metadata": {
  "kernelspec": {
   "display_name": "Python 3",
   "language": "python",
   "name": "python3"
  },
  "language_info": {
   "codemirror_mode": {
    "name": "ipython",
    "version": 3
   },
   "file_extension": ".py",
   "mimetype": "text/x-python",
   "name": "python",
   "nbconvert_exporter": "python",
   "pygments_lexer": "ipython3",
   "version": "3.10.10"
  },
  "orig_nbformat": 4,
  "vscode": {
   "interpreter": {
    "hash": "3b7e9cb8e453d6cda0fe8c8dd13f891a1f09162f0e7c66ffeae7751a7aecf00d"
   }
  }
 },
 "nbformat": 4,
 "nbformat_minor": 2
}
