{
 "cells": [
  {
   "cell_type": "code",
   "execution_count": 1,
   "metadata": {},
   "outputs": [],
   "source": [
    "from pyspark.sql import SparkSession\n",
    "import pyspark.sql.functions as F\n",
    "import pyspark.sql.types as T\n",
    "from pyspark.sql.window import Window as W\n",
    "\n",
    "spark = SparkSession.builder.appName('Puzzle').getOrCreate()"
   ]
  },
  {
   "cell_type": "code",
   "execution_count": 2,
   "metadata": {},
   "outputs": [
    {
     "name": "stdout",
     "output_type": "stream",
     "text": [
      "+----+-------+\n",
      "|  ID|   Name|\n",
      "+----+-------+\n",
      "|1001|    Ram|\n",
      "|1002| Ramesh|\n",
      "|1003|Supriya|\n",
      "|1004|Sharlee|\n",
      "+----+-------+\n",
      "\n"
     ]
    }
   ],
   "source": [
    "Approver = spark.read.csv('data/puzzle_032_01.csv', header=True, inferSchema=True)\n",
    "Approver.show()\n"
   ]
  },
  {
   "cell_type": "code",
   "execution_count": 3,
   "metadata": {},
   "outputs": [
    {
     "name": "stdout",
     "output_type": "stream",
     "text": [
      "+--------+---------+----------+\n",
      "|TicketID|CreatedBy|ApprovedBy|\n",
      "+--------+---------+----------+\n",
      "|       1|     1001|      1004|\n",
      "|       2|     1001|      1004|\n",
      "|       3|     1002|      1004|\n",
      "|       4|     1001|      1003|\n",
      "+--------+---------+----------+\n",
      "\n"
     ]
    }
   ],
   "source": [
    "TicketDetails = spark.read.csv('data/puzzle_032_02.csv', header=True, inferSchema=True)\n",
    "TicketDetails.show()"
   ]
  },
  {
   "cell_type": "code",
   "execution_count": 6,
   "metadata": {},
   "outputs": [
    {
     "name": "stdout",
     "output_type": "stream",
     "text": [
      "+--------+---------+----------+\n",
      "|TicketID|CreatedBy|ApprovedBy|\n",
      "+--------+---------+----------+\n",
      "|       1|      Ram|   Sharlee|\n",
      "|       2|      Ram|   Sharlee|\n",
      "|       3|   Ramesh|   Sharlee|\n",
      "|       4|      Ram|   Supriya|\n",
      "+--------+---------+----------+\n",
      "\n"
     ]
    }
   ],
   "source": [
    "TicketDetails.alias('a').join(\n",
    "    Approver.alias('b'), on=F.col('a.CreatedBy') == F.col('b.ID'), how='left'\n",
    ").join(\n",
    "        Approver.alias('c'), on=F.col('a.ApprovedBy') == F.col('c.ID'), how='left'\n",
    ").select(\n",
    "    F.col('a.TicketID').alias('TicketID'),\n",
    "    F.col('b.Name').alias('CreatedBy'),\n",
    "    F.col('c.Name').alias('ApprovedBy')\n",
    ").show()"
   ]
  },
  {
   "cell_type": "code",
   "execution_count": null,
   "metadata": {},
   "outputs": [],
   "source": []
  }
 ],
 "metadata": {
  "kernelspec": {
   "display_name": "Python 3",
   "language": "python",
   "name": "python3"
  },
  "language_info": {
   "codemirror_mode": {
    "name": "ipython",
    "version": 3
   },
   "file_extension": ".py",
   "mimetype": "text/x-python",
   "name": "python",
   "nbconvert_exporter": "python",
   "pygments_lexer": "ipython3",
   "version": "3.10.10"
  },
  "orig_nbformat": 4,
  "vscode": {
   "interpreter": {
    "hash": "3b7e9cb8e453d6cda0fe8c8dd13f891a1f09162f0e7c66ffeae7751a7aecf00d"
   }
  }
 },
 "nbformat": 4,
 "nbformat_minor": 2
}
