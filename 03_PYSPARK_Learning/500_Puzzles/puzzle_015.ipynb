{
 "cells": [
  {
   "cell_type": "code",
   "execution_count": 1,
   "metadata": {},
   "outputs": [],
   "source": [
    "from pyspark.sql import SparkSession\n",
    "import pyspark.sql.functions as F\n",
    "import pyspark.sql.types as T\n",
    "from pyspark.sql.window import Window as W\n",
    "\n",
    "spark = SparkSession.builder.appName('Puzzle').getOrCreate()"
   ]
  },
  {
   "cell_type": "code",
   "execution_count": 2,
   "metadata": {},
   "outputs": [
    {
     "name": "stdout",
     "output_type": "stream",
     "text": [
      "+-----------+--------+-----------+\n",
      "|WorkOrderID|STEP_NBR|STEP_STATUS|\n",
      "+-----------+--------+-----------+\n",
      "|      AA100|       0|          C|\n",
      "|      AA100|       1|          W|\n",
      "|      AA100|       2|          W|\n",
      "|      AA200|       0|          W|\n",
      "|      AA200|       1|          W|\n",
      "|      AA300|       0|          C|\n",
      "|      AA300|       1|          C|\n",
      "+-----------+--------+-----------+\n",
      "\n"
     ]
    }
   ],
   "source": [
    "df = spark.read.csv('data/puzzle_015.csv', header=True, inferSchema=True)\n",
    "df.show()"
   ]
  },
  {
   "cell_type": "code",
   "execution_count": 14,
   "metadata": {},
   "outputs": [
    {
     "name": "stdout",
     "output_type": "stream",
     "text": [
      "+-----------+---+----------+----+\n",
      "|WorkOrderID| Rn|TotalCount|Dcnt|\n",
      "+-----------+---+----------+----+\n",
      "|      AA100|  3|         3|   2|\n",
      "+-----------+---+----------+----+\n",
      "\n"
     ]
    }
   ],
   "source": [
    "df.withColumn(\n",
    "            'Rn', F.when((F.col('STEP_NBR')==0) & (F.col('STEP_STATUS') =='C'), 1)\n",
    "                    .when(F.col('STEP_STATUS')=='W', 1)\n",
    "                    .otherwise(0)\n",
    ").groupBy('WorkOrderID').agg(\n",
    "    F.sum(F.col(\"Rn\")).alias('Rn'), \n",
    "    F.count(F.col('STEP_STATUS').isin(['W'])).alias('TotalCount'),\n",
    "    F.count_distinct(F.col('STEP_STATUS')).alias('Dcnt')\n",
    ").where(\n",
    "    (F.col('Rn')==F.col('TotalCount')) & \n",
    "    (F.col('Dcnt') ==2)\n",
    ").show()"
   ]
  },
  {
   "cell_type": "code",
   "execution_count": null,
   "metadata": {},
   "outputs": [],
   "source": []
  }
 ],
 "metadata": {
  "kernelspec": {
   "display_name": "Python 3",
   "language": "python",
   "name": "python3"
  },
  "language_info": {
   "codemirror_mode": {
    "name": "ipython",
    "version": 3
   },
   "file_extension": ".py",
   "mimetype": "text/x-python",
   "name": "python",
   "nbconvert_exporter": "python",
   "pygments_lexer": "ipython3",
   "version": "3.10.9 (tags/v3.10.9:1dd9be6, Dec  6 2022, 20:01:21) [MSC v.1934 64 bit (AMD64)]"
  },
  "orig_nbformat": 4,
  "vscode": {
   "interpreter": {
    "hash": "3b7e9cb8e453d6cda0fe8c8dd13f891a1f09162f0e7c66ffeae7751a7aecf00d"
   }
  }
 },
 "nbformat": 4,
 "nbformat_minor": 2
}
