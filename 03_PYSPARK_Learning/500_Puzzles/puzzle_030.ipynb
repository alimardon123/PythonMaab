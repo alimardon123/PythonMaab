{
 "cells": [
  {
   "cell_type": "code",
   "execution_count": 1,
   "metadata": {},
   "outputs": [],
   "source": [
    "from pyspark.sql import SparkSession\n",
    "import pyspark.sql.functions as F\n",
    "import pyspark.sql.types as T\n",
    "from pyspark.sql.window import Window as W\n",
    "\n",
    "spark = SparkSession.builder.appName('Puzzle').getOrCreate()"
   ]
  },
  {
   "cell_type": "code",
   "execution_count": 11,
   "metadata": {},
   "outputs": [
    {
     "name": "stdout",
     "output_type": "stream",
     "text": [
      "+---------+-------------+-------------+----+\n",
      "|PatientID|AdmissionDate|DischargeDate|Cost|\n",
      "+---------+-------------+-------------+----+\n",
      "|     1009|   2014-07-27|   2014-07-31|1050|\n",
      "|     1009|   2014-08-01|   2014-08-23|1070|\n",
      "|     1009|   2014-08-31|   2014-08-31|1900|\n",
      "|     1009|   2014-09-01|   2014-09-14|1260|\n",
      "|     1009|   2014-12-01|   2014-12-31|2090|\n",
      "|     1024|   2014-06-07|   2014-06-28|1900|\n",
      "|     1024|   2014-06-29|   2014-07-31|2900|\n",
      "|     1024|   2014-08-01|   2014-08-02|1800|\n",
      "+---------+-------------+-------------+----+\n",
      "\n",
      "root\n",
      " |-- PatientID: integer (nullable = true)\n",
      " |-- AdmissionDate: date (nullable = true)\n",
      " |-- DischargeDate: date (nullable = true)\n",
      " |-- Cost: integer (nullable = true)\n",
      "\n"
     ]
    }
   ],
   "source": [
    "schema = T.StructType(\n",
    "    [\n",
    "    T.StructField('PatientID',T.IntegerType(), True),\n",
    "    T.StructField('AdmissionDate',T.DateType(), True),\n",
    "    T.StructField('DischargeDate',T.DateType(), True),\n",
    "    T.StructField('Cost',T.IntegerType(), True)\n",
    "    ]\n",
    ")\n",
    "\n",
    "df = spark.read.csv('data/puzzle_030.csv', header=True, schema=schema, dateFormat=\"dd-MM-yyyy\")\n",
    "df.show()\n",
    "df.printSchema()"
   ]
  },
  {
   "cell_type": "code",
   "execution_count": 16,
   "metadata": {},
   "outputs": [
    {
     "name": "stdout",
     "output_type": "stream",
     "text": [
      "+---------+---+-------------+-------------+----+\n",
      "|PatientID|Grp|AdmissionDate|DischargeDate|Cost|\n",
      "+---------+---+-------------+-------------+----+\n",
      "|     1009|  1|   2014-07-27|   2014-08-23|2120|\n",
      "|     1009|  2|   2014-08-31|   2014-09-14|3160|\n",
      "|     1009|  3|   2014-12-01|   2014-12-31|2090|\n",
      "|     1024|  4|   2014-06-07|   2014-08-02|6600|\n",
      "+---------+---+-------------+-------------+----+\n",
      "\n"
     ]
    }
   ],
   "source": [
    "df.select(\n",
    "    '*',\n",
    "    F.lag(F.col('DischargeDate'),1, '1972-01-01').over(W.orderBy(F.lit(1))).alias('PRvDschDt')\n",
    ").select(\n",
    "    '*',\n",
    "    F.sum(F.when(\n",
    "        F.datediff(F.col('AdmissionDate'), F.col('PRvDschDt')) != 1, 1\n",
    "        ).otherwise(0)).over(W.orderBy('PatientID', 'AdmissionDate')).alias('Grp')\n",
    ").groupBy(\"PatientID\", 'Grp').agg(\n",
    "    F.min(F.col('AdmissionDate')).alias('AdmissionDate'),\n",
    "    F.max(F.col('DischargeDate')).alias('DischargeDate'),\n",
    "    F.sum(F.col('Cost')).alias('Cost')).show()\n",
    "    \n"
   ]
  },
  {
   "cell_type": "code",
   "execution_count": null,
   "metadata": {},
   "outputs": [],
   "source": []
  }
 ],
 "metadata": {
  "kernelspec": {
   "display_name": "Python 3",
   "language": "python",
   "name": "python3"
  },
  "language_info": {
   "codemirror_mode": {
    "name": "ipython",
    "version": 3
   },
   "file_extension": ".py",
   "mimetype": "text/x-python",
   "name": "python",
   "nbconvert_exporter": "python",
   "pygments_lexer": "ipython3",
   "version": "3.10.10"
  },
  "orig_nbformat": 4,
  "vscode": {
   "interpreter": {
    "hash": "3b7e9cb8e453d6cda0fe8c8dd13f891a1f09162f0e7c66ffeae7751a7aecf00d"
   }
  }
 },
 "nbformat": 4,
 "nbformat_minor": 2
}
