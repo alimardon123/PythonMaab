{
 "cells": [
  {
   "cell_type": "markdown",
   "metadata": {},
   "source": [
    "1"
   ]
  },
  {
   "cell_type": "code",
   "execution_count": 4,
   "metadata": {},
   "outputs": [
    {
     "name": "stdout",
     "output_type": "stream",
     "text": [
      "Day 1: 160.0\n",
      "Day 2: 256.0\n",
      "Day 3: 409.6\n",
      "Day 4: 655.36\n",
      "Day 5: 1048.58\n",
      "Day 6: 1677.72\n",
      "Day 7: 2684.35\n",
      "Day 8: 4294.97\n",
      "Day 9: 6871.95\n",
      "Day 10: 10995.12\n"
     ]
    }
   ],
   "source": [
    "n = int(input('Enter Starting number of population: '))\n",
    "pop = int(input('Enter Daily Population Increase Number as percentage like 20 or 15: '))\n",
    "days = int(input('Enter Number of Days: '))\n",
    "if n < 2 :\n",
    "    print('Invalid Starting number !!!\\nStarting number should be greater than 2.')\n",
    "elif pop < 0:\n",
    "    print('Invalid Population Increase Number !!!\\nPopulation Increase Number can\\'t be less than 0.')\n",
    "elif days < 1:\n",
    "    print('Invalid Input for Number of Days !!!\\nNumber of Days should be greater than or equal to 1')    \n",
    "for i in range (1, days+1):\n",
    "    n = n + n * pop / 100\n",
    "    print(f'Day {i}: {round(n, 2)}')"
   ]
  },
  {
   "cell_type": "markdown",
   "metadata": {},
   "source": [
    "2"
   ]
  },
  {
   "cell_type": "code",
   "execution_count": 5,
   "metadata": {},
   "outputs": [
    {
     "name": "stdout",
     "output_type": "stream",
     "text": [
      "5 x 1 = 5\n",
      "5 x 2 = 10\n",
      "5 x 3 = 15\n",
      "5 x 4 = 20\n",
      "5 x 5 = 25\n",
      "5 x 6 = 30\n",
      "5 x 7 = 35\n",
      "5 x 8 = 40\n",
      "5 x 9 = 45\n",
      "5 x 10 = 50\n"
     ]
    }
   ],
   "source": [
    "num = int(input(\"Sonni kiriting: \"))\n",
    "for i in range(1, 11):\n",
    "    print(f'{num} x {i} = {num*i}')"
   ]
  },
  {
   "cell_type": "markdown",
   "metadata": {},
   "source": [
    "3"
   ]
  },
  {
   "cell_type": "code",
   "execution_count": 15,
   "metadata": {},
   "outputs": [],
   "source": [
    "with open('Class6Files/inputfile.txt') as f:\n",
    "    ls = []\n",
    "    for row in f:\n",
    "        ism, n = row.split(',')\n",
    "        ls.append((int(n.removesuffix(',')),ism))\n",
    "ls.sort(reverse=True)\n",
    "\n",
    "with open('Class6Files/outputFile.txt', 'w') as out:\n",
    "    for i in ls:\n",
    "        out.write(f'{i[1]},{i[0]}\\n')"
   ]
  },
  {
   "cell_type": "markdown",
   "metadata": {},
   "source": [
    "4"
   ]
  },
  {
   "cell_type": "code",
   "execution_count": 27,
   "metadata": {},
   "outputs": [
    {
     "name": "stdout",
     "output_type": "stream",
     "text": [
      "Too high, try again\n",
      "Too high, try again\n",
      "Your guess is correct. You WON :)\n"
     ]
    }
   ],
   "source": [
    "import random\n",
    "x = random.randint(0, 5)\n",
    "guess = -5\n",
    "while guess != x:\n",
    "    guess = int(input(\"Enter your guess: \"))\n",
    "    if guess < x:\n",
    "        print('Too low, try again')\n",
    "    elif guess > x:\n",
    "        print('Too high, try again')\n",
    "    elif guess == x:\n",
    "        print('Your guess is correct. You WON :)')\n",
    "                "
   ]
  },
  {
   "cell_type": "markdown",
   "metadata": {},
   "source": [
    "5"
   ]
  },
  {
   "cell_type": "code",
   "execution_count": 28,
   "metadata": {},
   "outputs": [],
   "source": [
    "name = input('Enter your name: ')\n",
    "description = input('Describe yourself: ')\n",
    "with open('Desc.html', 'w') as f:\n",
    "    f.write(f'''\n",
    "            <html>            \n",
    "            <head>\n",
    "            </head>\n",
    "            <body>\n",
    "                <center>\n",
    "                <h1>{name}</h1>\n",
    "                </center>\n",
    "                <hr />\n",
    "                {description}\n",
    "                <hr />\n",
    "            </body>    \n",
    "            </html>\n",
    "            ''')"
   ]
  }
 ],
 "metadata": {
  "kernelspec": {
   "display_name": "Python 3.10.6 64-bit",
   "language": "python",
   "name": "python3"
  },
  "language_info": {
   "codemirror_mode": {
    "name": "ipython",
    "version": 3
   },
   "file_extension": ".py",
   "mimetype": "text/x-python",
   "name": "python",
   "nbconvert_exporter": "python",
   "pygments_lexer": "ipython3",
   "version": "3.10.6"
  },
  "orig_nbformat": 4,
  "vscode": {
   "interpreter": {
    "hash": "fb4569285eef3a3450cb62085a5b1e0da4bce0af555edc33dcf29baf3acc1368"
   }
  }
 },
 "nbformat": 4,
 "nbformat_minor": 2
}
