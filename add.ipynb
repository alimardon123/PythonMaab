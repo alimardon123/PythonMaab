{
 "cells": [
  {
   "cell_type": "code",
   "execution_count": 3,
   "metadata": {
    "vscode": {
     "languageId": "powershell"
    }
   },
   "outputs": [
    {
     "ename": "ModuleNotFoundError",
     "evalue": "No module named 'requests'",
     "output_type": "error",
     "traceback": [
      "\u001b[1;31m---------------------------------------------------------------------------\u001b[0m",
      "\u001b[1;31mModuleNotFoundError\u001b[0m                       Traceback (most recent call last)",
      "Cell \u001b[1;32mIn[3], line 1\u001b[0m\n\u001b[1;32m----> 1\u001b[0m \u001b[39mimport\u001b[39;00m \u001b[39mrequests\u001b[39;00m\n\u001b[0;32m      2\u001b[0m \u001b[39mimport\u001b[39;00m \u001b[39mcsv\u001b[39;00m\n\u001b[0;32m      4\u001b[0m \u001b[39m# Define the URL of the API endpoint\u001b[39;00m\n",
      "\u001b[1;31mModuleNotFoundError\u001b[0m: No module named 'requests'"
     ]
    }
   ],
   "source": [
    "import requests\n",
    "import csv\n",
    "\n",
    "# Define the URL of the API endpoint\n",
    "url = \"https://dummyjson.com/users\"\n",
    "\n",
    "# Make the HTTP GET request and parse the response JSON\n",
    "resp = requests.get(url)\n",
    "data = resp.json()\n",
    "\n",
    "# Get the set of all keys in the first dictonary element\n",
    "key_set = set(data[0].keys())\n",
    "\n",
    "# Create a list of column names using the key set\n",
    "col_names = [\"{} {}\".format(i, j if i == 1 else \"\")\n",
    "             for i, j in enumerate(['key']+list(sorted(key_set)))]\n",
    "\n",
    "# Open a new CSV file for writing\n",
    "with open(\"data.csv\", \"w\") as f:\n",
    "    writer = csv.writer(f)\n",
    "\n",
    "    # Write the column headers\n",
    "    writer.writerow(col_names)\n",
    "\n",
    "    # Loop through each item in the data and write its contents to the CSV file\n",
    "    for item in data:\n",
    "        row = [item[k] for k in ['id']] + [item[k] for k in sorted(key_set)]\n",
    "        writer.writerow(row)\n"
   ]
  }
 ],
 "metadata": {
  "kernelspec": {
   "display_name": "Python 3",
   "language": "python",
   "name": "python3"
  },
  "language_info": {
   "codemirror_mode": {
    "name": "ipython",
    "version": 3
   },
   "file_extension": ".py",
   "mimetype": "text/x-python",
   "name": "python",
   "nbconvert_exporter": "python",
   "pygments_lexer": "ipython3",
   "version": "3.10.11"
  },
  "orig_nbformat": 4
 },
 "nbformat": 4,
 "nbformat_minor": 2
}
