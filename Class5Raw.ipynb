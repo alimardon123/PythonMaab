{
 "cells": [
  {
   "cell_type": "code",
   "execution_count": 2,
   "metadata": {},
   "outputs": [
    {
     "data": {
      "text/plain": [
       "'B:2,Y:1'"
      ]
     },
     "execution_count": 2,
     "metadata": {},
     "output_type": "execute_result"
    }
   ],
   "source": [
    "arr = ['X:-1', 'Y:1', 'X:-4', 'B:3', 'X:5', 'B:-1']\n",
    "keys = set(map(lambda x: x.split(':')[0], arr)) # {'X', 'Y',  'B'}\n",
    "result = [(key, int(value)) for key, value in map(lambda x: x.split(':'), arr)]\n",
    "result = {key: sum(map(lambda x: x[1], filter(lambda x: x[0] == key, result))) for key in keys}\n",
    "# {'X': 0, 'Y': 1, 'B': 2}\n",
    "result = ','.join(map(lambda x: x[0] + \":\" + str(x[1]), filter(lambda x: x[1] != 0, result.items())))\n",
    "result"
   ]
  },
  {
   "cell_type": "code",
   "execution_count": 12,
   "metadata": {},
   "outputs": [
    {
     "data": {
      "text/plain": [
       "'B:2,Y:1'"
      ]
     },
     "execution_count": 12,
     "metadata": {},
     "output_type": "execute_result"
    }
   ],
   "source": [
    "keys = set(map(lambda x: x.split(':')[0], arr))\n",
    "result = [(key, int(value)) for key, value in map(lambda x: x.split(':'), arr)]\n",
    "result = {key: sum(map(lambda x: x[1],filter(lambda x : x[0]==key, result))) for key in keys}\n",
    "result = \",\".join(map(lambda x: x[0] + \":\"+ str(x[1]), filter(lambda x: x[1] !=0, result.items())))\n",
    "result"
   ]
  },
  {
   "cell_type": "code",
   "execution_count": 29,
   "metadata": {},
   "outputs": [
    {
     "data": {
      "text/plain": [
       "13"
      ]
     },
     "execution_count": 29,
     "metadata": {},
     "output_type": "execute_result"
    }
   ],
   "source": [
    "li = [5, 8]    \n",
    "\n",
    "\n",
    "def myfunc(a, b):\n",
    "\n",
    "    return a + b\n",
    "\n",
    "\n",
    "myfunc(*li)    "
   ]
  },
  {
   "cell_type": "markdown",
   "metadata": {},
   "source": [
    "Tupplelarni Functionga Argument qilib Qo'yish"
   ]
  },
  {
   "cell_type": "code",
   "execution_count": 33,
   "metadata": {},
   "outputs": [
    {
     "data": {
      "text/plain": [
       "23"
      ]
     },
     "execution_count": 33,
     "metadata": {},
     "output_type": "execute_result"
    }
   ],
   "source": [
    "def New(a, b, *c):\n",
    "    n = a + b\n",
    "    for i in c:\n",
    "        n += i\n",
    "    return n    \n",
    "New(1, 3, 5, 6, 8)        "
   ]
  },
  {
   "cell_type": "markdown",
   "metadata": {},
   "source": [
    "Dictionarylarni Functionga Argument qilib qo'yish"
   ]
  },
  {
   "cell_type": "code",
   "execution_count": 35,
   "metadata": {},
   "outputs": [
    {
     "name": "stdout",
     "output_type": "stream",
     "text": [
      "Hello Alimardon\n",
      "Age of Clients:\n",
      "Age of Bobur is 23\n",
      "Age of Alisher is 45\n",
      "Age of Bob is 24\n",
      "\n"
     ]
    }
   ],
   "source": [
    "def myfun(name, **kwargs):\n",
    "    txt = f'Hello {name}'\n",
    "    if kwargs:\n",
    "        txt += \"\\nAge of Clients:\\n\"\n",
    "    for n, age in kwargs.items():\n",
    "        txt += f\"Age of {n} is {age}\\n\"\n",
    "    return txt\n",
    "print(myfun(\"Alimardon\", Bobur=23, Alisher=45, Bob=24))                "
   ]
  },
  {
   "cell_type": "code",
   "execution_count": 36,
   "metadata": {},
   "outputs": [
    {
     "name": "stdout",
     "output_type": "stream",
     "text": [
      "Hello Alimardon\n",
      "Age of Clients:\n",
      "Age of Bobur is 23\n",
      "Age of Alisher is 45\n",
      "Age of Bob is 24\n",
      "\n"
     ]
    }
   ],
   "source": [
    "def myfun(name, **kwargs):\n",
    "    txt = f'Hello {name}'\n",
    "    if kwargs:\n",
    "        txt += \"\\nAge of Clients:\\n\"\n",
    "    for n, age in kwargs.items():\n",
    "        txt += f\"Age of {n} is {age}\\n\"\n",
    "    return txt\n",
    "ad = {\"Bobur\":23, \"Alisher\":45, \"Bob\":24}    \n",
    "print(myfun(\"Alimardon\", **ad))   # unboxing dictionary"
   ]
  },
  {
   "cell_type": "markdown",
   "metadata": {},
   "source": [
    "Funksiyada Recursiya"
   ]
  },
  {
   "cell_type": "code",
   "execution_count": 37,
   "metadata": {},
   "outputs": [
    {
     "data": {
      "text/plain": [
       "120"
      ]
     },
     "execution_count": 37,
     "metadata": {},
     "output_type": "execute_result"
    }
   ],
   "source": [
    "def fact(n):\n",
    "    res = 1\n",
    "    for i in range(2, n+1):\n",
    "        res *=i\n",
    "    return res\n",
    "\n",
    "fact(5)   # Oddiy funksiada factroial hisoblash         "
   ]
  },
  {
   "cell_type": "code",
   "execution_count": 38,
   "metadata": {},
   "outputs": [
    {
     "data": {
      "text/plain": [
       "120"
      ]
     },
     "execution_count": 38,
     "metadata": {},
     "output_type": "execute_result"
    }
   ],
   "source": [
    "def fac(n):\n",
    "    if n ==1:\n",
    "        return 1\n",
    "    return n * fac(n-1) \n",
    "fac(5)  # Recursiya yordamida factorial hisoblash"
   ]
  },
  {
   "cell_type": "code",
   "execution_count": 41,
   "metadata": {},
   "outputs": [
    {
     "data": {
      "text/plain": [
       "2"
      ]
     },
     "execution_count": 41,
     "metadata": {},
     "output_type": "execute_result"
    }
   ],
   "source": [
    "# Fibonacci sonlarini aniqlash\n",
    "def fibo(n):\n",
    "    if n == 1 or n ==0:\n",
    "        return 1\n",
    "    return fibo(n-1) + fibo(n-2) \n",
    "fibo(2)           "
   ]
  },
  {
   "cell_type": "code",
   "execution_count": null,
   "metadata": {},
   "outputs": [],
   "source": []
  }
 ],
 "metadata": {
  "kernelspec": {
   "display_name": "Python 3.10.6 64-bit",
   "language": "python",
   "name": "python3"
  },
  "language_info": {
   "codemirror_mode": {
    "name": "ipython",
    "version": 3
   },
   "file_extension": ".py",
   "mimetype": "text/x-python",
   "name": "python",
   "nbconvert_exporter": "python",
   "pygments_lexer": "ipython3",
   "version": "3.10.6"
  },
  "orig_nbformat": 4,
  "vscode": {
   "interpreter": {
    "hash": "fb4569285eef3a3450cb62085a5b1e0da4bce0af555edc33dcf29baf3acc1368"
   }
  }
 },
 "nbformat": 4,
 "nbformat_minor": 2
}
