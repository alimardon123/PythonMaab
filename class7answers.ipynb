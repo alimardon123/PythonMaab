{
 "cells": [
  {
   "cell_type": "markdown",
   "metadata": {},
   "source": [
    "1"
   ]
  },
  {
   "cell_type": "code",
   "execution_count": 8,
   "metadata": {},
   "outputs": [
    {
     "data": {
      "text/plain": [
       "False"
      ]
     },
     "execution_count": 8,
     "metadata": {},
     "output_type": "execute_result"
    }
   ],
   "source": [
    "year = int(input(\"Enter the year: \"))\n",
    "is_leap = False\n",
    "if year % 4 == 0:\n",
    "    is_leap = True\n",
    "    if year % 100 == 0:\n",
    "        is_leap = False\n",
    "        if year % 400 == 0:\n",
    "            is_leap = True\n",
    "is_leap"
   ]
  },
  {
   "cell_type": "markdown",
   "metadata": {},
   "source": [
    "1-2"
   ]
  },
  {
   "cell_type": "code",
   "execution_count": 1,
   "metadata": {},
   "outputs": [
    {
     "name": "stdout",
     "output_type": "stream",
     "text": [
      "2004 True\n"
     ]
    }
   ],
   "source": [
    "date = int(input('Enter year : '))\n",
    "if 1900<=date<=10**5:\n",
    "    if (date%4 == 0 and date%100 != 0) or (date%400 == 0):\n",
    "        print(date, \"True\")\n",
    "    else :\n",
    "        print(date, \"False\")\n",
    "else:\n",
    "    print(\"Wrong year entered. Let the year be between 1990 and 100000\")"
   ]
  },
  {
   "cell_type": "markdown",
   "metadata": {},
   "source": [
    "1-3"
   ]
  },
  {
   "cell_type": "code",
   "execution_count": 4,
   "metadata": {},
   "outputs": [
    {
     "data": {
      "text/plain": [
       "True"
      ]
     },
     "execution_count": 4,
     "metadata": {},
     "output_type": "execute_result"
    }
   ],
   "source": [
    "def is_leap(year):\n",
    "    if year % 4 == 0 and year % 100 != 0 or year % 400 == 0:\n",
    "        return True\n",
    "    return False\n",
    "is_leap(2004)"
   ]
  },
  {
   "cell_type": "markdown",
   "metadata": {},
   "source": [
    "2"
   ]
  },
  {
   "cell_type": "code",
   "execution_count": 14,
   "metadata": {},
   "outputs": [
    {
     "name": "stdout",
     "output_type": "stream",
     "text": [
      "N\n"
     ]
    }
   ],
   "source": [
    "a = [1, 2, 3, 9, 5, 6, 7]\n",
    "\n",
    "if a == sorted(a) or a == sorted(a, reverse=True):\n",
    "    print('Y')\n",
    "else:\n",
    "    print('N')"
   ]
  },
  {
   "cell_type": "markdown",
   "metadata": {},
   "source": [
    "3"
   ]
  },
  {
   "cell_type": "code",
   "execution_count": 1,
   "metadata": {},
   "outputs": [
    {
     "name": "stdout",
     "output_type": "stream",
     "text": [
      "8\n",
      "12\n"
     ]
    }
   ],
   "source": [
    "f1 = lambda x: x + 15\n",
    "f2 = lambda x, y: x * y\n",
    "\n",
    "def multi(n):\n",
    "    return lambda x: x * n\n",
    "\n",
    "double = multi(2)\n",
    "triple = multi(3)\n",
    "\n",
    "print(double(4))\n",
    "print(triple(4))"
   ]
  },
  {
   "cell_type": "markdown",
   "metadata": {},
   "source": [
    "4"
   ]
  },
  {
   "cell_type": "code",
   "execution_count": 19,
   "metadata": {},
   "outputs": [
    {
     "name": "stdout",
     "output_type": "stream",
     "text": [
      "Where did my vowels go?\n"
     ]
    }
   ],
   "source": [
    "txt = 'Wh*r* d*d my v*w*ls g*?'\n",
    "vowels = list('eeioeo')\n",
    "try:\n",
    "    while(i := vowels.pop()):\n",
    "        p = txt.rfind('*')\n",
    "        txt = txt[:p] + i + txt[p+1:]\n",
    "except IndexError:\n",
    "    print(txt)\n"
   ]
  },
  {
   "cell_type": "markdown",
   "metadata": {},
   "source": [
    "4-2"
   ]
  },
  {
   "cell_type": "code",
   "execution_count": 23,
   "metadata": {},
   "outputs": [
    {
     "data": {
      "text/plain": [
       "'Where did my vowels go?'"
      ]
     },
     "execution_count": 23,
     "metadata": {},
     "output_type": "execute_result"
    }
   ],
   "source": [
    "txt = 'Wh*r* d*d my v*w*ls g*?'\n",
    "vowels = 'eeioeo'\n",
    "\n",
    "def uncensor(txt, vowels):\n",
    "    for i in vowels:\n",
    "        p = txt.find('*')\n",
    "        txt = txt[:p] + i + txt[p+1:]\n",
    "    return txt\n",
    "\n",
    "uncensor(txt, vowels)"
   ]
  },
  {
   "cell_type": "markdown",
   "metadata": {},
   "source": [
    "5"
   ]
  },
  {
   "cell_type": "code",
   "execution_count": 24,
   "metadata": {},
   "outputs": [
    {
     "data": {
      "text/plain": [
       "'.... . .-.. .--.   -- .   -.-.--'"
      ]
     },
     "execution_count": 24,
     "metadata": {},
     "output_type": "execute_result"
    }
   ],
   "source": [
    "char_to_dots = {\n",
    "  'A': '.-', 'B': '-...', 'C': '-.-.', 'D': '-..', 'E': '.', 'F': '..-.',\n",
    "  'G': '--.', 'H': '....', 'I': '..', 'J': '.---', 'K': '-.-', 'L': '.-..',\n",
    "  'M': '--', 'N': '-.', 'O': '---', 'P': '.--.', 'Q': '--.-', 'R': '.-.',\n",
    "  'S': '...', 'T': '-', 'U': '..-', 'V': '...-', 'W': '.--', 'X': '-..-',\n",
    "  'Y': '-.--', 'Z': '--..', ' ': ' ', '0': '-----',\n",
    "  '1': '.----', '2': '..---', '3': '...--', '4': '....-', '5': '.....',\n",
    "  '6': '-....', '7': '--...', '8': '---..', '9': '----.',\n",
    "  '&': '.-...', \"'\": '.----.', '@': '.--.-.', ')': '-.--.-', '(': '-.--.',\n",
    "  ':': '---...', ',': '--..--', '=': '-...-', '!': '-.-.--', '.': '.-.-.-',\n",
    "  '-': '-....-', '+': '.-.-.', '\"': '.-..-.', '?': '..--..', '/': '-..-.'\n",
    "}\n",
    "\n",
    "def encode_morse(txt):\n",
    "    res = ''\n",
    "    for i in txt:\n",
    "        res += char_to_dots.get(i, ' ') + ' '\n",
    "    return res.rstrip()\n",
    "\n",
    "encode_morse('HELP ME !')\n"
   ]
  },
  {
   "cell_type": "markdown",
   "metadata": {},
   "source": [
    "6"
   ]
  },
  {
   "cell_type": "code",
   "execution_count": 29,
   "metadata": {},
   "outputs": [
    {
     "data": {
      "text/plain": [
       "True"
      ]
     },
     "execution_count": 29,
     "metadata": {},
     "output_type": "execute_result"
    }
   ],
   "source": [
    "from math import log10, floor\n",
    "\n",
    "def is_disarium(n):\n",
    "    a = n\n",
    "    x = 0\n",
    "    while a:\n",
    "        x += (a % 10) ** floor(log10(a) + 1)\n",
    "        a //= 10\n",
    "    return x == n\n",
    "\n",
    "is_disarium(135)\n"
   ]
  },
  {
   "cell_type": "markdown",
   "metadata": {},
   "source": [
    "7"
   ]
  },
  {
   "cell_type": "code",
   "execution_count": 6,
   "metadata": {},
   "outputs": [
    {
     "data": {
      "text/plain": [
       "8200"
      ]
     },
     "execution_count": 6,
     "metadata": {},
     "output_type": "execute_result"
    }
   ],
   "source": [
    "n = 50\n",
    "bill = (600, 550, 325, 0)\n",
    "ranges = (48, 40, 32, 0)\n",
    "bonus_days = []\n",
    "\n",
    "for i in range(4):\n",
    "    val = (n - ranges[i]) * (n - ranges[i] > 0)\n",
    "    bonus_days.append(val)\n",
    "    n -= val\n",
    "\n",
    "sum(x * y for x, y in zip(bill, bonus_days))\n"
   ]
  },
  {
   "cell_type": "markdown",
   "metadata": {},
   "source": [
    "7-2"
   ]
  },
  {
   "cell_type": "code",
   "execution_count": null,
   "metadata": {},
   "outputs": [],
   "source": [
    "def calculating(day):\n",
    "    if 0<=day<=32:\n",
    "        return 0\n",
    "    elif 33<=day<=40:\n",
    "        return (day-32)*325\n",
    "    elif 41<=day<=48:\n",
    "        return (8*325)+((day-40)*550)\n",
    "    else:\n",
    "        return (8*325)+(8*550)+((day-48)*600)\n",
    "\n",
    "calculating(50)"
   ]
  },
  {
   "cell_type": "markdown",
   "metadata": {},
   "source": [
    "8"
   ]
  },
  {
   "cell_type": "code",
   "execution_count": 47,
   "metadata": {},
   "outputs": [],
   "source": [
    "import math\n",
    "with open('INPUT.txt', 'r') as f:\n",
    "    S, P = map(int, f.read().split())\n",
    "    y = int((S + math.sqrt(S**2 - 4*P))/2)\n",
    "    x = S - y\n",
    "\n",
    "with open('OUTPUT.txt', 'w') as f:\n",
    "    if x > y:\n",
    "        x, y = y, x\n",
    "    f.write(f'{x} {y}')"
   ]
  }
 ],
 "metadata": {
  "kernelspec": {
   "display_name": "Python 3.10.6 64-bit",
   "language": "python",
   "name": "python3"
  },
  "language_info": {
   "codemirror_mode": {
    "name": "ipython",
    "version": 3
   },
   "file_extension": ".py",
   "mimetype": "text/x-python",
   "name": "python",
   "nbconvert_exporter": "python",
   "pygments_lexer": "ipython3",
   "version": "3.10.6"
  },
  "orig_nbformat": 4,
  "vscode": {
   "interpreter": {
    "hash": "fb4569285eef3a3450cb62085a5b1e0da4bce0af555edc33dcf29baf3acc1368"
   }
  }
 },
 "nbformat": 4,
 "nbformat_minor": 2
}
