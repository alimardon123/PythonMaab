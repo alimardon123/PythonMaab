{
 "cells": [
  {
   "cell_type": "code",
   "execution_count": 3,
   "id": "9eaaaf57",
   "metadata": {},
   "outputs": [],
   "source": [
    "import numpy as np\n",
    "import pandas as pd"
   ]
  },
  {
   "cell_type": "markdown",
   "id": "0a4bc124",
   "metadata": {},
   "source": [
    "Series = Columns"
   ]
  },
  {
   "cell_type": "code",
   "execution_count": 4,
   "id": "4266e158",
   "metadata": {},
   "outputs": [
    {
     "data": {
      "text/plain": [
       "0    1\n",
       "1    2\n",
       "2    3\n",
       "dtype: int64"
      ]
     },
     "execution_count": 4,
     "metadata": {},
     "output_type": "execute_result"
    }
   ],
   "source": [
    "ser = pd.Series([1, 2, 3])\n",
    "\n",
    "ser"
   ]
  },
  {
   "cell_type": "markdown",
   "id": "e9e88e69",
   "metadata": {},
   "source": [
    "Dataframe"
   ]
  },
  {
   "cell_type": "code",
   "execution_count": 5,
   "id": "41fa4ea3",
   "metadata": {},
   "outputs": [],
   "source": [
    "A = [1, 2, 3]\n",
    "B = [4, 5, 6]\n",
    "C = [A , B]\n",
    "D = {'A': A , 'B': B}"
   ]
  },
  {
   "cell_type": "code",
   "execution_count": 6,
   "id": "d1a8b256",
   "metadata": {},
   "outputs": [
    {
     "data": {
      "text/html": [
       "<div>\n",
       "<style scoped>\n",
       "    .dataframe tbody tr th:only-of-type {\n",
       "        vertical-align: middle;\n",
       "    }\n",
       "\n",
       "    .dataframe tbody tr th {\n",
       "        vertical-align: top;\n",
       "    }\n",
       "\n",
       "    .dataframe thead th {\n",
       "        text-align: right;\n",
       "    }\n",
       "</style>\n",
       "<table border=\"1\" class=\"dataframe\">\n",
       "  <thead>\n",
       "    <tr style=\"text-align: right;\">\n",
       "      <th></th>\n",
       "      <th>a</th>\n",
       "      <th>b</th>\n",
       "      <th>c</th>\n",
       "    </tr>\n",
       "  </thead>\n",
       "  <tbody>\n",
       "    <tr>\n",
       "      <th>A</th>\n",
       "      <td>1</td>\n",
       "      <td>2</td>\n",
       "      <td>3</td>\n",
       "    </tr>\n",
       "    <tr>\n",
       "      <th>B</th>\n",
       "      <td>4</td>\n",
       "      <td>5</td>\n",
       "      <td>6</td>\n",
       "    </tr>\n",
       "  </tbody>\n",
       "</table>\n",
       "</div>"
      ],
      "text/plain": [
       "   a  b  c\n",
       "A  1  2  3\n",
       "B  4  5  6"
      ]
     },
     "execution_count": 6,
     "metadata": {},
     "output_type": "execute_result"
    }
   ],
   "source": [
    "df = pd.DataFrame(C, columns=['a', 'b', 'c'], index= ['A', 'B'])\n",
    "df"
   ]
  },
  {
   "cell_type": "code",
   "execution_count": 7,
   "id": "42ce2dc4",
   "metadata": {},
   "outputs": [
    {
     "data": {
      "text/html": [
       "<div>\n",
       "<style scoped>\n",
       "    .dataframe tbody tr th:only-of-type {\n",
       "        vertical-align: middle;\n",
       "    }\n",
       "\n",
       "    .dataframe tbody tr th {\n",
       "        vertical-align: top;\n",
       "    }\n",
       "\n",
       "    .dataframe thead th {\n",
       "        text-align: right;\n",
       "    }\n",
       "</style>\n",
       "<table border=\"1\" class=\"dataframe\">\n",
       "  <thead>\n",
       "    <tr style=\"text-align: right;\">\n",
       "      <th></th>\n",
       "      <th>A</th>\n",
       "      <th>B</th>\n",
       "    </tr>\n",
       "  </thead>\n",
       "  <tbody>\n",
       "    <tr>\n",
       "      <th>0</th>\n",
       "      <td>1</td>\n",
       "      <td>4</td>\n",
       "    </tr>\n",
       "    <tr>\n",
       "      <th>1</th>\n",
       "      <td>2</td>\n",
       "      <td>5</td>\n",
       "    </tr>\n",
       "    <tr>\n",
       "      <th>2</th>\n",
       "      <td>3</td>\n",
       "      <td>6</td>\n",
       "    </tr>\n",
       "  </tbody>\n",
       "</table>\n",
       "</div>"
      ],
      "text/plain": [
       "   A  B\n",
       "0  1  4\n",
       "1  2  5\n",
       "2  3  6"
      ]
     },
     "execution_count": 7,
     "metadata": {},
     "output_type": "execute_result"
    }
   ],
   "source": [
    "df = pd.DataFrame(D)\n",
    "df"
   ]
  },
  {
   "cell_type": "markdown",
   "id": "06ff33ba",
   "metadata": {},
   "source": [
    "Rename()"
   ]
  },
  {
   "cell_type": "code",
   "execution_count": 8,
   "id": "6d628c55",
   "metadata": {},
   "outputs": [
    {
     "data": {
      "text/html": [
       "<div>\n",
       "<style scoped>\n",
       "    .dataframe tbody tr th:only-of-type {\n",
       "        vertical-align: middle;\n",
       "    }\n",
       "\n",
       "    .dataframe tbody tr th {\n",
       "        vertical-align: top;\n",
       "    }\n",
       "\n",
       "    .dataframe thead th {\n",
       "        text-align: right;\n",
       "    }\n",
       "</style>\n",
       "<table border=\"1\" class=\"dataframe\">\n",
       "  <thead>\n",
       "    <tr style=\"text-align: right;\">\n",
       "      <th></th>\n",
       "      <th>Alfa</th>\n",
       "      <th>Betta</th>\n",
       "    </tr>\n",
       "  </thead>\n",
       "  <tbody>\n",
       "    <tr>\n",
       "      <th>0</th>\n",
       "      <td>1</td>\n",
       "      <td>4</td>\n",
       "    </tr>\n",
       "    <tr>\n",
       "      <th>1</th>\n",
       "      <td>2</td>\n",
       "      <td>5</td>\n",
       "    </tr>\n",
       "    <tr>\n",
       "      <th>2</th>\n",
       "      <td>3</td>\n",
       "      <td>6</td>\n",
       "    </tr>\n",
       "  </tbody>\n",
       "</table>\n",
       "</div>"
      ],
      "text/plain": [
       "   Alfa  Betta\n",
       "0     1      4\n",
       "1     2      5\n",
       "2     3      6"
      ]
     },
     "execution_count": 8,
     "metadata": {},
     "output_type": "execute_result"
    }
   ],
   "source": [
    "df = pd.DataFrame(D).rename(columns={'A':'Alfa', 'B':'Betta'})\n",
    "df"
   ]
  },
  {
   "cell_type": "code",
   "execution_count": 9,
   "id": "336491d9",
   "metadata": {},
   "outputs": [
    {
     "data": {
      "text/html": [
       "<div>\n",
       "<style scoped>\n",
       "    .dataframe tbody tr th:only-of-type {\n",
       "        vertical-align: middle;\n",
       "    }\n",
       "\n",
       "    .dataframe tbody tr th {\n",
       "        vertical-align: top;\n",
       "    }\n",
       "\n",
       "    .dataframe thead th {\n",
       "        text-align: right;\n",
       "    }\n",
       "</style>\n",
       "<table border=\"1\" class=\"dataframe\">\n",
       "  <thead>\n",
       "    <tr style=\"text-align: right;\">\n",
       "      <th></th>\n",
       "      <th>A</th>\n",
       "      <th>B</th>\n",
       "    </tr>\n",
       "  </thead>\n",
       "  <tbody>\n",
       "    <tr>\n",
       "      <th>0</th>\n",
       "      <td>[1, 2, 3]</td>\n",
       "      <td>[4, 5, 6]</td>\n",
       "    </tr>\n",
       "    <tr>\n",
       "      <th>1</th>\n",
       "      <td>[15, 16, 18]</td>\n",
       "      <td>[20, 21, 23]</td>\n",
       "    </tr>\n",
       "  </tbody>\n",
       "</table>\n",
       "</div>"
      ],
      "text/plain": [
       "              A             B\n",
       "0     [1, 2, 3]     [4, 5, 6]\n",
       "1  [15, 16, 18]  [20, 21, 23]"
      ]
     },
     "execution_count": 9,
     "metadata": {},
     "output_type": "execute_result"
    }
   ],
   "source": [
    "D = [{'A': A , 'B': B}, {'A': [15, 16, 18] , 'B': [20, 21, 23]}]\n",
    "df = pd.DataFrame(D)\n",
    "df"
   ]
  },
  {
   "cell_type": "code",
   "execution_count": 10,
   "id": "b4b2a147",
   "metadata": {},
   "outputs": [
    {
     "data": {
      "text/html": [
       "<div>\n",
       "<style scoped>\n",
       "    .dataframe tbody tr th:only-of-type {\n",
       "        vertical-align: middle;\n",
       "    }\n",
       "\n",
       "    .dataframe tbody tr th {\n",
       "        vertical-align: top;\n",
       "    }\n",
       "\n",
       "    .dataframe thead th {\n",
       "        text-align: right;\n",
       "    }\n",
       "</style>\n",
       "<table border=\"1\" class=\"dataframe\">\n",
       "  <thead>\n",
       "    <tr style=\"text-align: right;\">\n",
       "      <th></th>\n",
       "      <th>Ismi</th>\n",
       "      <th>Year_Of_Exprience</th>\n",
       "    </tr>\n",
       "  </thead>\n",
       "  <tbody>\n",
       "    <tr>\n",
       "      <th>0</th>\n",
       "      <td>Hikmatyor</td>\n",
       "      <td>6</td>\n",
       "    </tr>\n",
       "    <tr>\n",
       "      <th>1</th>\n",
       "      <td>Zokirjon</td>\n",
       "      <td>7</td>\n",
       "    </tr>\n",
       "    <tr>\n",
       "      <th>2</th>\n",
       "      <td>Ozod</td>\n",
       "      <td>11</td>\n",
       "    </tr>\n",
       "    <tr>\n",
       "      <th>3</th>\n",
       "      <td>Azamat</td>\n",
       "      <td>8</td>\n",
       "    </tr>\n",
       "  </tbody>\n",
       "</table>\n",
       "</div>"
      ],
      "text/plain": [
       "        Ismi  Year_Of_Exprience\n",
       "0  Hikmatyor                  6\n",
       "1   Zokirjon                  7\n",
       "2       Ozod                 11\n",
       "3     Azamat                  8"
      ]
     },
     "execution_count": 10,
     "metadata": {},
     "output_type": "execute_result"
    }
   ],
   "source": [
    "employees = pd.read_csv('Class6Files/inputfile.txt')\n",
    "employees"
   ]
  },
  {
   "cell_type": "code",
   "execution_count": 11,
   "id": "274b68e7",
   "metadata": {},
   "outputs": [
    {
     "data": {
      "text/html": [
       "<div>\n",
       "<style scoped>\n",
       "    .dataframe tbody tr th:only-of-type {\n",
       "        vertical-align: middle;\n",
       "    }\n",
       "\n",
       "    .dataframe tbody tr th {\n",
       "        vertical-align: top;\n",
       "    }\n",
       "\n",
       "    .dataframe thead th {\n",
       "        text-align: right;\n",
       "    }\n",
       "</style>\n",
       "<table border=\"1\" class=\"dataframe\">\n",
       "  <thead>\n",
       "    <tr style=\"text-align: right;\">\n",
       "      <th></th>\n",
       "      <th>year</th>\n",
       "      <th>industry_code_ANZSIC</th>\n",
       "      <th>industry_name_ANZSIC</th>\n",
       "      <th>rme_size_grp</th>\n",
       "      <th>variable</th>\n",
       "      <th>value</th>\n",
       "      <th>unit</th>\n",
       "    </tr>\n",
       "  </thead>\n",
       "  <tbody>\n",
       "    <tr>\n",
       "      <th>0</th>\n",
       "      <td>2011</td>\n",
       "      <td>A</td>\n",
       "      <td>Agriculture, Forestry and Fishing</td>\n",
       "      <td>a_0</td>\n",
       "      <td>Activity unit</td>\n",
       "      <td>46134</td>\n",
       "      <td>COUNT</td>\n",
       "    </tr>\n",
       "    <tr>\n",
       "      <th>1</th>\n",
       "      <td>2011</td>\n",
       "      <td>A</td>\n",
       "      <td>Agriculture, Forestry and Fishing</td>\n",
       "      <td>a_0</td>\n",
       "      <td>Rolling mean employees</td>\n",
       "      <td>0</td>\n",
       "      <td>COUNT</td>\n",
       "    </tr>\n",
       "    <tr>\n",
       "      <th>2</th>\n",
       "      <td>2011</td>\n",
       "      <td>A</td>\n",
       "      <td>Agriculture, Forestry and Fishing</td>\n",
       "      <td>a_0</td>\n",
       "      <td>Salaries and wages paid</td>\n",
       "      <td>279</td>\n",
       "      <td>DOLLARS(millions)</td>\n",
       "    </tr>\n",
       "    <tr>\n",
       "      <th>3</th>\n",
       "      <td>2011</td>\n",
       "      <td>A</td>\n",
       "      <td>Agriculture, Forestry and Fishing</td>\n",
       "      <td>a_0</td>\n",
       "      <td>Sales, government funding, grants and subsidies</td>\n",
       "      <td>8187</td>\n",
       "      <td>DOLLARS(millions)</td>\n",
       "    </tr>\n",
       "    <tr>\n",
       "      <th>4</th>\n",
       "      <td>2011</td>\n",
       "      <td>A</td>\n",
       "      <td>Agriculture, Forestry and Fishing</td>\n",
       "      <td>a_0</td>\n",
       "      <td>Total income</td>\n",
       "      <td>8866</td>\n",
       "      <td>DOLLARS(millions)</td>\n",
       "    </tr>\n",
       "    <tr>\n",
       "      <th>...</th>\n",
       "      <td>...</td>\n",
       "      <td>...</td>\n",
       "      <td>...</td>\n",
       "      <td>...</td>\n",
       "      <td>...</td>\n",
       "      <td>...</td>\n",
       "      <td>...</td>\n",
       "    </tr>\n",
       "    <tr>\n",
       "      <th>17023</th>\n",
       "      <td>2021</td>\n",
       "      <td>all</td>\n",
       "      <td>All Industries</td>\n",
       "      <td>j_Grand_Total</td>\n",
       "      <td>Total income</td>\n",
       "      <td>757504</td>\n",
       "      <td>DOLLARS(millions)</td>\n",
       "    </tr>\n",
       "    <tr>\n",
       "      <th>17024</th>\n",
       "      <td>2021</td>\n",
       "      <td>all</td>\n",
       "      <td>All Industries</td>\n",
       "      <td>j_Grand_Total</td>\n",
       "      <td>Total expenditure</td>\n",
       "      <td>654404</td>\n",
       "      <td>DOLLARS(millions)</td>\n",
       "    </tr>\n",
       "    <tr>\n",
       "      <th>17025</th>\n",
       "      <td>2021</td>\n",
       "      <td>all</td>\n",
       "      <td>All Industries</td>\n",
       "      <td>j_Grand_Total</td>\n",
       "      <td>Operating profit before tax</td>\n",
       "      <td>85116</td>\n",
       "      <td>DOLLARS(millions)</td>\n",
       "    </tr>\n",
       "    <tr>\n",
       "      <th>17026</th>\n",
       "      <td>2021</td>\n",
       "      <td>all</td>\n",
       "      <td>All Industries</td>\n",
       "      <td>j_Grand_Total</td>\n",
       "      <td>Total assets</td>\n",
       "      <td>2512677</td>\n",
       "      <td>DOLLARS(millions)</td>\n",
       "    </tr>\n",
       "    <tr>\n",
       "      <th>17027</th>\n",
       "      <td>2021</td>\n",
       "      <td>all</td>\n",
       "      <td>All Industries</td>\n",
       "      <td>j_Grand_Total</td>\n",
       "      <td>Fixed tangible assets</td>\n",
       "      <td>591351</td>\n",
       "      <td>DOLLARS(millions)</td>\n",
       "    </tr>\n",
       "  </tbody>\n",
       "</table>\n",
       "<p>17028 rows × 7 columns</p>\n",
       "</div>"
      ],
      "text/plain": [
       "       year industry_code_ANZSIC               industry_name_ANZSIC  \\\n",
       "0      2011                    A  Agriculture, Forestry and Fishing   \n",
       "1      2011                    A  Agriculture, Forestry and Fishing   \n",
       "2      2011                    A  Agriculture, Forestry and Fishing   \n",
       "3      2011                    A  Agriculture, Forestry and Fishing   \n",
       "4      2011                    A  Agriculture, Forestry and Fishing   \n",
       "...     ...                  ...                                ...   \n",
       "17023  2021                  all                     All Industries   \n",
       "17024  2021                  all                     All Industries   \n",
       "17025  2021                  all                     All Industries   \n",
       "17026  2021                  all                     All Industries   \n",
       "17027  2021                  all                     All Industries   \n",
       "\n",
       "        rme_size_grp                                         variable  \\\n",
       "0                a_0                                    Activity unit   \n",
       "1                a_0                           Rolling mean employees   \n",
       "2                a_0                          Salaries and wages paid   \n",
       "3                a_0  Sales, government funding, grants and subsidies   \n",
       "4                a_0                                     Total income   \n",
       "...              ...                                              ...   \n",
       "17023  j_Grand_Total                                     Total income   \n",
       "17024  j_Grand_Total                                Total expenditure   \n",
       "17025  j_Grand_Total                      Operating profit before tax   \n",
       "17026  j_Grand_Total                                     Total assets   \n",
       "17027  j_Grand_Total                            Fixed tangible assets   \n",
       "\n",
       "         value               unit  \n",
       "0        46134              COUNT  \n",
       "1            0              COUNT  \n",
       "2          279  DOLLARS(millions)  \n",
       "3         8187  DOLLARS(millions)  \n",
       "4         8866  DOLLARS(millions)  \n",
       "...        ...                ...  \n",
       "17023   757504  DOLLARS(millions)  \n",
       "17024   654404  DOLLARS(millions)  \n",
       "17025    85116  DOLLARS(millions)  \n",
       "17026  2512677  DOLLARS(millions)  \n",
       "17027   591351  DOLLARS(millions)  \n",
       "\n",
       "[17028 rows x 7 columns]"
      ]
     },
     "execution_count": 11,
     "metadata": {},
     "output_type": "execute_result"
    }
   ],
   "source": [
    "research = pd.read_csv('https://www.stats.govt.nz/assets/Uploads/Annual-enterprise-survey/Annual-enterprise-survey-2021-financial-year-provisional/Download-data/annual-enterprise-survey-2021-financial-year-provisional-size-bands-csv.csv')\n",
    "research"
   ]
  },
  {
   "cell_type": "code",
   "execution_count": 12,
   "id": "3dfe7bab",
   "metadata": {},
   "outputs": [
    {
     "data": {
      "text/html": [
       "<div>\n",
       "<style scoped>\n",
       "    .dataframe tbody tr th:only-of-type {\n",
       "        vertical-align: middle;\n",
       "    }\n",
       "\n",
       "    .dataframe tbody tr th {\n",
       "        vertical-align: top;\n",
       "    }\n",
       "\n",
       "    .dataframe thead th {\n",
       "        text-align: right;\n",
       "    }\n",
       "</style>\n",
       "<table border=\"1\" class=\"dataframe\">\n",
       "  <thead>\n",
       "    <tr style=\"text-align: right;\">\n",
       "      <th></th>\n",
       "      <th>year</th>\n",
       "      <th>industry_code_ANZSIC</th>\n",
       "      <th>industry_name_ANZSIC</th>\n",
       "      <th>rme_size_grp</th>\n",
       "      <th>variable</th>\n",
       "      <th>value</th>\n",
       "      <th>unit</th>\n",
       "    </tr>\n",
       "  </thead>\n",
       "  <tbody>\n",
       "    <tr>\n",
       "      <th>0</th>\n",
       "      <td>2011</td>\n",
       "      <td>A</td>\n",
       "      <td>Agriculture, Forestry and Fishing</td>\n",
       "      <td>a_0</td>\n",
       "      <td>Activity unit</td>\n",
       "      <td>46134</td>\n",
       "      <td>COUNT</td>\n",
       "    </tr>\n",
       "    <tr>\n",
       "      <th>1</th>\n",
       "      <td>2011</td>\n",
       "      <td>A</td>\n",
       "      <td>Agriculture, Forestry and Fishing</td>\n",
       "      <td>a_0</td>\n",
       "      <td>Rolling mean employees</td>\n",
       "      <td>0</td>\n",
       "      <td>COUNT</td>\n",
       "    </tr>\n",
       "    <tr>\n",
       "      <th>2</th>\n",
       "      <td>2011</td>\n",
       "      <td>A</td>\n",
       "      <td>Agriculture, Forestry and Fishing</td>\n",
       "      <td>a_0</td>\n",
       "      <td>Salaries and wages paid</td>\n",
       "      <td>279</td>\n",
       "      <td>DOLLARS(millions)</td>\n",
       "    </tr>\n",
       "    <tr>\n",
       "      <th>3</th>\n",
       "      <td>2011</td>\n",
       "      <td>A</td>\n",
       "      <td>Agriculture, Forestry and Fishing</td>\n",
       "      <td>a_0</td>\n",
       "      <td>Sales, government funding, grants and subsidies</td>\n",
       "      <td>8187</td>\n",
       "      <td>DOLLARS(millions)</td>\n",
       "    </tr>\n",
       "    <tr>\n",
       "      <th>4</th>\n",
       "      <td>2011</td>\n",
       "      <td>A</td>\n",
       "      <td>Agriculture, Forestry and Fishing</td>\n",
       "      <td>a_0</td>\n",
       "      <td>Total income</td>\n",
       "      <td>8866</td>\n",
       "      <td>DOLLARS(millions)</td>\n",
       "    </tr>\n",
       "    <tr>\n",
       "      <th>5</th>\n",
       "      <td>2011</td>\n",
       "      <td>A</td>\n",
       "      <td>Agriculture, Forestry and Fishing</td>\n",
       "      <td>a_0</td>\n",
       "      <td>Total expenditure</td>\n",
       "      <td>7618</td>\n",
       "      <td>DOLLARS(millions)</td>\n",
       "    </tr>\n",
       "  </tbody>\n",
       "</table>\n",
       "</div>"
      ],
      "text/plain": [
       "   year industry_code_ANZSIC               industry_name_ANZSIC rme_size_grp  \\\n",
       "0  2011                    A  Agriculture, Forestry and Fishing          a_0   \n",
       "1  2011                    A  Agriculture, Forestry and Fishing          a_0   \n",
       "2  2011                    A  Agriculture, Forestry and Fishing          a_0   \n",
       "3  2011                    A  Agriculture, Forestry and Fishing          a_0   \n",
       "4  2011                    A  Agriculture, Forestry and Fishing          a_0   \n",
       "5  2011                    A  Agriculture, Forestry and Fishing          a_0   \n",
       "\n",
       "                                          variable  value               unit  \n",
       "0                                    Activity unit  46134              COUNT  \n",
       "1                           Rolling mean employees      0              COUNT  \n",
       "2                          Salaries and wages paid    279  DOLLARS(millions)  \n",
       "3  Sales, government funding, grants and subsidies   8187  DOLLARS(millions)  \n",
       "4                                     Total income   8866  DOLLARS(millions)  \n",
       "5                                Total expenditure   7618  DOLLARS(millions)  "
      ]
     },
     "execution_count": 12,
     "metadata": {},
     "output_type": "execute_result"
    }
   ],
   "source": [
    "research.head(6)"
   ]
  },
  {
   "cell_type": "code",
   "execution_count": 13,
   "id": "23943efe",
   "metadata": {},
   "outputs": [
    {
     "data": {
      "text/html": [
       "<div>\n",
       "<style scoped>\n",
       "    .dataframe tbody tr th:only-of-type {\n",
       "        vertical-align: middle;\n",
       "    }\n",
       "\n",
       "    .dataframe tbody tr th {\n",
       "        vertical-align: top;\n",
       "    }\n",
       "\n",
       "    .dataframe thead th {\n",
       "        text-align: right;\n",
       "    }\n",
       "</style>\n",
       "<table border=\"1\" class=\"dataframe\">\n",
       "  <thead>\n",
       "    <tr style=\"text-align: right;\">\n",
       "      <th></th>\n",
       "      <th>year</th>\n",
       "      <th>industry_code_ANZSIC</th>\n",
       "      <th>industry_name_ANZSIC</th>\n",
       "      <th>rme_size_grp</th>\n",
       "      <th>variable</th>\n",
       "      <th>value</th>\n",
       "      <th>unit</th>\n",
       "    </tr>\n",
       "  </thead>\n",
       "  <tbody>\n",
       "    <tr>\n",
       "      <th>17022</th>\n",
       "      <td>2021</td>\n",
       "      <td>all</td>\n",
       "      <td>All Industries</td>\n",
       "      <td>j_Grand_Total</td>\n",
       "      <td>Sales, government funding, grants and subsidies</td>\n",
       "      <td>674890</td>\n",
       "      <td>DOLLARS(millions)</td>\n",
       "    </tr>\n",
       "    <tr>\n",
       "      <th>17023</th>\n",
       "      <td>2021</td>\n",
       "      <td>all</td>\n",
       "      <td>All Industries</td>\n",
       "      <td>j_Grand_Total</td>\n",
       "      <td>Total income</td>\n",
       "      <td>757504</td>\n",
       "      <td>DOLLARS(millions)</td>\n",
       "    </tr>\n",
       "    <tr>\n",
       "      <th>17024</th>\n",
       "      <td>2021</td>\n",
       "      <td>all</td>\n",
       "      <td>All Industries</td>\n",
       "      <td>j_Grand_Total</td>\n",
       "      <td>Total expenditure</td>\n",
       "      <td>654404</td>\n",
       "      <td>DOLLARS(millions)</td>\n",
       "    </tr>\n",
       "    <tr>\n",
       "      <th>17025</th>\n",
       "      <td>2021</td>\n",
       "      <td>all</td>\n",
       "      <td>All Industries</td>\n",
       "      <td>j_Grand_Total</td>\n",
       "      <td>Operating profit before tax</td>\n",
       "      <td>85116</td>\n",
       "      <td>DOLLARS(millions)</td>\n",
       "    </tr>\n",
       "    <tr>\n",
       "      <th>17026</th>\n",
       "      <td>2021</td>\n",
       "      <td>all</td>\n",
       "      <td>All Industries</td>\n",
       "      <td>j_Grand_Total</td>\n",
       "      <td>Total assets</td>\n",
       "      <td>2512677</td>\n",
       "      <td>DOLLARS(millions)</td>\n",
       "    </tr>\n",
       "    <tr>\n",
       "      <th>17027</th>\n",
       "      <td>2021</td>\n",
       "      <td>all</td>\n",
       "      <td>All Industries</td>\n",
       "      <td>j_Grand_Total</td>\n",
       "      <td>Fixed tangible assets</td>\n",
       "      <td>591351</td>\n",
       "      <td>DOLLARS(millions)</td>\n",
       "    </tr>\n",
       "  </tbody>\n",
       "</table>\n",
       "</div>"
      ],
      "text/plain": [
       "       year industry_code_ANZSIC industry_name_ANZSIC   rme_size_grp  \\\n",
       "17022  2021                  all       All Industries  j_Grand_Total   \n",
       "17023  2021                  all       All Industries  j_Grand_Total   \n",
       "17024  2021                  all       All Industries  j_Grand_Total   \n",
       "17025  2021                  all       All Industries  j_Grand_Total   \n",
       "17026  2021                  all       All Industries  j_Grand_Total   \n",
       "17027  2021                  all       All Industries  j_Grand_Total   \n",
       "\n",
       "                                              variable    value  \\\n",
       "17022  Sales, government funding, grants and subsidies   674890   \n",
       "17023                                     Total income   757504   \n",
       "17024                                Total expenditure   654404   \n",
       "17025                      Operating profit before tax    85116   \n",
       "17026                                     Total assets  2512677   \n",
       "17027                            Fixed tangible assets   591351   \n",
       "\n",
       "                    unit  \n",
       "17022  DOLLARS(millions)  \n",
       "17023  DOLLARS(millions)  \n",
       "17024  DOLLARS(millions)  \n",
       "17025  DOLLARS(millions)  \n",
       "17026  DOLLARS(millions)  \n",
       "17027  DOLLARS(millions)  "
      ]
     },
     "execution_count": 13,
     "metadata": {},
     "output_type": "execute_result"
    }
   ],
   "source": [
    "research.tail(6)"
   ]
  },
  {
   "cell_type": "code",
   "execution_count": 14,
   "id": "db5327f0",
   "metadata": {},
   "outputs": [
    {
     "data": {
      "text/html": [
       "<div>\n",
       "<style scoped>\n",
       "    .dataframe tbody tr th:only-of-type {\n",
       "        vertical-align: middle;\n",
       "    }\n",
       "\n",
       "    .dataframe tbody tr th {\n",
       "        vertical-align: top;\n",
       "    }\n",
       "\n",
       "    .dataframe thead th {\n",
       "        text-align: right;\n",
       "    }\n",
       "</style>\n",
       "<table border=\"1\" class=\"dataframe\">\n",
       "  <thead>\n",
       "    <tr style=\"text-align: right;\">\n",
       "      <th></th>\n",
       "      <th>year</th>\n",
       "      <th>industry_code_ANZSIC</th>\n",
       "      <th>industry_name_ANZSIC</th>\n",
       "      <th>rme_size_grp</th>\n",
       "      <th>variable</th>\n",
       "      <th>value</th>\n",
       "      <th>unit</th>\n",
       "    </tr>\n",
       "  </thead>\n",
       "  <tbody>\n",
       "    <tr>\n",
       "      <th>1969</th>\n",
       "      <td>2012</td>\n",
       "      <td>F</td>\n",
       "      <td>Wholesale Trade</td>\n",
       "      <td>b_1-5</td>\n",
       "      <td>Total assets</td>\n",
       "      <td>4116</td>\n",
       "      <td>DOLLARS(millions)</td>\n",
       "    </tr>\n",
       "    <tr>\n",
       "      <th>13841</th>\n",
       "      <td>2019</td>\n",
       "      <td>R</td>\n",
       "      <td>Arts and Recreation Services</td>\n",
       "      <td>i_Industry_Total</td>\n",
       "      <td>Fixed tangible assets</td>\n",
       "      <td>6504</td>\n",
       "      <td>DOLLARS(millions)</td>\n",
       "    </tr>\n",
       "    <tr>\n",
       "      <th>14833</th>\n",
       "      <td>2020</td>\n",
       "      <td>L</td>\n",
       "      <td>Rental, Hiring and Real Estate Services</td>\n",
       "      <td>b_1-5</td>\n",
       "      <td>Rolling mean employees</td>\n",
       "      <td>8799</td>\n",
       "      <td>COUNT</td>\n",
       "    </tr>\n",
       "    <tr>\n",
       "      <th>1743</th>\n",
       "      <td>2012</td>\n",
       "      <td>C</td>\n",
       "      <td>Manufacturing</td>\n",
       "      <td>d_10-19</td>\n",
       "      <td>Operating profit before tax</td>\n",
       "      <td>204</td>\n",
       "      <td>DOLLARS(millions)</td>\n",
       "    </tr>\n",
       "    <tr>\n",
       "      <th>10829</th>\n",
       "      <td>2017</td>\n",
       "      <td>all</td>\n",
       "      <td>All Industries</td>\n",
       "      <td>j_Grand_Total</td>\n",
       "      <td>Salaries and wages paid</td>\n",
       "      <td>99941</td>\n",
       "      <td>DOLLARS(millions)</td>\n",
       "    </tr>\n",
       "  </tbody>\n",
       "</table>\n",
       "</div>"
      ],
      "text/plain": [
       "       year industry_code_ANZSIC                     industry_name_ANZSIC  \\\n",
       "1969   2012                    F                          Wholesale Trade   \n",
       "13841  2019                    R             Arts and Recreation Services   \n",
       "14833  2020                    L  Rental, Hiring and Real Estate Services   \n",
       "1743   2012                    C                            Manufacturing   \n",
       "10829  2017                  all                           All Industries   \n",
       "\n",
       "           rme_size_grp                     variable  value               unit  \n",
       "1969              b_1-5                 Total assets   4116  DOLLARS(millions)  \n",
       "13841  i_Industry_Total        Fixed tangible assets   6504  DOLLARS(millions)  \n",
       "14833             b_1-5       Rolling mean employees   8799              COUNT  \n",
       "1743            d_10-19  Operating profit before tax    204  DOLLARS(millions)  \n",
       "10829     j_Grand_Total      Salaries and wages paid  99941  DOLLARS(millions)  "
      ]
     },
     "execution_count": 14,
     "metadata": {},
     "output_type": "execute_result"
    }
   ],
   "source": [
    "research.sample(5, random_state=15)"
   ]
  },
  {
   "cell_type": "code",
   "execution_count": 15,
   "id": "ef38b3c1",
   "metadata": {},
   "outputs": [
    {
     "data": {
      "text/plain": [
       "array([    0,     1,     2, ..., 17025, 17026, 17027], dtype=int64)"
      ]
     },
     "execution_count": 15,
     "metadata": {},
     "output_type": "execute_result"
    }
   ],
   "source": [
    "research.index.to_numpy()"
   ]
  },
  {
   "cell_type": "code",
   "execution_count": 16,
   "id": "819d2af7",
   "metadata": {},
   "outputs": [
    {
     "data": {
      "text/plain": [
       "array(['year', 'industry_code_ANZSIC', 'industry_name_ANZSIC',\n",
       "       'rme_size_grp', 'variable', 'value', 'unit'], dtype=object)"
      ]
     },
     "execution_count": 16,
     "metadata": {},
     "output_type": "execute_result"
    }
   ],
   "source": [
    "research.columns.to_numpy()"
   ]
  },
  {
   "cell_type": "code",
   "execution_count": 17,
   "id": "aa9691c5",
   "metadata": {},
   "outputs": [
    {
     "data": {
      "text/plain": [
       "array(['46134', '0', '279', ..., '85116', '2512677', '591351'],\n",
       "      dtype=object)"
      ]
     },
     "execution_count": 17,
     "metadata": {},
     "output_type": "execute_result"
    }
   ],
   "source": [
    "research.value.to_numpy()"
   ]
  },
  {
   "cell_type": "code",
   "execution_count": 18,
   "id": "71697b83",
   "metadata": {},
   "outputs": [
    {
     "data": {
      "text/plain": [
       "0        2011\n",
       "1        2011\n",
       "2        2011\n",
       "3        2011\n",
       "4        2011\n",
       "         ... \n",
       "17023    2021\n",
       "17024    2021\n",
       "17025    2021\n",
       "17026    2021\n",
       "17027    2021\n",
       "Name: year, Length: 17028, dtype: int64"
      ]
     },
     "execution_count": 18,
     "metadata": {},
     "output_type": "execute_result"
    }
   ],
   "source": [
    "year = research['year']\n",
    "year"
   ]
  },
  {
   "cell_type": "code",
   "execution_count": 19,
   "id": "e93410d1",
   "metadata": {},
   "outputs": [
    {
     "name": "stdout",
     "output_type": "stream",
     "text": [
      "year                     int64\n",
      "industry_code_ANZSIC    object\n",
      "industry_name_ANZSIC    object\n",
      "rme_size_grp            object\n",
      "variable                object\n",
      "value                   object\n",
      "unit                    object\n",
      "dtype: object\n",
      "\n",
      "\n",
      "\n"
     ]
    },
    {
     "data": {
      "text/plain": [
       "dtype('int64')"
      ]
     },
     "execution_count": 19,
     "metadata": {},
     "output_type": "execute_result"
    }
   ],
   "source": [
    "print(research.dtypes)\n",
    "print('\\n\\n')\n",
    "year.dtype"
   ]
  },
  {
   "cell_type": "code",
   "execution_count": 20,
   "id": "5d6e26f0",
   "metadata": {},
   "outputs": [
    {
     "data": {
      "text/plain": [
       "0      <class 'int'>\n",
       "1      <class 'int'>\n",
       "2      <class 'str'>\n",
       "3    <class 'float'>\n",
       "dtype: object"
      ]
     },
     "execution_count": 20,
     "metadata": {},
     "output_type": "execute_result"
    }
   ],
   "source": [
    "sample = pd.Series([1, 5, 'Sss', np.NaN])\n",
    "sample.apply(type)"
   ]
  },
  {
   "cell_type": "markdown",
   "id": "76034284",
   "metadata": {},
   "source": [
    "## Nan funksiyalari"
   ]
  },
  {
   "cell_type": "code",
   "execution_count": 21,
   "id": "818de8df",
   "metadata": {},
   "outputs": [
    {
     "data": {
      "text/plain": [
       "0     True\n",
       "1     True\n",
       "2     True\n",
       "3    False\n",
       "dtype: bool"
      ]
     },
     "execution_count": 21,
     "metadata": {},
     "output_type": "execute_result"
    }
   ],
   "source": [
    "sample.isna()\n",
    "sample.notna()"
   ]
  },
  {
   "cell_type": "code",
   "execution_count": 28,
   "id": "a99daf06",
   "metadata": {},
   "outputs": [
    {
     "data": {
      "text/plain": [
       "0        2011.0\n",
       "1        2011.0\n",
       "2        2011.0\n",
       "3        2011.0\n",
       "4        2011.0\n",
       "          ...  \n",
       "17023    2021.0\n",
       "17024    2021.0\n",
       "17025    2021.0\n",
       "17026    2021.0\n",
       "17027    2021.0\n",
       "Name: year, Length: 17028, dtype: float64"
      ]
     },
     "execution_count": 28,
     "metadata": {},
     "output_type": "execute_result"
    }
   ],
   "source": [
    "year = research['year']\n",
    "year.astype('float')"
   ]
  },
  {
   "cell_type": "code",
   "execution_count": 29,
   "id": "b38b316f",
   "metadata": {},
   "outputs": [
    {
     "data": {
      "text/plain": [
       "0      1\n",
       "1      5\n",
       "2    Sss\n",
       "3      0\n",
       "dtype: object"
      ]
     },
     "execution_count": 29,
     "metadata": {},
     "output_type": "execute_result"
    }
   ],
   "source": [
    "sample.fillna(0)"
   ]
  },
  {
   "cell_type": "code",
   "execution_count": 49,
   "id": "39210cbd",
   "metadata": {},
   "outputs": [
    {
     "data": {
      "text/plain": [
       "0      1\n",
       "1      5\n",
       "2    Sss\n",
       "3      0\n",
       "dtype: object"
      ]
     },
     "execution_count": 49,
     "metadata": {},
     "output_type": "execute_result"
    }
   ],
   "source": [
    "sample.fillna(0)\\\n",
    ".astype(str)"
   ]
  },
  {
   "cell_type": "code",
   "execution_count": null,
   "id": "202c8622",
   "metadata": {},
   "outputs": [],
   "source": [
    "(sample.fillna(0)\n",
    " .astype(str)\n",
    ")"
   ]
  },
  {
   "cell_type": "code",
   "execution_count": 57,
   "id": "99713b8e",
   "metadata": {},
   "outputs": [
    {
     "data": {
      "text/plain": [
       "True"
      ]
     },
     "execution_count": 57,
     "metadata": {},
     "output_type": "execute_result"
    }
   ],
   "source": [
    "sample.isna().any()"
   ]
  },
  {
   "cell_type": "code",
   "execution_count": 58,
   "id": "a5e16267",
   "metadata": {},
   "outputs": [
    {
     "data": {
      "text/plain": [
       "True"
      ]
     },
     "execution_count": 58,
     "metadata": {},
     "output_type": "execute_result"
    }
   ],
   "source": [
    "sample.hasnans"
   ]
  },
  {
   "cell_type": "code",
   "execution_count": 59,
   "id": "cc0e84c6",
   "metadata": {},
   "outputs": [
    {
     "data": {
      "text/plain": [
       "0      1\n",
       "1      5\n",
       "2    Sss\n",
       "dtype: object"
      ]
     },
     "execution_count": 59,
     "metadata": {},
     "output_type": "execute_result"
    }
   ],
   "source": [
    "sample.dropna()"
   ]
  },
  {
   "cell_type": "code",
   "execution_count": 60,
   "id": "4a0996ed",
   "metadata": {},
   "outputs": [],
   "source": [
    "sample.dropna(inplace=True)"
   ]
  },
  {
   "cell_type": "code",
   "execution_count": 61,
   "id": "b7a17280",
   "metadata": {},
   "outputs": [
    {
     "data": {
      "text/plain": [
       "0      1\n",
       "1      5\n",
       "2    Sss\n",
       "dtype: object"
      ]
     },
     "execution_count": 61,
     "metadata": {},
     "output_type": "execute_result"
    }
   ],
   "source": [
    "sample"
   ]
  },
  {
   "cell_type": "code",
   "execution_count": 62,
   "id": "4723579d",
   "metadata": {},
   "outputs": [
    {
     "data": {
      "text/html": [
       "<div>\n",
       "<style scoped>\n",
       "    .dataframe tbody tr th:only-of-type {\n",
       "        vertical-align: middle;\n",
       "    }\n",
       "\n",
       "    .dataframe tbody tr th {\n",
       "        vertical-align: top;\n",
       "    }\n",
       "\n",
       "    .dataframe thead th {\n",
       "        text-align: right;\n",
       "    }\n",
       "</style>\n",
       "<table border=\"1\" class=\"dataframe\">\n",
       "  <thead>\n",
       "    <tr style=\"text-align: right;\">\n",
       "      <th></th>\n",
       "      <th>C</th>\n",
       "      <th>D</th>\n",
       "      <th>E</th>\n",
       "    </tr>\n",
       "  </thead>\n",
       "  <tbody>\n",
       "    <tr>\n",
       "      <th>0</th>\n",
       "      <td>1.0</td>\n",
       "      <td>4.0</td>\n",
       "      <td>7.0</td>\n",
       "    </tr>\n",
       "    <tr>\n",
       "      <th>1</th>\n",
       "      <td>2.0</td>\n",
       "      <td>5.0</td>\n",
       "      <td>8.0</td>\n",
       "    </tr>\n",
       "    <tr>\n",
       "      <th>2</th>\n",
       "      <td>3.0</td>\n",
       "      <td>6.0</td>\n",
       "      <td>NaN</td>\n",
       "    </tr>\n",
       "    <tr>\n",
       "      <th>3</th>\n",
       "      <td>NaN</td>\n",
       "      <td>NaN</td>\n",
       "      <td>NaN</td>\n",
       "    </tr>\n",
       "  </tbody>\n",
       "</table>\n",
       "</div>"
      ],
      "text/plain": [
       "     C    D    E\n",
       "0  1.0  4.0  7.0\n",
       "1  2.0  5.0  8.0\n",
       "2  3.0  6.0  NaN\n",
       "3  NaN  NaN  NaN"
      ]
     },
     "execution_count": 62,
     "metadata": {},
     "output_type": "execute_result"
    }
   ],
   "source": [
    "C = [1, 2, 3, np.NaN]\n",
    "D = [4, 5, 6, np.NaN]\n",
    "E = [7, 8, np.NaN, np.NaN]\n",
    "F = {'C': C , 'D': D, 'E':E}\n",
    "dfn = pd.DataFrame(F)\n",
    "dfn"
   ]
  },
  {
   "cell_type": "code",
   "execution_count": 63,
   "id": "41ed3ed1",
   "metadata": {},
   "outputs": [
    {
     "data": {
      "text/html": [
       "<div>\n",
       "<style scoped>\n",
       "    .dataframe tbody tr th:only-of-type {\n",
       "        vertical-align: middle;\n",
       "    }\n",
       "\n",
       "    .dataframe tbody tr th {\n",
       "        vertical-align: top;\n",
       "    }\n",
       "\n",
       "    .dataframe thead th {\n",
       "        text-align: right;\n",
       "    }\n",
       "</style>\n",
       "<table border=\"1\" class=\"dataframe\">\n",
       "  <thead>\n",
       "    <tr style=\"text-align: right;\">\n",
       "      <th></th>\n",
       "      <th>C</th>\n",
       "      <th>D</th>\n",
       "      <th>E</th>\n",
       "    </tr>\n",
       "  </thead>\n",
       "  <tbody>\n",
       "    <tr>\n",
       "      <th>0</th>\n",
       "      <td>False</td>\n",
       "      <td>False</td>\n",
       "      <td>False</td>\n",
       "    </tr>\n",
       "    <tr>\n",
       "      <th>1</th>\n",
       "      <td>False</td>\n",
       "      <td>False</td>\n",
       "      <td>False</td>\n",
       "    </tr>\n",
       "    <tr>\n",
       "      <th>2</th>\n",
       "      <td>False</td>\n",
       "      <td>False</td>\n",
       "      <td>True</td>\n",
       "    </tr>\n",
       "    <tr>\n",
       "      <th>3</th>\n",
       "      <td>True</td>\n",
       "      <td>True</td>\n",
       "      <td>True</td>\n",
       "    </tr>\n",
       "  </tbody>\n",
       "</table>\n",
       "</div>"
      ],
      "text/plain": [
       "       C      D      E\n",
       "0  False  False  False\n",
       "1  False  False  False\n",
       "2  False  False   True\n",
       "3   True   True   True"
      ]
     },
     "execution_count": 63,
     "metadata": {},
     "output_type": "execute_result"
    }
   ],
   "source": [
    "dfn.isna()"
   ]
  },
  {
   "cell_type": "code",
   "execution_count": 64,
   "id": "895738a6",
   "metadata": {},
   "outputs": [
    {
     "data": {
      "text/plain": [
       "C    1\n",
       "D    1\n",
       "E    2\n",
       "dtype: int64"
      ]
     },
     "execution_count": 64,
     "metadata": {},
     "output_type": "execute_result"
    }
   ],
   "source": [
    "dfn.isna().sum()"
   ]
  },
  {
   "cell_type": "code",
   "execution_count": 66,
   "id": "9c6e94ce",
   "metadata": {},
   "outputs": [
    {
     "data": {
      "text/plain": [
       "True"
      ]
     },
     "execution_count": 66,
     "metadata": {},
     "output_type": "execute_result"
    }
   ],
   "source": [
    "dfn.isna().any().any()"
   ]
  },
  {
   "cell_type": "code",
   "execution_count": 67,
   "id": "c529ba1c",
   "metadata": {},
   "outputs": [
    {
     "data": {
      "text/html": [
       "<div>\n",
       "<style scoped>\n",
       "    .dataframe tbody tr th:only-of-type {\n",
       "        vertical-align: middle;\n",
       "    }\n",
       "\n",
       "    .dataframe tbody tr th {\n",
       "        vertical-align: top;\n",
       "    }\n",
       "\n",
       "    .dataframe thead th {\n",
       "        text-align: right;\n",
       "    }\n",
       "</style>\n",
       "<table border=\"1\" class=\"dataframe\">\n",
       "  <thead>\n",
       "    <tr style=\"text-align: right;\">\n",
       "      <th></th>\n",
       "      <th>C</th>\n",
       "      <th>D</th>\n",
       "      <th>E</th>\n",
       "    </tr>\n",
       "  </thead>\n",
       "  <tbody>\n",
       "    <tr>\n",
       "      <th>0</th>\n",
       "      <td>1.0</td>\n",
       "      <td>4.0</td>\n",
       "      <td>7.0</td>\n",
       "    </tr>\n",
       "    <tr>\n",
       "      <th>1</th>\n",
       "      <td>2.0</td>\n",
       "      <td>5.0</td>\n",
       "      <td>8.0</td>\n",
       "    </tr>\n",
       "  </tbody>\n",
       "</table>\n",
       "</div>"
      ],
      "text/plain": [
       "     C    D    E\n",
       "0  1.0  4.0  7.0\n",
       "1  2.0  5.0  8.0"
      ]
     },
     "execution_count": 67,
     "metadata": {},
     "output_type": "execute_result"
    }
   ],
   "source": [
    "dfn.dropna()"
   ]
  },
  {
   "cell_type": "code",
   "execution_count": 69,
   "id": "e8d55f47",
   "metadata": {},
   "outputs": [
    {
     "data": {
      "text/html": [
       "<div>\n",
       "<style scoped>\n",
       "    .dataframe tbody tr th:only-of-type {\n",
       "        vertical-align: middle;\n",
       "    }\n",
       "\n",
       "    .dataframe tbody tr th {\n",
       "        vertical-align: top;\n",
       "    }\n",
       "\n",
       "    .dataframe thead th {\n",
       "        text-align: right;\n",
       "    }\n",
       "</style>\n",
       "<table border=\"1\" class=\"dataframe\">\n",
       "  <thead>\n",
       "    <tr style=\"text-align: right;\">\n",
       "      <th></th>\n",
       "      <th>C</th>\n",
       "      <th>D</th>\n",
       "      <th>E</th>\n",
       "    </tr>\n",
       "  </thead>\n",
       "  <tbody>\n",
       "    <tr>\n",
       "      <th>0</th>\n",
       "      <td>1.0</td>\n",
       "      <td>4.0</td>\n",
       "      <td>7.0</td>\n",
       "    </tr>\n",
       "    <tr>\n",
       "      <th>1</th>\n",
       "      <td>2.0</td>\n",
       "      <td>5.0</td>\n",
       "      <td>8.0</td>\n",
       "    </tr>\n",
       "    <tr>\n",
       "      <th>2</th>\n",
       "      <td>3.0</td>\n",
       "      <td>6.0</td>\n",
       "      <td>NaN</td>\n",
       "    </tr>\n",
       "  </tbody>\n",
       "</table>\n",
       "</div>"
      ],
      "text/plain": [
       "     C    D    E\n",
       "0  1.0  4.0  7.0\n",
       "1  2.0  5.0  8.0\n",
       "2  3.0  6.0  NaN"
      ]
     },
     "execution_count": 69,
     "metadata": {},
     "output_type": "execute_result"
    }
   ],
   "source": [
    "dfn.dropna(how='all')"
   ]
  },
  {
   "cell_type": "code",
   "execution_count": 70,
   "id": "e5c35f32",
   "metadata": {},
   "outputs": [
    {
     "data": {
      "text/plain": [
       "367"
      ]
     },
     "execution_count": 70,
     "metadata": {},
     "output_type": "execute_result"
    }
   ],
   "source": [
    "ser_methods = set(dir(pd.Series))\n",
    "df_methods = set(dir(pd.DataFrame))\n",
    "\n",
    "len(ser_methods & df_methods)"
   ]
  },
  {
   "cell_type": "code",
   "execution_count": 72,
   "id": "99fb79a4",
   "metadata": {},
   "outputs": [
    {
     "data": {
      "text/plain": [
       "12"
      ]
     },
     "execution_count": 72,
     "metadata": {},
     "output_type": "execute_result"
    }
   ],
   "source": [
    "dfn.size"
   ]
  },
  {
   "cell_type": "code",
   "execution_count": 73,
   "id": "5745df66",
   "metadata": {},
   "outputs": [
    {
     "data": {
      "text/plain": [
       "(4, 3)"
      ]
     },
     "execution_count": 73,
     "metadata": {},
     "output_type": "execute_result"
    }
   ],
   "source": [
    "dfn.shape"
   ]
  },
  {
   "cell_type": "code",
   "execution_count": 74,
   "id": "fcd95e79",
   "metadata": {},
   "outputs": [
    {
     "data": {
      "text/plain": [
       "4"
      ]
     },
     "execution_count": 74,
     "metadata": {},
     "output_type": "execute_result"
    }
   ],
   "source": [
    "len(dfn)"
   ]
  },
  {
   "cell_type": "code",
   "execution_count": 75,
   "id": "1f73edbb",
   "metadata": {},
   "outputs": [
    {
     "data": {
      "text/plain": [
       "C    3\n",
       "D    3\n",
       "E    2\n",
       "dtype: int64"
      ]
     },
     "execution_count": 75,
     "metadata": {},
     "output_type": "execute_result"
    }
   ],
   "source": [
    "dfn.count()"
   ]
  },
  {
   "cell_type": "code",
   "execution_count": 76,
   "id": "2bb50889",
   "metadata": {},
   "outputs": [
    {
     "data": {
      "text/plain": [
       "1      1\n",
       "5      1\n",
       "Sss    1\n",
       "dtype: int64"
      ]
     },
     "execution_count": 76,
     "metadata": {},
     "output_type": "execute_result"
    }
   ],
   "source": [
    "sample.value_counts()"
   ]
  },
  {
   "cell_type": "code",
   "execution_count": 77,
   "id": "37b0b13a",
   "metadata": {},
   "outputs": [
    {
     "name": "stdout",
     "output_type": "stream",
     "text": [
      "<class 'pandas.core.frame.DataFrame'>\n",
      "RangeIndex: 4 entries, 0 to 3\n",
      "Data columns (total 3 columns):\n",
      " #   Column  Non-Null Count  Dtype  \n",
      "---  ------  --------------  -----  \n",
      " 0   C       3 non-null      float64\n",
      " 1   D       3 non-null      float64\n",
      " 2   E       2 non-null      float64\n",
      "dtypes: float64(3)\n",
      "memory usage: 224.0 bytes\n"
     ]
    }
   ],
   "source": [
    "dfn.info()"
   ]
  },
  {
   "cell_type": "code",
   "execution_count": 78,
   "id": "039c015d",
   "metadata": {},
   "outputs": [
    {
     "data": {
      "text/plain": [
       "C    1.0\n",
       "D    4.0\n",
       "E    7.0\n",
       "dtype: float64"
      ]
     },
     "execution_count": 78,
     "metadata": {},
     "output_type": "execute_result"
    }
   ],
   "source": [
    "dfn.min()"
   ]
  },
  {
   "cell_type": "code",
   "execution_count": 79,
   "id": "f62acc14",
   "metadata": {},
   "outputs": [
    {
     "data": {
      "text/plain": [
       "C    1.0\n",
       "D    4.0\n",
       "E    7.0\n",
       "dtype: float64"
      ]
     },
     "execution_count": 79,
     "metadata": {},
     "output_type": "execute_result"
    }
   ],
   "source": [
    "dfn.min(numeric_only = True)"
   ]
  },
  {
   "cell_type": "code",
   "execution_count": 80,
   "id": "24a7a01b",
   "metadata": {},
   "outputs": [
    {
     "data": {
      "text/html": [
       "<div>\n",
       "<style scoped>\n",
       "    .dataframe tbody tr th:only-of-type {\n",
       "        vertical-align: middle;\n",
       "    }\n",
       "\n",
       "    .dataframe tbody tr th {\n",
       "        vertical-align: top;\n",
       "    }\n",
       "\n",
       "    .dataframe thead th {\n",
       "        text-align: right;\n",
       "    }\n",
       "</style>\n",
       "<table border=\"1\" class=\"dataframe\">\n",
       "  <thead>\n",
       "    <tr style=\"text-align: right;\">\n",
       "      <th></th>\n",
       "      <th>C</th>\n",
       "      <th>D</th>\n",
       "      <th>E</th>\n",
       "    </tr>\n",
       "  </thead>\n",
       "  <tbody>\n",
       "    <tr>\n",
       "      <th>count</th>\n",
       "      <td>3.0</td>\n",
       "      <td>3.0</td>\n",
       "      <td>2.000000</td>\n",
       "    </tr>\n",
       "    <tr>\n",
       "      <th>mean</th>\n",
       "      <td>2.0</td>\n",
       "      <td>5.0</td>\n",
       "      <td>7.500000</td>\n",
       "    </tr>\n",
       "    <tr>\n",
       "      <th>std</th>\n",
       "      <td>1.0</td>\n",
       "      <td>1.0</td>\n",
       "      <td>0.707107</td>\n",
       "    </tr>\n",
       "    <tr>\n",
       "      <th>min</th>\n",
       "      <td>1.0</td>\n",
       "      <td>4.0</td>\n",
       "      <td>7.000000</td>\n",
       "    </tr>\n",
       "    <tr>\n",
       "      <th>25%</th>\n",
       "      <td>1.5</td>\n",
       "      <td>4.5</td>\n",
       "      <td>7.250000</td>\n",
       "    </tr>\n",
       "    <tr>\n",
       "      <th>50%</th>\n",
       "      <td>2.0</td>\n",
       "      <td>5.0</td>\n",
       "      <td>7.500000</td>\n",
       "    </tr>\n",
       "    <tr>\n",
       "      <th>75%</th>\n",
       "      <td>2.5</td>\n",
       "      <td>5.5</td>\n",
       "      <td>7.750000</td>\n",
       "    </tr>\n",
       "    <tr>\n",
       "      <th>max</th>\n",
       "      <td>3.0</td>\n",
       "      <td>6.0</td>\n",
       "      <td>8.000000</td>\n",
       "    </tr>\n",
       "  </tbody>\n",
       "</table>\n",
       "</div>"
      ],
      "text/plain": [
       "         C    D         E\n",
       "count  3.0  3.0  2.000000\n",
       "mean   2.0  5.0  7.500000\n",
       "std    1.0  1.0  0.707107\n",
       "min    1.0  4.0  7.000000\n",
       "25%    1.5  4.5  7.250000\n",
       "50%    2.0  5.0  7.500000\n",
       "75%    2.5  5.5  7.750000\n",
       "max    3.0  6.0  8.000000"
      ]
     },
     "execution_count": 80,
     "metadata": {},
     "output_type": "execute_result"
    }
   ],
   "source": [
    "dfn.describe()"
   ]
  },
  {
   "cell_type": "code",
   "execution_count": 82,
   "id": "1be95013",
   "metadata": {},
   "outputs": [
    {
     "data": {
      "text/plain": [
       "0    12.0\n",
       "1    15.0\n",
       "2     9.0\n",
       "3     0.0\n",
       "dtype: float64"
      ]
     },
     "execution_count": 82,
     "metadata": {},
     "output_type": "execute_result"
    }
   ],
   "source": [
    "dfn.sum(axis='columns')"
   ]
  }
 ],
 "metadata": {
  "kernelspec": {
   "display_name": "Python 3 (ipykernel)",
   "language": "python",
   "name": "python3"
  },
  "language_info": {
   "codemirror_mode": {
    "name": "ipython",
    "version": 3
   },
   "file_extension": ".py",
   "mimetype": "text/x-python",
   "name": "python",
   "nbconvert_exporter": "python",
   "pygments_lexer": "ipython3",
   "version": "3.10.6"
  }
 },
 "nbformat": 4,
 "nbformat_minor": 5
}
