{
 "cells": [
  {
   "cell_type": "markdown",
   "metadata": {},
   "source": [
    "1"
   ]
  },
  {
   "cell_type": "code",
   "execution_count": 29,
   "metadata": {},
   "outputs": [
    {
     "name": "stdout",
     "output_type": "stream",
     "text": [
      "True\n"
     ]
    }
   ],
   "source": [
    "year = int(input('Enter Year: '))\n",
    "\n",
    "\n",
    "def is_leap(n):\n",
    "    if n % 4 ==0:\n",
    "        if not(n % 400 != 0 and n % 100 == 0):\n",
    "            return True\n",
    "        else:\n",
    "            return False   \n",
    "    else:\n",
    "        return  False       \n",
    "print(is_leap(year))"
   ]
  },
  {
   "cell_type": "markdown",
   "metadata": {},
   "source": [
    "2"
   ]
  },
  {
   "cell_type": "code",
   "execution_count": 38,
   "metadata": {},
   "outputs": [
    {
     "name": "stdout",
     "output_type": "stream",
     "text": [
      "NO\n"
     ]
    }
   ],
   "source": [
    "a = [1, 2, 3, 9, 5, 6, 7]\n",
    "is_monotonic = 'Yes'\n",
    "for i in a:\n",
    "    ind = a.index(i)\n",
    "    if ind ==0:\n",
    "        pass\n",
    "    elif i < a[ind - 1]:\n",
    "        is_monotonic = 'NO'\n",
    "print(is_monotonic)            "
   ]
  },
  {
   "cell_type": "markdown",
   "metadata": {},
   "source": [
    "3"
   ]
  },
  {
   "cell_type": "code",
   "execution_count": 39,
   "metadata": {},
   "outputs": [
    {
     "name": "stdout",
     "output_type": "stream",
     "text": [
      "30\n",
      "45\n"
     ]
    }
   ],
   "source": [
    "yigindi = lambda x : x + 15\n",
    "multipl = lambda x, y: x*y\n",
    "\n",
    "print(yigindi(15))\n",
    "print(multipl(15, 3))"
   ]
  },
  {
   "cell_type": "markdown",
   "metadata": {},
   "source": [
    "4"
   ]
  },
  {
   "cell_type": "code",
   "execution_count": 57,
   "metadata": {},
   "outputs": [
    {
     "name": "stdout",
     "output_type": "stream",
     "text": [
      "5 x 42 = 210\n"
     ]
    }
   ],
   "source": [
    "import random\n",
    "n = random.randint(1 , 100)\n",
    "new = lambda x : print(f'{x} x {n} = {x*n}')\n",
    "\n",
    "new(5)"
   ]
  },
  {
   "cell_type": "markdown",
   "metadata": {},
   "source": [
    "5"
   ]
  },
  {
   "cell_type": "code",
   "execution_count": 85,
   "metadata": {},
   "outputs": [
    {
     "name": "stdout",
     "output_type": "stream",
     "text": [
      "Where did my vowels go?\n"
     ]
    }
   ],
   "source": [
    "def uncensor(text, vowels):\n",
    "    new_text = ''\n",
    "    for i in text:\n",
    "        if i == '*':\n",
    "            i = vowels[0]\n",
    "            vowels = vowels.removeprefix(vowels[0])\n",
    "        new_text += i    \n",
    "    print(new_text)\n",
    "\n",
    "uncensor('Wh*r* d*d my v*w*ls g*?', 'eeioeo')"
   ]
  },
  {
   "cell_type": "markdown",
   "metadata": {},
   "source": [
    "6"
   ]
  },
  {
   "cell_type": "code",
   "execution_count": 2,
   "metadata": {},
   "outputs": [
    {
     "name": "stdout",
     "output_type": "stream",
     "text": [
      "... .- -... .. -. .-\n"
     ]
    }
   ],
   "source": [
    "char_to_dots = {\n",
    "  'A': '.-', 'B': '-...', 'C': '-.-.', 'D': '-..', 'E': '.', 'F': '..-.',\n",
    "  'G': '--.', 'H': '....', 'I': '..', 'J': '.---', 'K': '-.-', 'L': '.-..',\n",
    "  'M': '--', 'N': '-.', 'O': '---', 'P': '.--.', 'Q': '--.-', 'R': '.-.',\n",
    "  'S': '...', 'T': '-', 'U': '..-', 'V': '...-', 'W': '.--', 'X': '-..-',\n",
    "  'Y': '-.--', 'Z': '--..', ' ': ' ', '0': '-----',\n",
    "  '1': '.----', '2': '..---', '3': '...--', '4': '....-', '5': '.....',\n",
    "  '6': '-....', '7': '--...', '8': '---..', '9': '----.',\n",
    "  '&': '.-...', \"'\": '.----.', '@': '.--.-.', ')': '-.--.-', '(': '-.--.',\n",
    "  ':': '---...', ',': '--..--', '=': '-...-', '!': '-.-.--', '.': '.-.-.-',\n",
    "  '-': '-....-', '+': '.-.-.', '\"': '.-..-.', '?': '..--..', '/': '-..-.'\n",
    "}\n",
    "def encode_morse(text):\n",
    "    text = text.upper()\n",
    "    new_form = []\n",
    "    for i in text:\n",
    "        for char, sym in char_to_dots.items():\n",
    "            if i == char:\n",
    "                new_form.append(sym)\n",
    "    print(' '.join(new_form))\n",
    "encode_morse('Ali17')"
   ]
  },
  {
   "cell_type": "markdown",
   "metadata": {},
   "source": [
    "6-2"
   ]
  },
  {
   "cell_type": "code",
   "execution_count": 3,
   "metadata": {},
   "outputs": [
    {
     "name": "stdout",
     "output_type": "stream",
     "text": [
      ".- .-.. ..\n"
     ]
    }
   ],
   "source": [
    "def encode_morse12(text):\n",
    "    text = text.upper()\n",
    "    new_form = [sym for i in text for char, sym in char_to_dots.items() if i == char]\n",
    "    print(' '.join(new_form))\n",
    "encode_morse12('Ali')    "
   ]
  },
  {
   "cell_type": "markdown",
   "metadata": {},
   "source": [
    "7"
   ]
  },
  {
   "cell_type": "code",
   "execution_count": 97,
   "metadata": {},
   "outputs": [
    {
     "name": "stdout",
     "output_type": "stream",
     "text": [
      "5\n",
      "6\n",
      "518\n"
     ]
    },
    {
     "data": {
      "text/plain": [
       "True"
      ]
     },
     "execution_count": 97,
     "metadata": {},
     "output_type": "execute_result"
    }
   ],
   "source": [
    "def is_disarium(son):\n",
    "    s = 0\n",
    "    son = str(son)\n",
    "    for i in son:\n",
    "        s += int(i) ** int(son.index(i)+1)\n",
    "        \n",
    "    if int(son) == s: \n",
    "        return True \n",
    "    else:\n",
    "        return False   \n",
    "is_disarium(518)\n"
   ]
  },
  {
   "cell_type": "markdown",
   "metadata": {},
   "source": [
    "8"
   ]
  },
  {
   "cell_type": "code",
   "execution_count": 131,
   "metadata": {},
   "outputs": [
    {
     "name": "stdout",
     "output_type": "stream",
     "text": [
      "1625\n"
     ]
    }
   ],
   "source": [
    "def bonus(art):\n",
    "    su = 0  \n",
    "    if art in range(0,33):\n",
    "        su =0\n",
    "    elif art in range(33, 41):\n",
    "        su += (art-32) * 325\n",
    "    elif art in range(41, 49):\n",
    "        su += (art -40)*550+ 8 * 325\n",
    "    elif art > 48:\n",
    "        su += (art - 48)*600 + 8*550 + 8*325\n",
    "      \n",
    "    print(su)  \n",
    "           \n",
    "    \n",
    "bonus(37)                                 "
   ]
  },
  {
   "cell_type": "markdown",
   "metadata": {},
   "source": [
    "8-2"
   ]
  },
  {
   "cell_type": "code",
   "execution_count": 134,
   "metadata": {},
   "outputs": [
    {
     "name": "stdout",
     "output_type": "stream",
     "text": [
      "1625\n"
     ]
    }
   ],
   "source": [
    "def bonus2(t):\n",
    "    pul = 0\n",
    "    for d in range(0,t+1):\n",
    "        if d in range(0,33):\n",
    "            pul +=0\n",
    "        elif d in range(33, 41):\n",
    "            pul +=325\n",
    "        elif d in range(41, 49):\n",
    "            pul +=550\n",
    "        elif d > 48:\n",
    "            pul +=600\n",
    "    print(pul)    \n",
    "bonus2(37)            "
   ]
  },
  {
   "cell_type": "markdown",
   "metadata": {},
   "source": [
    "TASK 01"
   ]
  },
  {
   "cell_type": "code",
   "execution_count": 31,
   "metadata": {},
   "outputs": [],
   "source": [
    "import shutil\n",
    "import os\n",
    "\n",
    "src = r'C:\\Users\\user\\Desktop\\PythonMaab\\TAsk\\Source'\n",
    "dest = r'C:\\Users\\user\\Desktop\\PythonMaab\\TAsk\\Destination'\n",
    "arch = r'C:\\Users\\user\\Desktop\\PythonMaab\\TAsk\\Archives'\n",
    "staging = r'C:\\Users\\user\\Desktop\\PythonMaab\\TAsk\\Stage'\n",
    "\n",
    "source_files = list(map(lambda x: (x,x.split('.')[0].split('_')[1]) , os.listdir(src)))\n",
    "source_files = { i[0]:i[1] for i in source_files}\n",
    "\n",
    "destination_files = list(map(lambda x: x.split('.')[0].split('_')[1] , os.listdir(dest)))\n",
    "\n",
    "arch_files = list(map(lambda x: x.split('.')[0].split('_')[1] , os.listdir(arch)))\n",
    "\n",
    "if not os.path.exists(staging):\n",
    "    os.mkdir(staging)\n",
    "\n",
    "for file, day in source_files.items():\n",
    "\n",
    "    if day not in destination_files:\n",
    "        with open(os.path.join(src,file)) as src_file:\n",
    "            text = src_file.read()\n",
    "\n",
    "        with open(f'{dest}\\\\file_{day}', 'a') as new_file:\n",
    "            new_file.write(text)\n",
    "\n",
    "    if day not in arch_files: \n",
    "        shutil.copy(os.path.join(src,file), os.path.join(staging,file))\n",
    "        arch_day =day\n",
    "            \n",
    "shutil.make_archive(f'{arch}\\\\archive_{arch_day}', 'zip', staging)\n",
    "shutil.rmtree(staging)"
   ]
  },
  {
   "cell_type": "code",
   "execution_count": null,
   "metadata": {},
   "outputs": [],
   "source": []
  }
 ],
 "metadata": {
  "kernelspec": {
   "display_name": "Python 3.10.6 64-bit",
   "language": "python",
   "name": "python3"
  },
  "language_info": {
   "codemirror_mode": {
    "name": "ipython",
    "version": 3
   },
   "file_extension": ".py",
   "mimetype": "text/x-python",
   "name": "python",
   "nbconvert_exporter": "python",
   "pygments_lexer": "ipython3",
   "version": "3.10.6"
  },
  "orig_nbformat": 4,
  "vscode": {
   "interpreter": {
    "hash": "fb4569285eef3a3450cb62085a5b1e0da4bce0af555edc33dcf29baf3acc1368"
   }
  }
 },
 "nbformat": 4,
 "nbformat_minor": 2
}
