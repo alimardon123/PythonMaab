{
 "cells": [
  {
   "attachments": {},
   "cell_type": "markdown",
   "metadata": {},
   "source": [
    "1"
   ]
  },
  {
   "cell_type": "code",
   "execution_count": 17,
   "metadata": {},
   "outputs": [],
   "source": [
    "with open('Class12/input.txt') as f:\n",
    "    input = f.readlines()\n",
    "\n",
    "inpu = [row.removesuffix('\\n') for row in input]\n",
    "inpu = {x.split(',')[0]:x.split(',')[1] for  x in inpu}\n",
    "\n",
    "txt = ''\n",
    "\n",
    "for let, num in inpu.items():\n",
    "    start =int(num.split('-')[0])\n",
    "    end =int(num.split('-')[-1]) + 1\n",
    "    for i in range(start, end):\n",
    "        txt += f\"{let}-{i}\\n\"\n",
    "\n",
    "txt = txt.removesuffix('\\n')\n",
    "\n",
    "with open('Class12/Output.txt', 'w') as o:\n",
    "    o.write(txt)\n"
   ]
  },
  {
   "cell_type": "markdown",
   "metadata": {},
   "source": [
    "2"
   ]
  },
  {
   "cell_type": "code",
   "execution_count": 31,
   "metadata": {},
   "outputs": [
    {
     "name": "stdout",
     "output_type": "stream",
     "text": [
      "2000\n"
     ]
    },
    {
     "data": {
      "text/plain": [
       "[Employe(Ismi: Ali, Familiyasi: Aliyev, Ish_tajribasi: 8 yil),\n",
       " Employe(Ismi: Bob, Familiyasi: Johnson, Ish_tajribasi: 5 yil)]"
      ]
     },
     "execution_count": 31,
     "metadata": {},
     "output_type": "execute_result"
    }
   ],
   "source": [
    "class Employe:\n",
    "    all = []\n",
    "    def __init__(self, Ism: str, Familiya: str, Ish_tajribasi: int):\n",
    "        '''Ish tajribasi yillarda kiriting, masalan 2 yil uchun 2 ni kiriting'''\n",
    "        self.Ism = Ism\n",
    "        self.Familiya = Familiya\n",
    "        self.Ish_tajribasi = Ish_tajribasi\n",
    "        \n",
    "        Employe.all.append(self)\n",
    "\n",
    "    def salary(self):\n",
    "        salary = 0\n",
    "        if 0 <= self.Ish_tajribasi <=1:\n",
    "            salary = 100\n",
    "        elif 2 <= self.Ish_tajribasi <=3:\n",
    "            salary = 500\n",
    "        elif 4 <= self.Ish_tajribasi <=6:\n",
    "            salary = 1000\n",
    "        elif 7 <= self.Ish_tajribasi <=10:\n",
    "            salary = 2000\n",
    "        else:\n",
    "            salary = 3000\n",
    "           \n",
    "        print(salary)\n",
    "    def __repr__(self):\n",
    "        return f\"Employe(Ismi: {self.Ism}, Familiyasi: {self.Familiya}, Ish_tajribasi: {self.Ish_tajribasi} yil)\"\n",
    "\n",
    "p1 = Employe('Ali', 'Aliyev', 8)\n",
    "p2 = Employe('Bob', 'Johnson', 5)\n",
    "p1.salary()\n",
    "p1.all\n",
    "\n"
   ]
  },
  {
   "cell_type": "markdown",
   "metadata": {},
   "source": [
    "3"
   ]
  },
  {
   "cell_type": "code",
   "execution_count": 14,
   "metadata": {},
   "outputs": [
    {
     "name": "stdout",
     "output_type": "stream",
     "text": [
      "abc_abcd_abcdeab_cdef_abcdefg\n"
     ]
    }
   ],
   "source": [
    "txt = 'abcabcdabcdeabcdefabcdefg'\n",
    "exce = ['a', 'o', 'u', 'e', 'i']\n",
    "cnt = 1\n",
    "output = ''\n",
    "\n",
    "for i in txt:\n",
    "    if (cnt >= 3) and (i not in exce) and (txt.index(i) != len(txt)-1):\n",
    "        output = output + i + '_'\n",
    "        exce.append(i)\n",
    "        cnt = 0\n",
    "    else:\n",
    "        output += i\n",
    "    cnt += 1\n",
    "print(output)                \n",
    "            \n"
   ]
  },
  {
   "cell_type": "markdown",
   "metadata": {},
   "source": [
    "4"
   ]
  },
  {
   "cell_type": "code",
   "execution_count": 16,
   "metadata": {},
   "outputs": [
    {
     "name": "stdout",
     "output_type": "stream",
     "text": [
      "['John', 'Jane1', 'Jane2', 'Shawn', 'Tom1', 'Tom2', 'Tom3']\n"
     ]
    }
   ],
   "source": [
    "names = ['John', 'Jane', 'Jane', 'Shawn', 'Tom', 'Tom', 'Tom']\n",
    "temp = []\n",
    "output = []\n",
    "for name in names:\n",
    "    if names.count(name) == 1:\n",
    "        temp.append(name)\n",
    "        output.append(name)\n",
    "    else:\n",
    "        temp.append(name)\n",
    "        output.append(f\"{name}{temp.count(name)}\")\n",
    "print(output)        "
   ]
  },
  {
   "cell_type": "code",
   "execution_count": null,
   "metadata": {},
   "outputs": [],
   "source": []
  }
 ],
 "metadata": {
  "kernelspec": {
   "display_name": "Python 3.10.6 64-bit",
   "language": "python",
   "name": "python3"
  },
  "language_info": {
   "codemirror_mode": {
    "name": "ipython",
    "version": 3
   },
   "file_extension": ".py",
   "mimetype": "text/x-python",
   "name": "python",
   "nbconvert_exporter": "python",
   "pygments_lexer": "ipython3",
   "version": "3.10.6"
  },
  "orig_nbformat": 4,
  "vscode": {
   "interpreter": {
    "hash": "fb4569285eef3a3450cb62085a5b1e0da4bce0af555edc33dcf29baf3acc1368"
   }
  }
 },
 "nbformat": 4,
 "nbformat_minor": 2
}
